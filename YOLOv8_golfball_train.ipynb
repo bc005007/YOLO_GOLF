{
 "cells": [
  {
   "cell_type": "code",
   "execution_count": null,
   "metadata": {},
   "outputs": [],
   "source": [
    "!git clone https://github.com/ultralytics/ultralytics"
   ]
  },
  {
   "cell_type": "code",
   "execution_count": null,
   "metadata": {},
   "outputs": [],
   "source": [
    "!pip install ultralytics"
   ]
  },
  {
   "cell_type": "code",
   "execution_count": null,
   "metadata": {},
   "outputs": [],
   "source": [
    "cd ultralytics"
   ]
  },
  {
   "cell_type": "code",
   "execution_count": null,
   "metadata": {},
   "outputs": [],
   "source": [
    "!pip install -r requirements.txt"
   ]
  },
  {
   "cell_type": "code",
   "execution_count": null,
   "metadata": {},
   "outputs": [],
   "source": [
    "cd .."
   ]
  },
  {
   "cell_type": "code",
   "execution_count": 1,
   "metadata": {},
   "outputs": [
    {
     "name": "stdout",
     "output_type": "stream",
     "text": [
      "/root/YOLO_GOLF\n"
     ]
    }
   ],
   "source": [
    "!pwd"
   ]
  },
  {
   "cell_type": "code",
   "execution_count": null,
   "metadata": {},
   "outputs": [],
   "source": [
    "import torch\n",
    "\n",
    "print(torch.cuda.memory_summary())\n",
    "torch.cuda.empty_cache()"
   ]
  },
  {
   "cell_type": "code",
   "execution_count": null,
   "metadata": {},
   "outputs": [],
   "source": [
    "import torch\n",
    "\n",
    "print(f\"PyTorch 버전: {torch.__version__}\")\n",
    "print(f\"CUDA 가능 여부: {torch.cuda.is_available()}\")\n",
    "print(f\"현재 사용 중인 CUDA 버전: {torch.version.cuda}\")\n",
    "print(f\"CUDNN 버전: {torch.backends.cudnn.version()}\")"
   ]
  },
  {
   "cell_type": "code",
   "execution_count": null,
   "metadata": {},
   "outputs": [],
   "source": [
    "!nvidia-smi"
   ]
  },
  {
   "cell_type": "code",
   "execution_count": null,
   "metadata": {},
   "outputs": [],
   "source": [
    "import torch\n",
    "print(torch.cuda.is_available())  # True가 출력되어야 GPU 사용 가능"
   ]
  },
  {
   "cell_type": "code",
   "execution_count": null,
   "metadata": {},
   "outputs": [],
   "source": [
    "# YOLOv8n 모델 다시 다운로드\n",
    "!wget https://github.com/ultralytics/assets/releases/download/v0.0.0/yolov8n.pt"
   ]
  },
  {
   "cell_type": "code",
   "execution_count": null,
   "metadata": {},
   "outputs": [],
   "source": [
    "import os\n",
    "dir = ['train', 'valid', 'test']\n",
    "\n",
    "def change_class_number(label_dir, new_class_number):\n",
    "    # 디렉토리 내 모든 .txt 파일을 순회\n",
    "    label_dir = f'/root/YOLO_GOLF/GolfBallDetector-10/{label_dir}/labels'\n",
    "    for label_file in os.listdir(label_dir):\n",
    "        if label_file.endswith('.txt'):\n",
    "            label_path = os.path.join(label_dir, label_file)\n",
    "\n",
    "            # 라벨 파일 읽기\n",
    "            with open(label_path, 'r') as file:\n",
    "                lines = file.readlines()\n",
    "\n",
    "            # 각 줄의 클래스 번호를 new_class_number로 변경\n",
    "            new_lines = []\n",
    "            for line in lines:\n",
    "                parts = line.strip().split()\n",
    "                if len(parts) > 0:\n",
    "                    parts[0] = str(new_class_number)  # 클래스 번호를 new_class_number로 변경\n",
    "                    new_lines.append(' '.join(parts))\n",
    "\n",
    "            # 수정된 내용을 다시 라벨 파일에 쓰기\n",
    "            with open(label_path, 'w') as file:\n",
    "                file.write('\\n'.join(new_lines) + '\\n')\n",
    "\n",
    "    print(f\"라벨링 번호가 모두 {new_class_number}로 변경되었습니다.\")\n",
    "\n",
    "for label_dir in dir:\n",
    "    change_class_number(label_dir, 0)"
   ]
  },
  {
   "cell_type": "markdown",
   "metadata": {},
   "source": [
    "# 추가 학습 실험 하시려면 여기만 건들이세요!!!"
   ]
  },
  {
   "cell_type": "code",
   "execution_count": 3,
   "metadata": {},
   "outputs": [
    {
     "name": "stdout",
     "output_type": "stream",
     "text": [
      "Ultralytics 8.3.27 🚀 Python-3.9.20 torch-2.5.1+cu124 CUDA:0 (NVIDIA GeForce RTX 4090, 24210MiB)\n",
      "\u001b[34m\u001b[1mengine/trainer: \u001b[0mtask=detect, mode=train, model=yolov8n.pt, data=./GolfBallDetector-10/data.yaml, epochs=100, time=None, patience=10, batch=8, imgsz=640, save=True, save_period=-1, cache=False, device=None, workers=8, project=None, name=yolov8n_golf_ball_100epoch_10patience2, exist_ok=False, pretrained=True, optimizer=auto, verbose=True, seed=0, deterministic=True, single_cls=False, rect=False, cos_lr=False, close_mosaic=10, resume=False, amp=True, fraction=1.0, profile=False, freeze=None, multi_scale=False, overlap_mask=True, mask_ratio=4, dropout=0.0, val=True, split=val, save_json=False, save_hybrid=False, conf=None, iou=0.7, max_det=300, half=False, dnn=False, plots=True, source=None, vid_stride=1, stream_buffer=False, visualize=False, augment=True, agnostic_nms=False, classes=None, retina_masks=False, embed=None, show=False, save_frames=False, save_txt=False, save_conf=False, save_crop=False, show_labels=True, show_conf=True, show_boxes=True, line_width=None, format=torchscript, keras=False, optimize=False, int8=False, dynamic=False, simplify=True, opset=None, workspace=4, nms=False, lr0=0.01, lrf=0.01, momentum=0.937, weight_decay=0.0005, warmup_epochs=3.0, warmup_momentum=0.8, warmup_bias_lr=0.1, box=7.5, cls=0.5, dfl=1.5, pose=12.0, kobj=1.0, label_smoothing=0.0, nbs=64, hsv_h=0.015, hsv_s=0.7, hsv_v=0.4, degrees=0.0, translate=0.1, scale=0.5, shear=0.0, perspective=0.0, flipud=0.0, fliplr=0.5, bgr=0.0, mosaic=1.0, mixup=0.0, copy_paste=0.0, copy_paste_mode=flip, auto_augment=randaugment, erasing=0.4, crop_fraction=1.0, cfg=None, tracker=botsort.yaml, save_dir=runs/detect/yolov8n_golf_ball_100epoch_10patience2\n",
      "Overriding model.yaml nc=80 with nc=1\n",
      "\n",
      "                   from  n    params  module                                       arguments                     \n",
      "  0                  -1  1       464  ultralytics.nn.modules.conv.Conv             [3, 16, 3, 2]                 \n"
     ]
    },
    {
     "name": "stdout",
     "output_type": "stream",
     "text": [
      "  1                  -1  1      4672  ultralytics.nn.modules.conv.Conv             [16, 32, 3, 2]                \n",
      "  2                  -1  1      7360  ultralytics.nn.modules.block.C2f             [32, 32, 1, True]             \n",
      "  3                  -1  1     18560  ultralytics.nn.modules.conv.Conv             [32, 64, 3, 2]                \n",
      "  4                  -1  2     49664  ultralytics.nn.modules.block.C2f             [64, 64, 2, True]             \n",
      "  5                  -1  1     73984  ultralytics.nn.modules.conv.Conv             [64, 128, 3, 2]               \n",
      "  6                  -1  2    197632  ultralytics.nn.modules.block.C2f             [128, 128, 2, True]           \n",
      "  7                  -1  1    295424  ultralytics.nn.modules.conv.Conv             [128, 256, 3, 2]              \n",
      "  8                  -1  1    460288  ultralytics.nn.modules.block.C2f             [256, 256, 1, True]           \n",
      "  9                  -1  1    164608  ultralytics.nn.modules.block.SPPF            [256, 256, 5]                 \n",
      " 10                  -1  1         0  torch.nn.modules.upsampling.Upsample         [None, 2, 'nearest']          \n",
      " 11             [-1, 6]  1         0  ultralytics.nn.modules.conv.Concat           [1]                           \n",
      " 12                  -1  1    148224  ultralytics.nn.modules.block.C2f             [384, 128, 1]                 \n",
      " 13                  -1  1         0  torch.nn.modules.upsampling.Upsample         [None, 2, 'nearest']          \n",
      " 14             [-1, 4]  1         0  ultralytics.nn.modules.conv.Concat           [1]                           \n",
      " 15                  -1  1     37248  ultralytics.nn.modules.block.C2f             [192, 64, 1]                  \n",
      " 16                  -1  1     36992  ultralytics.nn.modules.conv.Conv             [64, 64, 3, 2]                \n",
      " 17            [-1, 12]  1         0  ultralytics.nn.modules.conv.Concat           [1]                           \n",
      " 18                  -1  1    123648  ultralytics.nn.modules.block.C2f             [192, 128, 1]                 \n",
      " 19                  -1  1    147712  ultralytics.nn.modules.conv.Conv             [128, 128, 3, 2]              \n",
      " 20             [-1, 9]  1         0  ultralytics.nn.modules.conv.Concat           [1]                           \n",
      " 21                  -1  1    493056  ultralytics.nn.modules.block.C2f             [384, 256, 1]                 \n",
      " 22        [15, 18, 21]  1    751507  ultralytics.nn.modules.head.Detect           [1, [64, 128, 256]]           \n",
      "Model summary: 225 layers, 3,011,043 parameters, 3,011,027 gradients, 8.2 GFLOPs\n",
      "\n",
      "Transferred 319/355 items from pretrained weights\n",
      "\u001b[34m\u001b[1mTensorBoard: \u001b[0mStart with 'tensorboard --logdir runs/detect/yolov8n_golf_ball_100epoch_10patience2', view at http://localhost:6006/\n",
      "Freezing layer 'model.22.dfl.conv.weight'\n",
      "\u001b[34m\u001b[1mAMP: \u001b[0mrunning Automatic Mixed Precision (AMP) checks...\n",
      "\u001b[34m\u001b[1mAMP: \u001b[0mchecks passed ✅\n"
     ]
    },
    {
     "name": "stderr",
     "output_type": "stream",
     "text": [
      "\u001b[34m\u001b[1mtrain: \u001b[0mScanning /root/YOLO_GOLF/GolfBallDetector-10/train/labels.cache... 2198 images, 7 backgrounds, 0 corrupt: 100%|██████████| 2198/2198 [00:00<?, ?it/s]\n",
      "\u001b[34m\u001b[1mval: \u001b[0mScanning /root/YOLO_GOLF/GolfBallDetector-10/valid/labels.cache... 226 images, 1 backgrounds, 0 corrupt: 100%|██████████| 226/226 [00:00<?, ?it/s]\n"
     ]
    },
    {
     "name": "stdout",
     "output_type": "stream",
     "text": [
      "Plotting labels to runs/detect/yolov8n_golf_ball_100epoch_10patience2/labels.jpg... \n",
      "\u001b[34m\u001b[1moptimizer:\u001b[0m 'optimizer=auto' found, ignoring 'lr0=0.01' and 'momentum=0.937' and determining best 'optimizer', 'lr0' and 'momentum' automatically... \n",
      "\u001b[34m\u001b[1moptimizer:\u001b[0m AdamW(lr=0.002, momentum=0.9) with parameter groups 57 weight(decay=0.0), 64 weight(decay=0.0005), 63 bias(decay=0.0)\n",
      "\u001b[34m\u001b[1mTensorBoard: \u001b[0mmodel graph visualization added ✅\n",
      "Image sizes 640 train, 640 val\n",
      "Using 8 dataloader workers\n",
      "Logging results to \u001b[1mruns/detect/yolov8n_golf_ball_100epoch_10patience2\u001b[0m\n",
      "Starting training for 100 epochs...\n",
      "\n",
      "      Epoch    GPU_mem   box_loss   cls_loss   dfl_loss  Instances       Size\n"
     ]
    },
    {
     "name": "stderr",
     "output_type": "stream",
     "text": [
      "      1/100      1.26G       1.02      1.532      1.206         12        640: 100%|██████████| 275/275 [00:15<00:00, 18.21it/s]\n",
      "                 Class     Images  Instances      Box(P          R      mAP50  mAP50-95): 100%|██████████| 15/15 [00:00<00:00, 21.50it/s]"
     ]
    },
    {
     "name": "stdout",
     "output_type": "stream",
     "text": [
      "                   all        226        362      0.803      0.775      0.797      0.497\n"
     ]
    },
    {
     "name": "stderr",
     "output_type": "stream",
     "text": [
      "\n"
     ]
    },
    {
     "name": "stdout",
     "output_type": "stream",
     "text": [
      "\n",
      "      Epoch    GPU_mem   box_loss   cls_loss   dfl_loss  Instances       Size\n"
     ]
    },
    {
     "name": "stderr",
     "output_type": "stream",
     "text": [
      "      2/100      1.25G      1.073      1.174      1.233         15        640: 100%|██████████| 275/275 [00:12<00:00, 21.30it/s]\n",
      "                 Class     Images  Instances      Box(P          R      mAP50  mAP50-95): 100%|██████████| 15/15 [00:00<00:00, 22.83it/s]"
     ]
    },
    {
     "name": "stdout",
     "output_type": "stream",
     "text": [
      "                   all        226        362      0.858      0.769      0.829      0.576\n"
     ]
    },
    {
     "name": "stderr",
     "output_type": "stream",
     "text": [
      "\n"
     ]
    },
    {
     "name": "stdout",
     "output_type": "stream",
     "text": [
      "\n",
      "      Epoch    GPU_mem   box_loss   cls_loss   dfl_loss  Instances       Size\n"
     ]
    },
    {
     "name": "stderr",
     "output_type": "stream",
     "text": [
      "      3/100      1.24G      1.068      1.023      1.233         22        640: 100%|██████████| 275/275 [00:12<00:00, 21.66it/s]\n",
      "                 Class     Images  Instances      Box(P          R      mAP50  mAP50-95): 100%|██████████| 15/15 [00:00<00:00, 22.83it/s]"
     ]
    },
    {
     "name": "stdout",
     "output_type": "stream",
     "text": [
      "                   all        226        362       0.84      0.798      0.834       0.61\n"
     ]
    },
    {
     "name": "stderr",
     "output_type": "stream",
     "text": [
      "\n"
     ]
    },
    {
     "name": "stdout",
     "output_type": "stream",
     "text": [
      "\n",
      "      Epoch    GPU_mem   box_loss   cls_loss   dfl_loss  Instances       Size\n"
     ]
    },
    {
     "name": "stderr",
     "output_type": "stream",
     "text": [
      "      4/100      1.18G      1.043      0.945      1.221         20        640: 100%|██████████| 275/275 [00:12<00:00, 21.97it/s]\n",
      "                 Class     Images  Instances      Box(P          R      mAP50  mAP50-95): 100%|██████████| 15/15 [00:00<00:00, 22.70it/s]"
     ]
    },
    {
     "name": "stdout",
     "output_type": "stream",
     "text": [
      "                   all        226        362      0.897      0.829      0.845      0.624\n"
     ]
    },
    {
     "name": "stderr",
     "output_type": "stream",
     "text": [
      "\n"
     ]
    },
    {
     "name": "stdout",
     "output_type": "stream",
     "text": [
      "\n",
      "      Epoch    GPU_mem   box_loss   cls_loss   dfl_loss  Instances       Size\n"
     ]
    },
    {
     "name": "stderr",
     "output_type": "stream",
     "text": [
      "      5/100      1.21G      1.012     0.8857      1.196         10        640: 100%|██████████| 275/275 [00:12<00:00, 22.15it/s]\n",
      "                 Class     Images  Instances      Box(P          R      mAP50  mAP50-95): 100%|██████████| 15/15 [00:00<00:00, 23.75it/s]"
     ]
    },
    {
     "name": "stdout",
     "output_type": "stream",
     "text": [
      "                   all        226        362      0.879      0.826      0.863      0.608\n"
     ]
    },
    {
     "name": "stderr",
     "output_type": "stream",
     "text": [
      "\n"
     ]
    },
    {
     "name": "stdout",
     "output_type": "stream",
     "text": [
      "\n",
      "      Epoch    GPU_mem   box_loss   cls_loss   dfl_loss  Instances       Size\n"
     ]
    },
    {
     "name": "stderr",
     "output_type": "stream",
     "text": [
      "      6/100      1.26G     0.9967     0.8518      1.191         11        640: 100%|██████████| 275/275 [00:12<00:00, 22.16it/s]\n",
      "                 Class     Images  Instances      Box(P          R      mAP50  mAP50-95): 100%|██████████| 15/15 [00:00<00:00, 24.01it/s]"
     ]
    },
    {
     "name": "stdout",
     "output_type": "stream",
     "text": [
      "                   all        226        362      0.889      0.843      0.883      0.668\n"
     ]
    },
    {
     "name": "stderr",
     "output_type": "stream",
     "text": [
      "\n"
     ]
    },
    {
     "name": "stdout",
     "output_type": "stream",
     "text": [
      "\n",
      "      Epoch    GPU_mem   box_loss   cls_loss   dfl_loss  Instances       Size\n"
     ]
    },
    {
     "name": "stderr",
     "output_type": "stream",
     "text": [
      "      7/100      1.18G     0.9823     0.7748      1.184         19        640: 100%|██████████| 275/275 [00:12<00:00, 22.13it/s]\n",
      "                 Class     Images  Instances      Box(P          R      mAP50  mAP50-95): 100%|██████████| 15/15 [00:00<00:00, 23.78it/s]"
     ]
    },
    {
     "name": "stdout",
     "output_type": "stream",
     "text": [
      "                   all        226        362      0.886      0.813      0.862      0.635\n"
     ]
    },
    {
     "name": "stderr",
     "output_type": "stream",
     "text": [
      "\n"
     ]
    },
    {
     "name": "stdout",
     "output_type": "stream",
     "text": [
      "\n",
      "      Epoch    GPU_mem   box_loss   cls_loss   dfl_loss  Instances       Size\n"
     ]
    },
    {
     "name": "stderr",
     "output_type": "stream",
     "text": [
      "      8/100      1.29G     0.9568     0.7778      1.162         11        640: 100%|██████████| 275/275 [00:12<00:00, 22.50it/s]\n",
      "                 Class     Images  Instances      Box(P          R      mAP50  mAP50-95): 100%|██████████| 15/15 [00:00<00:00, 23.75it/s]"
     ]
    },
    {
     "name": "stdout",
     "output_type": "stream",
     "text": [
      "                   all        226        362        0.9      0.818      0.881      0.661\n"
     ]
    },
    {
     "name": "stderr",
     "output_type": "stream",
     "text": [
      "\n"
     ]
    },
    {
     "name": "stdout",
     "output_type": "stream",
     "text": [
      "\n",
      "      Epoch    GPU_mem   box_loss   cls_loss   dfl_loss  Instances       Size\n"
     ]
    },
    {
     "name": "stderr",
     "output_type": "stream",
     "text": [
      "      9/100      1.18G     0.9225     0.7462      1.146         17        640: 100%|██████████| 275/275 [00:12<00:00, 22.11it/s]\n",
      "                 Class     Images  Instances      Box(P          R      mAP50  mAP50-95): 100%|██████████| 15/15 [00:00<00:00, 23.49it/s]"
     ]
    },
    {
     "name": "stdout",
     "output_type": "stream",
     "text": [
      "                   all        226        362      0.942      0.856      0.903      0.681\n"
     ]
    },
    {
     "name": "stderr",
     "output_type": "stream",
     "text": [
      "\n"
     ]
    },
    {
     "name": "stdout",
     "output_type": "stream",
     "text": [
      "\n",
      "      Epoch    GPU_mem   box_loss   cls_loss   dfl_loss  Instances       Size\n"
     ]
    },
    {
     "name": "stderr",
     "output_type": "stream",
     "text": [
      "     10/100      1.18G     0.9297     0.7304      1.144         15        640: 100%|██████████| 275/275 [00:12<00:00, 22.09it/s]\n",
      "                 Class     Images  Instances      Box(P          R      mAP50  mAP50-95): 100%|██████████| 15/15 [00:00<00:00, 24.01it/s]"
     ]
    },
    {
     "name": "stdout",
     "output_type": "stream",
     "text": [
      "                   all        226        362      0.899      0.858      0.895      0.684\n"
     ]
    },
    {
     "name": "stderr",
     "output_type": "stream",
     "text": [
      "\n"
     ]
    },
    {
     "name": "stdout",
     "output_type": "stream",
     "text": [
      "\n",
      "      Epoch    GPU_mem   box_loss   cls_loss   dfl_loss  Instances       Size\n"
     ]
    },
    {
     "name": "stderr",
     "output_type": "stream",
     "text": [
      "     11/100      1.18G     0.9265      0.704      1.154         12        640: 100%|██████████| 275/275 [00:12<00:00, 22.09it/s]\n",
      "                 Class     Images  Instances      Box(P          R      mAP50  mAP50-95): 100%|██████████| 15/15 [00:00<00:00, 23.92it/s]"
     ]
    },
    {
     "name": "stdout",
     "output_type": "stream",
     "text": [
      "                   all        226        362       0.89      0.818      0.882      0.661\n"
     ]
    },
    {
     "name": "stderr",
     "output_type": "stream",
     "text": [
      "\n"
     ]
    },
    {
     "name": "stdout",
     "output_type": "stream",
     "text": [
      "\n",
      "      Epoch    GPU_mem   box_loss   cls_loss   dfl_loss  Instances       Size\n"
     ]
    },
    {
     "name": "stderr",
     "output_type": "stream",
     "text": [
      "     12/100      1.24G      0.896     0.6864      1.128          8        640: 100%|██████████| 275/275 [00:12<00:00, 22.19it/s]\n",
      "                 Class     Images  Instances      Box(P          R      mAP50  mAP50-95): 100%|██████████| 15/15 [00:00<00:00, 24.16it/s]"
     ]
    },
    {
     "name": "stdout",
     "output_type": "stream",
     "text": [
      "                   all        226        362      0.904      0.854      0.893      0.675\n"
     ]
    },
    {
     "name": "stderr",
     "output_type": "stream",
     "text": [
      "\n"
     ]
    },
    {
     "name": "stdout",
     "output_type": "stream",
     "text": [
      "\n",
      "      Epoch    GPU_mem   box_loss   cls_loss   dfl_loss  Instances       Size\n"
     ]
    },
    {
     "name": "stderr",
     "output_type": "stream",
     "text": [
      "     13/100      1.24G     0.9133     0.6955      1.142         15        640: 100%|██████████| 275/275 [00:12<00:00, 22.23it/s]\n",
      "                 Class     Images  Instances      Box(P          R      mAP50  mAP50-95): 100%|██████████| 15/15 [00:00<00:00, 24.27it/s]"
     ]
    },
    {
     "name": "stdout",
     "output_type": "stream",
     "text": [
      "                   all        226        362      0.931      0.852      0.907      0.708\n"
     ]
    },
    {
     "name": "stderr",
     "output_type": "stream",
     "text": [
      "\n"
     ]
    },
    {
     "name": "stdout",
     "output_type": "stream",
     "text": [
      "\n",
      "      Epoch    GPU_mem   box_loss   cls_loss   dfl_loss  Instances       Size\n"
     ]
    },
    {
     "name": "stderr",
     "output_type": "stream",
     "text": [
      "     14/100      1.18G     0.8812     0.6722      1.128         19        640: 100%|██████████| 275/275 [00:12<00:00, 22.66it/s]\n",
      "                 Class     Images  Instances      Box(P          R      mAP50  mAP50-95): 100%|██████████| 15/15 [00:00<00:00, 24.32it/s]"
     ]
    },
    {
     "name": "stdout",
     "output_type": "stream",
     "text": [
      "                   all        226        362      0.914       0.87      0.912      0.699\n"
     ]
    },
    {
     "name": "stderr",
     "output_type": "stream",
     "text": [
      "\n"
     ]
    },
    {
     "name": "stdout",
     "output_type": "stream",
     "text": [
      "\n",
      "      Epoch    GPU_mem   box_loss   cls_loss   dfl_loss  Instances       Size\n"
     ]
    },
    {
     "name": "stderr",
     "output_type": "stream",
     "text": [
      "     15/100       1.3G     0.8679     0.6477       1.12         12        640: 100%|██████████| 275/275 [00:12<00:00, 22.66it/s]\n",
      "                 Class     Images  Instances      Box(P          R      mAP50  mAP50-95): 100%|██████████| 15/15 [00:00<00:00, 24.67it/s]"
     ]
    },
    {
     "name": "stdout",
     "output_type": "stream",
     "text": [
      "                   all        226        362      0.932      0.872      0.915      0.707\n"
     ]
    },
    {
     "name": "stderr",
     "output_type": "stream",
     "text": [
      "\n"
     ]
    },
    {
     "name": "stdout",
     "output_type": "stream",
     "text": [
      "\n",
      "      Epoch    GPU_mem   box_loss   cls_loss   dfl_loss  Instances       Size\n"
     ]
    },
    {
     "name": "stderr",
     "output_type": "stream",
     "text": [
      "     16/100      1.24G     0.8679     0.6463      1.115         16        640: 100%|██████████| 275/275 [00:12<00:00, 22.66it/s]\n",
      "                 Class     Images  Instances      Box(P          R      mAP50  mAP50-95): 100%|██████████| 15/15 [00:00<00:00, 24.68it/s]"
     ]
    },
    {
     "name": "stdout",
     "output_type": "stream",
     "text": [
      "                   all        226        362      0.915      0.829      0.899      0.692\n"
     ]
    },
    {
     "name": "stderr",
     "output_type": "stream",
     "text": [
      "\n"
     ]
    },
    {
     "name": "stdout",
     "output_type": "stream",
     "text": [
      "\n",
      "      Epoch    GPU_mem   box_loss   cls_loss   dfl_loss  Instances       Size\n"
     ]
    },
    {
     "name": "stderr",
     "output_type": "stream",
     "text": [
      "     17/100      1.24G     0.8649     0.6461      1.118         15        640: 100%|██████████| 275/275 [00:12<00:00, 22.48it/s]\n",
      "                 Class     Images  Instances      Box(P          R      mAP50  mAP50-95): 100%|██████████| 15/15 [00:00<00:00, 24.43it/s]"
     ]
    },
    {
     "name": "stdout",
     "output_type": "stream",
     "text": [
      "                   all        226        362      0.901      0.892      0.912      0.699\n"
     ]
    },
    {
     "name": "stderr",
     "output_type": "stream",
     "text": [
      "\n"
     ]
    },
    {
     "name": "stdout",
     "output_type": "stream",
     "text": [
      "\n",
      "      Epoch    GPU_mem   box_loss   cls_loss   dfl_loss  Instances       Size\n"
     ]
    },
    {
     "name": "stderr",
     "output_type": "stream",
     "text": [
      "     18/100      1.23G     0.8549     0.6398      1.108         15        640: 100%|██████████| 275/275 [00:12<00:00, 22.70it/s]\n",
      "                 Class     Images  Instances      Box(P          R      mAP50  mAP50-95): 100%|██████████| 15/15 [00:00<00:00, 24.81it/s]"
     ]
    },
    {
     "name": "stdout",
     "output_type": "stream",
     "text": [
      "                   all        226        362      0.895      0.876      0.918      0.704\n"
     ]
    },
    {
     "name": "stderr",
     "output_type": "stream",
     "text": [
      "\n"
     ]
    },
    {
     "name": "stdout",
     "output_type": "stream",
     "text": [
      "\n",
      "      Epoch    GPU_mem   box_loss   cls_loss   dfl_loss  Instances       Size\n"
     ]
    },
    {
     "name": "stderr",
     "output_type": "stream",
     "text": [
      "     19/100      1.24G     0.8513     0.6124       1.11         12        640: 100%|██████████| 275/275 [00:12<00:00, 22.65it/s]\n",
      "                 Class     Images  Instances      Box(P          R      mAP50  mAP50-95): 100%|██████████| 15/15 [00:00<00:00, 24.44it/s]"
     ]
    },
    {
     "name": "stdout",
     "output_type": "stream",
     "text": [
      "                   all        226        362      0.918      0.892      0.915      0.706\n"
     ]
    },
    {
     "name": "stderr",
     "output_type": "stream",
     "text": [
      "\n"
     ]
    },
    {
     "name": "stdout",
     "output_type": "stream",
     "text": [
      "\n",
      "      Epoch    GPU_mem   box_loss   cls_loss   dfl_loss  Instances       Size\n"
     ]
    },
    {
     "name": "stderr",
     "output_type": "stream",
     "text": [
      "     20/100      1.18G      0.852     0.6081      1.109         32        640: 100%|██████████| 275/275 [00:11<00:00, 23.32it/s]\n",
      "                 Class     Images  Instances      Box(P          R      mAP50  mAP50-95): 100%|██████████| 15/15 [00:00<00:00, 24.54it/s]"
     ]
    },
    {
     "name": "stdout",
     "output_type": "stream",
     "text": [
      "                   all        226        362       0.92      0.884      0.921      0.712\n"
     ]
    },
    {
     "name": "stderr",
     "output_type": "stream",
     "text": [
      "\n"
     ]
    },
    {
     "name": "stdout",
     "output_type": "stream",
     "text": [
      "\n",
      "      Epoch    GPU_mem   box_loss   cls_loss   dfl_loss  Instances       Size\n"
     ]
    },
    {
     "name": "stderr",
     "output_type": "stream",
     "text": [
      "     21/100      1.15G     0.8478     0.6046       1.11         12        640: 100%|██████████| 275/275 [00:11<00:00, 23.11it/s]\n",
      "                 Class     Images  Instances      Box(P          R      mAP50  mAP50-95): 100%|██████████| 15/15 [00:00<00:00, 24.69it/s]"
     ]
    },
    {
     "name": "stdout",
     "output_type": "stream",
     "text": [
      "                   all        226        362       0.93      0.843      0.916      0.708\n"
     ]
    },
    {
     "name": "stderr",
     "output_type": "stream",
     "text": [
      "\n"
     ]
    },
    {
     "name": "stdout",
     "output_type": "stream",
     "text": [
      "\n",
      "      Epoch    GPU_mem   box_loss   cls_loss   dfl_loss  Instances       Size\n"
     ]
    },
    {
     "name": "stderr",
     "output_type": "stream",
     "text": [
      "     22/100      1.21G     0.8357     0.5881      1.093         16        640: 100%|██████████| 275/275 [00:12<00:00, 22.52it/s]\n",
      "                 Class     Images  Instances      Box(P          R      mAP50  mAP50-95): 100%|██████████| 15/15 [00:00<00:00, 24.20it/s]"
     ]
    },
    {
     "name": "stdout",
     "output_type": "stream",
     "text": [
      "                   all        226        362      0.878      0.873      0.922      0.706\n"
     ]
    },
    {
     "name": "stderr",
     "output_type": "stream",
     "text": [
      "\n"
     ]
    },
    {
     "name": "stdout",
     "output_type": "stream",
     "text": [
      "\n",
      "      Epoch    GPU_mem   box_loss   cls_loss   dfl_loss  Instances       Size\n"
     ]
    },
    {
     "name": "stderr",
     "output_type": "stream",
     "text": [
      "     23/100      1.18G     0.8273     0.5769      1.094         17        640: 100%|██████████| 275/275 [00:12<00:00, 22.41it/s]\n",
      "                 Class     Images  Instances      Box(P          R      mAP50  mAP50-95): 100%|██████████| 15/15 [00:00<00:00, 24.05it/s]"
     ]
    },
    {
     "name": "stdout",
     "output_type": "stream",
     "text": [
      "                   all        226        362       0.93      0.877      0.927      0.716\n"
     ]
    },
    {
     "name": "stderr",
     "output_type": "stream",
     "text": [
      "\n"
     ]
    },
    {
     "name": "stdout",
     "output_type": "stream",
     "text": [
      "\n",
      "      Epoch    GPU_mem   box_loss   cls_loss   dfl_loss  Instances       Size\n"
     ]
    },
    {
     "name": "stderr",
     "output_type": "stream",
     "text": [
      "     24/100      1.18G     0.8338     0.5927      1.096         18        640: 100%|██████████| 275/275 [00:12<00:00, 22.51it/s]\n",
      "                 Class     Images  Instances      Box(P          R      mAP50  mAP50-95): 100%|██████████| 15/15 [00:00<00:00, 23.29it/s]"
     ]
    },
    {
     "name": "stdout",
     "output_type": "stream",
     "text": [
      "                   all        226        362      0.886      0.903      0.936      0.728\n"
     ]
    },
    {
     "name": "stderr",
     "output_type": "stream",
     "text": [
      "\n"
     ]
    },
    {
     "name": "stdout",
     "output_type": "stream",
     "text": [
      "\n",
      "      Epoch    GPU_mem   box_loss   cls_loss   dfl_loss  Instances       Size\n"
     ]
    },
    {
     "name": "stderr",
     "output_type": "stream",
     "text": [
      "     25/100      1.18G     0.8278     0.5765      1.092         19        640: 100%|██████████| 275/275 [00:12<00:00, 22.54it/s]\n",
      "                 Class     Images  Instances      Box(P          R      mAP50  mAP50-95): 100%|██████████| 15/15 [00:00<00:00, 23.64it/s]"
     ]
    },
    {
     "name": "stdout",
     "output_type": "stream",
     "text": [
      "                   all        226        362      0.915      0.861      0.925      0.711\n"
     ]
    },
    {
     "name": "stderr",
     "output_type": "stream",
     "text": [
      "\n"
     ]
    },
    {
     "name": "stdout",
     "output_type": "stream",
     "text": [
      "\n",
      "      Epoch    GPU_mem   box_loss   cls_loss   dfl_loss  Instances       Size\n"
     ]
    },
    {
     "name": "stderr",
     "output_type": "stream",
     "text": [
      "     26/100      1.25G     0.8267     0.5769      1.097         13        640: 100%|██████████| 275/275 [00:12<00:00, 22.74it/s]\n",
      "                 Class     Images  Instances      Box(P          R      mAP50  mAP50-95): 100%|██████████| 15/15 [00:00<00:00, 23.82it/s]"
     ]
    },
    {
     "name": "stdout",
     "output_type": "stream",
     "text": [
      "                   all        226        362      0.942       0.87      0.933      0.722\n"
     ]
    },
    {
     "name": "stderr",
     "output_type": "stream",
     "text": [
      "\n"
     ]
    },
    {
     "name": "stdout",
     "output_type": "stream",
     "text": [
      "\n",
      "      Epoch    GPU_mem   box_loss   cls_loss   dfl_loss  Instances       Size\n"
     ]
    },
    {
     "name": "stderr",
     "output_type": "stream",
     "text": [
      "     27/100      1.18G     0.8275      0.575      1.091         10        640: 100%|██████████| 275/275 [00:12<00:00, 22.61it/s]\n",
      "                 Class     Images  Instances      Box(P          R      mAP50  mAP50-95): 100%|██████████| 15/15 [00:00<00:00, 23.90it/s]"
     ]
    },
    {
     "name": "stdout",
     "output_type": "stream",
     "text": [
      "                   all        226        362      0.934      0.843      0.914      0.729\n"
     ]
    },
    {
     "name": "stderr",
     "output_type": "stream",
     "text": [
      "\n"
     ]
    },
    {
     "name": "stdout",
     "output_type": "stream",
     "text": [
      "\n",
      "      Epoch    GPU_mem   box_loss   cls_loss   dfl_loss  Instances       Size\n"
     ]
    },
    {
     "name": "stderr",
     "output_type": "stream",
     "text": [
      "     28/100      1.23G     0.8016     0.5594      1.079         27        640: 100%|██████████| 275/275 [00:11<00:00, 23.39it/s]\n",
      "                 Class     Images  Instances      Box(P          R      mAP50  mAP50-95): 100%|██████████| 15/15 [00:00<00:00, 24.73it/s]"
     ]
    },
    {
     "name": "stdout",
     "output_type": "stream",
     "text": [
      "                   all        226        362      0.918       0.86      0.929      0.719\n"
     ]
    },
    {
     "name": "stderr",
     "output_type": "stream",
     "text": [
      "\n"
     ]
    },
    {
     "name": "stdout",
     "output_type": "stream",
     "text": [
      "\n",
      "      Epoch    GPU_mem   box_loss   cls_loss   dfl_loss  Instances       Size\n"
     ]
    },
    {
     "name": "stderr",
     "output_type": "stream",
     "text": [
      "     29/100      1.24G     0.8169     0.5615      1.082         21        640: 100%|██████████| 275/275 [00:11<00:00, 23.25it/s]\n",
      "                 Class     Images  Instances      Box(P          R      mAP50  mAP50-95): 100%|██████████| 15/15 [00:00<00:00, 24.18it/s]"
     ]
    },
    {
     "name": "stdout",
     "output_type": "stream",
     "text": [
      "                   all        226        362      0.905      0.862      0.918      0.721\n"
     ]
    },
    {
     "name": "stderr",
     "output_type": "stream",
     "text": [
      "\n"
     ]
    },
    {
     "name": "stdout",
     "output_type": "stream",
     "text": [
      "\n",
      "      Epoch    GPU_mem   box_loss   cls_loss   dfl_loss  Instances       Size\n"
     ]
    },
    {
     "name": "stderr",
     "output_type": "stream",
     "text": [
      "     30/100      1.25G     0.8108     0.5695      1.081         18        640: 100%|██████████| 275/275 [00:12<00:00, 22.54it/s]\n",
      "                 Class     Images  Instances      Box(P          R      mAP50  mAP50-95): 100%|██████████| 15/15 [00:00<00:00, 24.25it/s]"
     ]
    },
    {
     "name": "stdout",
     "output_type": "stream",
     "text": [
      "                   all        226        362       0.94      0.881      0.933      0.721\n"
     ]
    },
    {
     "name": "stderr",
     "output_type": "stream",
     "text": [
      "\n"
     ]
    },
    {
     "name": "stdout",
     "output_type": "stream",
     "text": [
      "\n",
      "      Epoch    GPU_mem   box_loss   cls_loss   dfl_loss  Instances       Size\n"
     ]
    },
    {
     "name": "stderr",
     "output_type": "stream",
     "text": [
      "     31/100      1.23G      0.811     0.5626      1.085         23        640: 100%|██████████| 275/275 [00:12<00:00, 22.65it/s]\n",
      "                 Class     Images  Instances      Box(P          R      mAP50  mAP50-95): 100%|██████████| 15/15 [00:00<00:00, 24.07it/s]"
     ]
    },
    {
     "name": "stdout",
     "output_type": "stream",
     "text": [
      "                   all        226        362      0.957      0.865      0.934      0.725\n"
     ]
    },
    {
     "name": "stderr",
     "output_type": "stream",
     "text": [
      "\n"
     ]
    },
    {
     "name": "stdout",
     "output_type": "stream",
     "text": [
      "\n",
      "      Epoch    GPU_mem   box_loss   cls_loss   dfl_loss  Instances       Size\n"
     ]
    },
    {
     "name": "stderr",
     "output_type": "stream",
     "text": [
      "     32/100      1.24G      0.793     0.5543      1.067         14        640: 100%|██████████| 275/275 [00:11<00:00, 23.36it/s]\n",
      "                 Class     Images  Instances      Box(P          R      mAP50  mAP50-95): 100%|██████████| 15/15 [00:00<00:00, 24.22it/s]"
     ]
    },
    {
     "name": "stdout",
     "output_type": "stream",
     "text": [
      "                   all        226        362      0.919      0.882      0.933      0.726\n"
     ]
    },
    {
     "name": "stderr",
     "output_type": "stream",
     "text": [
      "\n"
     ]
    },
    {
     "name": "stdout",
     "output_type": "stream",
     "text": [
      "\n",
      "      Epoch    GPU_mem   box_loss   cls_loss   dfl_loss  Instances       Size\n"
     ]
    },
    {
     "name": "stderr",
     "output_type": "stream",
     "text": [
      "     33/100      1.23G     0.7866       0.54      1.076          9        640: 100%|██████████| 275/275 [00:12<00:00, 22.40it/s]\n",
      "                 Class     Images  Instances      Box(P          R      mAP50  mAP50-95): 100%|██████████| 15/15 [00:00<00:00, 24.85it/s]"
     ]
    },
    {
     "name": "stdout",
     "output_type": "stream",
     "text": [
      "                   all        226        362      0.924      0.884      0.932      0.733\n"
     ]
    },
    {
     "name": "stderr",
     "output_type": "stream",
     "text": [
      "\n"
     ]
    },
    {
     "name": "stdout",
     "output_type": "stream",
     "text": [
      "\n",
      "      Epoch    GPU_mem   box_loss   cls_loss   dfl_loss  Instances       Size\n"
     ]
    },
    {
     "name": "stderr",
     "output_type": "stream",
     "text": [
      "     34/100      1.24G      0.794     0.5405      1.071         17        640: 100%|██████████| 275/275 [00:11<00:00, 23.00it/s]\n",
      "                 Class     Images  Instances      Box(P          R      mAP50  mAP50-95): 100%|██████████| 15/15 [00:00<00:00, 24.56it/s]"
     ]
    },
    {
     "name": "stdout",
     "output_type": "stream",
     "text": [
      "                   all        226        362      0.916      0.901      0.935      0.727\n"
     ]
    },
    {
     "name": "stderr",
     "output_type": "stream",
     "text": [
      "\n"
     ]
    },
    {
     "name": "stdout",
     "output_type": "stream",
     "text": [
      "\n",
      "      Epoch    GPU_mem   box_loss   cls_loss   dfl_loss  Instances       Size\n"
     ]
    },
    {
     "name": "stderr",
     "output_type": "stream",
     "text": [
      "     35/100      1.18G     0.7862     0.5316      1.066          8        640: 100%|██████████| 275/275 [00:11<00:00, 23.37it/s]\n",
      "                 Class     Images  Instances      Box(P          R      mAP50  mAP50-95): 100%|██████████| 15/15 [00:00<00:00, 23.64it/s]"
     ]
    },
    {
     "name": "stdout",
     "output_type": "stream",
     "text": [
      "                   all        226        362      0.936      0.884      0.929      0.726\n"
     ]
    },
    {
     "name": "stderr",
     "output_type": "stream",
     "text": [
      "\n"
     ]
    },
    {
     "name": "stdout",
     "output_type": "stream",
     "text": [
      "\n",
      "      Epoch    GPU_mem   box_loss   cls_loss   dfl_loss  Instances       Size\n"
     ]
    },
    {
     "name": "stderr",
     "output_type": "stream",
     "text": [
      "     36/100      1.18G     0.7857     0.5427      1.078         37        640: 100%|██████████| 275/275 [00:11<00:00, 23.23it/s]\n",
      "                 Class     Images  Instances      Box(P          R      mAP50  mAP50-95): 100%|██████████| 15/15 [00:00<00:00, 24.00it/s]"
     ]
    },
    {
     "name": "stdout",
     "output_type": "stream",
     "text": [
      "                   all        226        362      0.942      0.858      0.929       0.73\n"
     ]
    },
    {
     "name": "stderr",
     "output_type": "stream",
     "text": [
      "\n"
     ]
    },
    {
     "name": "stdout",
     "output_type": "stream",
     "text": [
      "\n",
      "      Epoch    GPU_mem   box_loss   cls_loss   dfl_loss  Instances       Size\n"
     ]
    },
    {
     "name": "stderr",
     "output_type": "stream",
     "text": [
      "     37/100      1.15G      0.774     0.5202      1.069         16        640: 100%|██████████| 275/275 [00:13<00:00, 21.10it/s]\n",
      "                 Class     Images  Instances      Box(P          R      mAP50  mAP50-95): 100%|██████████| 15/15 [00:00<00:00, 24.56it/s]"
     ]
    },
    {
     "name": "stdout",
     "output_type": "stream",
     "text": [
      "                   all        226        362      0.938      0.865      0.932      0.719\n"
     ]
    },
    {
     "name": "stderr",
     "output_type": "stream",
     "text": [
      "\n"
     ]
    },
    {
     "name": "stdout",
     "output_type": "stream",
     "text": [
      "\n",
      "      Epoch    GPU_mem   box_loss   cls_loss   dfl_loss  Instances       Size\n"
     ]
    },
    {
     "name": "stderr",
     "output_type": "stream",
     "text": [
      "     38/100      1.19G     0.7702     0.5145      1.065         18        640: 100%|██████████| 275/275 [00:12<00:00, 21.92it/s]\n",
      "                 Class     Images  Instances      Box(P          R      mAP50  mAP50-95): 100%|██████████| 15/15 [00:00<00:00, 24.30it/s]"
     ]
    },
    {
     "name": "stdout",
     "output_type": "stream",
     "text": [
      "                   all        226        362      0.943      0.873       0.94      0.741\n"
     ]
    },
    {
     "name": "stderr",
     "output_type": "stream",
     "text": [
      "\n"
     ]
    },
    {
     "name": "stdout",
     "output_type": "stream",
     "text": [
      "\n",
      "      Epoch    GPU_mem   box_loss   cls_loss   dfl_loss  Instances       Size\n"
     ]
    },
    {
     "name": "stderr",
     "output_type": "stream",
     "text": [
      "     39/100      1.18G     0.7756     0.5157      1.065          7        640: 100%|██████████| 275/275 [00:11<00:00, 23.03it/s]\n",
      "                 Class     Images  Instances      Box(P          R      mAP50  mAP50-95): 100%|██████████| 15/15 [00:00<00:00, 24.36it/s]"
     ]
    },
    {
     "name": "stdout",
     "output_type": "stream",
     "text": [
      "                   all        226        362      0.893       0.92       0.94      0.728\n"
     ]
    },
    {
     "name": "stderr",
     "output_type": "stream",
     "text": [
      "\n"
     ]
    },
    {
     "name": "stdout",
     "output_type": "stream",
     "text": [
      "\n",
      "      Epoch    GPU_mem   box_loss   cls_loss   dfl_loss  Instances       Size\n"
     ]
    },
    {
     "name": "stderr",
     "output_type": "stream",
     "text": [
      "     40/100      1.24G     0.7833     0.5209      1.064         15        640: 100%|██████████| 275/275 [00:11<00:00, 23.57it/s]\n",
      "                 Class     Images  Instances      Box(P          R      mAP50  mAP50-95): 100%|██████████| 15/15 [00:00<00:00, 24.40it/s]"
     ]
    },
    {
     "name": "stdout",
     "output_type": "stream",
     "text": [
      "                   all        226        362       0.93      0.884      0.943      0.749\n"
     ]
    },
    {
     "name": "stderr",
     "output_type": "stream",
     "text": [
      "\n"
     ]
    },
    {
     "name": "stdout",
     "output_type": "stream",
     "text": [
      "\n",
      "      Epoch    GPU_mem   box_loss   cls_loss   dfl_loss  Instances       Size\n"
     ]
    },
    {
     "name": "stderr",
     "output_type": "stream",
     "text": [
      "     41/100      1.18G     0.7668     0.5146       1.06         52        640: 100%|██████████| 275/275 [00:11<00:00, 23.42it/s]\n",
      "                 Class     Images  Instances      Box(P          R      mAP50  mAP50-95): 100%|██████████| 15/15 [00:00<00:00, 24.50it/s]"
     ]
    },
    {
     "name": "stdout",
     "output_type": "stream",
     "text": [
      "                   all        226        362      0.944      0.889      0.932      0.735\n"
     ]
    },
    {
     "name": "stderr",
     "output_type": "stream",
     "text": [
      "\n"
     ]
    },
    {
     "name": "stdout",
     "output_type": "stream",
     "text": [
      "\n",
      "      Epoch    GPU_mem   box_loss   cls_loss   dfl_loss  Instances       Size\n"
     ]
    },
    {
     "name": "stderr",
     "output_type": "stream",
     "text": [
      "     42/100      1.31G     0.7595     0.5055      1.059         21        640: 100%|██████████| 275/275 [00:11<00:00, 23.64it/s]\n",
      "                 Class     Images  Instances      Box(P          R      mAP50  mAP50-95): 100%|██████████| 15/15 [00:00<00:00, 24.51it/s]"
     ]
    },
    {
     "name": "stdout",
     "output_type": "stream",
     "text": [
      "                   all        226        362      0.915      0.895      0.942      0.747\n"
     ]
    },
    {
     "name": "stderr",
     "output_type": "stream",
     "text": [
      "\n"
     ]
    },
    {
     "name": "stdout",
     "output_type": "stream",
     "text": [
      "\n",
      "      Epoch    GPU_mem   box_loss   cls_loss   dfl_loss  Instances       Size\n"
     ]
    },
    {
     "name": "stderr",
     "output_type": "stream",
     "text": [
      "     43/100      1.18G     0.7812     0.5054      1.066         30        640: 100%|██████████| 275/275 [00:11<00:00, 23.61it/s]\n",
      "                 Class     Images  Instances      Box(P          R      mAP50  mAP50-95): 100%|██████████| 15/15 [00:00<00:00, 24.58it/s]"
     ]
    },
    {
     "name": "stdout",
     "output_type": "stream",
     "text": [
      "                   all        226        362      0.946      0.869      0.941      0.751\n"
     ]
    },
    {
     "name": "stderr",
     "output_type": "stream",
     "text": [
      "\n"
     ]
    },
    {
     "name": "stdout",
     "output_type": "stream",
     "text": [
      "\n",
      "      Epoch    GPU_mem   box_loss   cls_loss   dfl_loss  Instances       Size\n"
     ]
    },
    {
     "name": "stderr",
     "output_type": "stream",
     "text": [
      "     44/100      1.18G     0.7635     0.5086      1.056         12        640: 100%|██████████| 275/275 [00:11<00:00, 23.42it/s]\n",
      "                 Class     Images  Instances      Box(P          R      mAP50  mAP50-95): 100%|██████████| 15/15 [00:00<00:00, 24.11it/s]"
     ]
    },
    {
     "name": "stdout",
     "output_type": "stream",
     "text": [
      "                   all        226        362      0.929      0.895      0.939      0.738\n"
     ]
    },
    {
     "name": "stderr",
     "output_type": "stream",
     "text": [
      "\n"
     ]
    },
    {
     "name": "stdout",
     "output_type": "stream",
     "text": [
      "\n",
      "      Epoch    GPU_mem   box_loss   cls_loss   dfl_loss  Instances       Size\n"
     ]
    },
    {
     "name": "stderr",
     "output_type": "stream",
     "text": [
      "     45/100      1.18G     0.7497     0.4879      1.053         17        640: 100%|██████████| 275/275 [00:11<00:00, 23.66it/s]\n",
      "                 Class     Images  Instances      Box(P          R      mAP50  mAP50-95): 100%|██████████| 15/15 [00:00<00:00, 24.05it/s]"
     ]
    },
    {
     "name": "stdout",
     "output_type": "stream",
     "text": [
      "                   all        226        362      0.906      0.906      0.947      0.751\n"
     ]
    },
    {
     "name": "stderr",
     "output_type": "stream",
     "text": [
      "\n"
     ]
    },
    {
     "name": "stdout",
     "output_type": "stream",
     "text": [
      "\n",
      "      Epoch    GPU_mem   box_loss   cls_loss   dfl_loss  Instances       Size\n"
     ]
    },
    {
     "name": "stderr",
     "output_type": "stream",
     "text": [
      "     46/100      1.31G     0.7455     0.4874      1.059         12        640: 100%|██████████| 275/275 [00:11<00:00, 23.01it/s]\n",
      "                 Class     Images  Instances      Box(P          R      mAP50  mAP50-95): 100%|██████████| 15/15 [00:00<00:00, 24.36it/s]"
     ]
    },
    {
     "name": "stdout",
     "output_type": "stream",
     "text": [
      "                   all        226        362      0.899      0.913      0.937      0.743\n"
     ]
    },
    {
     "name": "stderr",
     "output_type": "stream",
     "text": [
      "\n"
     ]
    },
    {
     "name": "stdout",
     "output_type": "stream",
     "text": [
      "\n",
      "      Epoch    GPU_mem   box_loss   cls_loss   dfl_loss  Instances       Size\n"
     ]
    },
    {
     "name": "stderr",
     "output_type": "stream",
     "text": [
      "     47/100      1.18G     0.7501     0.4886      1.053         12        640: 100%|██████████| 275/275 [00:12<00:00, 22.57it/s]\n",
      "                 Class     Images  Instances      Box(P          R      mAP50  mAP50-95): 100%|██████████| 15/15 [00:00<00:00, 24.76it/s]"
     ]
    },
    {
     "name": "stdout",
     "output_type": "stream",
     "text": [
      "                   all        226        362      0.971      0.845      0.938      0.743\n"
     ]
    },
    {
     "name": "stderr",
     "output_type": "stream",
     "text": [
      "\n"
     ]
    },
    {
     "name": "stdout",
     "output_type": "stream",
     "text": [
      "\n",
      "      Epoch    GPU_mem   box_loss   cls_loss   dfl_loss  Instances       Size\n"
     ]
    },
    {
     "name": "stderr",
     "output_type": "stream",
     "text": [
      "     48/100      1.18G     0.7448     0.4804      1.052         20        640: 100%|██████████| 275/275 [00:11<00:00, 23.03it/s]\n",
      "                 Class     Images  Instances      Box(P          R      mAP50  mAP50-95): 100%|██████████| 15/15 [00:00<00:00, 24.31it/s]"
     ]
    },
    {
     "name": "stdout",
     "output_type": "stream",
     "text": [
      "                   all        226        362      0.923       0.92      0.957      0.763\n"
     ]
    },
    {
     "name": "stderr",
     "output_type": "stream",
     "text": [
      "\n"
     ]
    },
    {
     "name": "stdout",
     "output_type": "stream",
     "text": [
      "\n",
      "      Epoch    GPU_mem   box_loss   cls_loss   dfl_loss  Instances       Size\n"
     ]
    },
    {
     "name": "stderr",
     "output_type": "stream",
     "text": [
      "     49/100      1.24G     0.7398     0.4781      1.054         17        640: 100%|██████████| 275/275 [00:12<00:00, 22.41it/s]\n",
      "                 Class     Images  Instances      Box(P          R      mAP50  mAP50-95): 100%|██████████| 15/15 [00:00<00:00, 24.73it/s]"
     ]
    },
    {
     "name": "stdout",
     "output_type": "stream",
     "text": [
      "                   all        226        362      0.924      0.912      0.955      0.747\n"
     ]
    },
    {
     "name": "stderr",
     "output_type": "stream",
     "text": [
      "\n"
     ]
    },
    {
     "name": "stdout",
     "output_type": "stream",
     "text": [
      "\n",
      "      Epoch    GPU_mem   box_loss   cls_loss   dfl_loss  Instances       Size\n"
     ]
    },
    {
     "name": "stderr",
     "output_type": "stream",
     "text": [
      "     50/100      1.18G     0.7365     0.4858      1.052         22        640: 100%|██████████| 275/275 [00:12<00:00, 22.27it/s]\n",
      "                 Class     Images  Instances      Box(P          R      mAP50  mAP50-95): 100%|██████████| 15/15 [00:00<00:00, 24.62it/s]"
     ]
    },
    {
     "name": "stdout",
     "output_type": "stream",
     "text": [
      "                   all        226        362      0.924      0.895      0.949      0.756\n"
     ]
    },
    {
     "name": "stderr",
     "output_type": "stream",
     "text": [
      "\n"
     ]
    },
    {
     "name": "stdout",
     "output_type": "stream",
     "text": [
      "\n",
      "      Epoch    GPU_mem   box_loss   cls_loss   dfl_loss  Instances       Size\n"
     ]
    },
    {
     "name": "stderr",
     "output_type": "stream",
     "text": [
      "     51/100      1.18G     0.7402     0.4761      1.043         17        640: 100%|██████████| 275/275 [00:12<00:00, 22.20it/s]\n",
      "                 Class     Images  Instances      Box(P          R      mAP50  mAP50-95): 100%|██████████| 15/15 [00:00<00:00, 24.78it/s]"
     ]
    },
    {
     "name": "stdout",
     "output_type": "stream",
     "text": [
      "                   all        226        362       0.94      0.867      0.943      0.735\n"
     ]
    },
    {
     "name": "stderr",
     "output_type": "stream",
     "text": [
      "\n"
     ]
    },
    {
     "name": "stdout",
     "output_type": "stream",
     "text": [
      "\n",
      "      Epoch    GPU_mem   box_loss   cls_loss   dfl_loss  Instances       Size\n"
     ]
    },
    {
     "name": "stderr",
     "output_type": "stream",
     "text": [
      "     52/100      1.18G     0.7414     0.4651      1.042         17        640: 100%|██████████| 275/275 [00:12<00:00, 22.05it/s]\n",
      "                 Class     Images  Instances      Box(P          R      mAP50  mAP50-95): 100%|██████████| 15/15 [00:00<00:00, 24.69it/s]"
     ]
    },
    {
     "name": "stdout",
     "output_type": "stream",
     "text": [
      "                   all        226        362      0.953      0.847      0.927      0.738\n"
     ]
    },
    {
     "name": "stderr",
     "output_type": "stream",
     "text": [
      "\n"
     ]
    },
    {
     "name": "stdout",
     "output_type": "stream",
     "text": [
      "\n",
      "      Epoch    GPU_mem   box_loss   cls_loss   dfl_loss  Instances       Size\n"
     ]
    },
    {
     "name": "stderr",
     "output_type": "stream",
     "text": [
      "     53/100      1.24G     0.7347     0.4636      1.037         19        640: 100%|██████████| 275/275 [00:12<00:00, 22.19it/s]\n",
      "                 Class     Images  Instances      Box(P          R      mAP50  mAP50-95): 100%|██████████| 15/15 [00:00<00:00, 24.66it/s]"
     ]
    },
    {
     "name": "stdout",
     "output_type": "stream",
     "text": [
      "                   all        226        362      0.931       0.87      0.935      0.753\n"
     ]
    },
    {
     "name": "stderr",
     "output_type": "stream",
     "text": [
      "\n"
     ]
    },
    {
     "name": "stdout",
     "output_type": "stream",
     "text": [
      "\n",
      "      Epoch    GPU_mem   box_loss   cls_loss   dfl_loss  Instances       Size\n"
     ]
    },
    {
     "name": "stderr",
     "output_type": "stream",
     "text": [
      "     54/100      1.24G     0.7278     0.4681      1.043         30        640: 100%|██████████| 275/275 [00:12<00:00, 22.21it/s]\n",
      "                 Class     Images  Instances      Box(P          R      mAP50  mAP50-95): 100%|██████████| 15/15 [00:00<00:00, 24.65it/s]"
     ]
    },
    {
     "name": "stdout",
     "output_type": "stream",
     "text": [
      "                   all        226        362      0.958      0.876       0.94      0.748\n"
     ]
    },
    {
     "name": "stderr",
     "output_type": "stream",
     "text": [
      "\n"
     ]
    },
    {
     "name": "stdout",
     "output_type": "stream",
     "text": [
      "\n",
      "      Epoch    GPU_mem   box_loss   cls_loss   dfl_loss  Instances       Size\n"
     ]
    },
    {
     "name": "stderr",
     "output_type": "stream",
     "text": [
      "     55/100      1.18G     0.7276     0.4627      1.046         15        640: 100%|██████████| 275/275 [00:11<00:00, 22.95it/s]\n",
      "                 Class     Images  Instances      Box(P          R      mAP50  mAP50-95): 100%|██████████| 15/15 [00:00<00:00, 24.09it/s]"
     ]
    },
    {
     "name": "stdout",
     "output_type": "stream",
     "text": [
      "                   all        226        362      0.924      0.903      0.952      0.754\n"
     ]
    },
    {
     "name": "stderr",
     "output_type": "stream",
     "text": [
      "\n"
     ]
    },
    {
     "name": "stdout",
     "output_type": "stream",
     "text": [
      "\n",
      "      Epoch    GPU_mem   box_loss   cls_loss   dfl_loss  Instances       Size\n"
     ]
    },
    {
     "name": "stderr",
     "output_type": "stream",
     "text": [
      "     56/100      1.24G     0.7203     0.4649      1.035         16        640: 100%|██████████| 275/275 [00:12<00:00, 22.75it/s]\n",
      "                 Class     Images  Instances      Box(P          R      mAP50  mAP50-95): 100%|██████████| 15/15 [00:00<00:00, 23.90it/s]"
     ]
    },
    {
     "name": "stdout",
     "output_type": "stream",
     "text": [
      "                   all        226        362      0.924      0.903      0.953       0.76\n"
     ]
    },
    {
     "name": "stderr",
     "output_type": "stream",
     "text": [
      "\n"
     ]
    },
    {
     "name": "stdout",
     "output_type": "stream",
     "text": [
      "\n",
      "      Epoch    GPU_mem   box_loss   cls_loss   dfl_loss  Instances       Size\n"
     ]
    },
    {
     "name": "stderr",
     "output_type": "stream",
     "text": [
      "     57/100      1.18G     0.7124     0.4525      1.031         18        640: 100%|██████████| 275/275 [00:12<00:00, 22.91it/s]\n",
      "                 Class     Images  Instances      Box(P          R      mAP50  mAP50-95): 100%|██████████| 15/15 [00:00<00:00, 23.89it/s]"
     ]
    },
    {
     "name": "stdout",
     "output_type": "stream",
     "text": [
      "                   all        226        362      0.932      0.906      0.958       0.76\n"
     ]
    },
    {
     "name": "stderr",
     "output_type": "stream",
     "text": [
      "\n"
     ]
    },
    {
     "name": "stdout",
     "output_type": "stream",
     "text": [
      "\n",
      "      Epoch    GPU_mem   box_loss   cls_loss   dfl_loss  Instances       Size\n"
     ]
    },
    {
     "name": "stderr",
     "output_type": "stream",
     "text": [
      "     58/100      1.24G     0.7273     0.4666      1.043         10        640: 100%|██████████| 275/275 [00:11<00:00, 22.96it/s]\n",
      "                 Class     Images  Instances      Box(P          R      mAP50  mAP50-95): 100%|██████████| 15/15 [00:00<00:00, 23.72it/s]"
     ]
    },
    {
     "name": "stdout",
     "output_type": "stream",
     "text": [
      "                   all        226        362      0.898      0.917      0.955      0.762\n",
      "\u001b[34m\u001b[1mEarlyStopping: \u001b[0mTraining stopped early as no improvement observed in last 10 epochs. Best results observed at epoch 48, best model saved as best.pt.\n",
      "To update EarlyStopping(patience=10) pass a new patience value, i.e. `patience=300` or use `patience=0` to disable EarlyStopping.\n"
     ]
    },
    {
     "name": "stderr",
     "output_type": "stream",
     "text": [
      "\n"
     ]
    },
    {
     "name": "stdout",
     "output_type": "stream",
     "text": [
      "\n",
      "58 epochs completed in 0.213 hours.\n",
      "Optimizer stripped from runs/detect/yolov8n_golf_ball_100epoch_10patience2/weights/last.pt, 6.3MB\n",
      "Optimizer stripped from runs/detect/yolov8n_golf_ball_100epoch_10patience2/weights/best.pt, 6.3MB\n",
      "\n",
      "Validating runs/detect/yolov8n_golf_ball_100epoch_10patience2/weights/best.pt...\n",
      "Ultralytics 8.3.27 🚀 Python-3.9.20 torch-2.5.1+cu124 CUDA:0 (NVIDIA GeForce RTX 4090, 24210MiB)\n",
      "Model summary (fused): 168 layers, 3,005,843 parameters, 0 gradients, 8.1 GFLOPs\n"
     ]
    },
    {
     "name": "stderr",
     "output_type": "stream",
     "text": [
      "                 Class     Images  Instances      Box(P          R      mAP50  mAP50-95): 100%|██████████| 15/15 [00:01<00:00, 11.07it/s]\n"
     ]
    },
    {
     "name": "stdout",
     "output_type": "stream",
     "text": [
      "                   all        226        362      0.943      0.901      0.955      0.757\n",
      "Speed: 0.1ms preprocess, 3.7ms inference, 0.0ms loss, 0.5ms postprocess per image\n",
      "Results saved to \u001b[1mruns/detect/yolov8n_golf_ball_100epoch_10patience2\u001b[0m\n"
     ]
    },
    {
     "data": {
      "text/plain": [
       "ultralytics.utils.metrics.DetMetrics object with attributes:\n",
       "\n",
       "ap_class_index: array([0])\n",
       "box: ultralytics.utils.metrics.Metric object\n",
       "confusion_matrix: <ultralytics.utils.metrics.ConfusionMatrix object at 0x7e9af67c5df0>\n",
       "curves: ['Precision-Recall(B)', 'F1-Confidence(B)', 'Precision-Confidence(B)', 'Recall-Confidence(B)']\n",
       "curves_results: [[array([          0,    0.001001,    0.002002,    0.003003,    0.004004,    0.005005,    0.006006,    0.007007,    0.008008,    0.009009,     0.01001,    0.011011,    0.012012,    0.013013,    0.014014,    0.015015,    0.016016,    0.017017,    0.018018,    0.019019,     0.02002,    0.021021,    0.022022,    0.023023,\n",
       "          0.024024,    0.025025,    0.026026,    0.027027,    0.028028,    0.029029,     0.03003,    0.031031,    0.032032,    0.033033,    0.034034,    0.035035,    0.036036,    0.037037,    0.038038,    0.039039,     0.04004,    0.041041,    0.042042,    0.043043,    0.044044,    0.045045,    0.046046,    0.047047,\n",
       "          0.048048,    0.049049,     0.05005,    0.051051,    0.052052,    0.053053,    0.054054,    0.055055,    0.056056,    0.057057,    0.058058,    0.059059,     0.06006,    0.061061,    0.062062,    0.063063,    0.064064,    0.065065,    0.066066,    0.067067,    0.068068,    0.069069,     0.07007,    0.071071,\n",
       "          0.072072,    0.073073,    0.074074,    0.075075,    0.076076,    0.077077,    0.078078,    0.079079,     0.08008,    0.081081,    0.082082,    0.083083,    0.084084,    0.085085,    0.086086,    0.087087,    0.088088,    0.089089,     0.09009,    0.091091,    0.092092,    0.093093,    0.094094,    0.095095,\n",
       "          0.096096,    0.097097,    0.098098,    0.099099,      0.1001,      0.1011,      0.1021,      0.1031,      0.1041,     0.10511,     0.10611,     0.10711,     0.10811,     0.10911,     0.11011,     0.11111,     0.11211,     0.11311,     0.11411,     0.11512,     0.11612,     0.11712,     0.11812,     0.11912,\n",
       "           0.12012,     0.12112,     0.12212,     0.12312,     0.12412,     0.12513,     0.12613,     0.12713,     0.12813,     0.12913,     0.13013,     0.13113,     0.13213,     0.13313,     0.13413,     0.13514,     0.13614,     0.13714,     0.13814,     0.13914,     0.14014,     0.14114,     0.14214,     0.14314,\n",
       "           0.14414,     0.14515,     0.14615,     0.14715,     0.14815,     0.14915,     0.15015,     0.15115,     0.15215,     0.15315,     0.15415,     0.15516,     0.15616,     0.15716,     0.15816,     0.15916,     0.16016,     0.16116,     0.16216,     0.16316,     0.16416,     0.16517,     0.16617,     0.16717,\n",
       "           0.16817,     0.16917,     0.17017,     0.17117,     0.17217,     0.17317,     0.17417,     0.17518,     0.17618,     0.17718,     0.17818,     0.17918,     0.18018,     0.18118,     0.18218,     0.18318,     0.18418,     0.18519,     0.18619,     0.18719,     0.18819,     0.18919,     0.19019,     0.19119,\n",
       "           0.19219,     0.19319,     0.19419,      0.1952,      0.1962,      0.1972,      0.1982,      0.1992,      0.2002,      0.2012,      0.2022,      0.2032,      0.2042,     0.20521,     0.20621,     0.20721,     0.20821,     0.20921,     0.21021,     0.21121,     0.21221,     0.21321,     0.21421,     0.21522,\n",
       "           0.21622,     0.21722,     0.21822,     0.21922,     0.22022,     0.22122,     0.22222,     0.22322,     0.22422,     0.22523,     0.22623,     0.22723,     0.22823,     0.22923,     0.23023,     0.23123,     0.23223,     0.23323,     0.23423,     0.23524,     0.23624,     0.23724,     0.23824,     0.23924,\n",
       "           0.24024,     0.24124,     0.24224,     0.24324,     0.24424,     0.24525,     0.24625,     0.24725,     0.24825,     0.24925,     0.25025,     0.25125,     0.25225,     0.25325,     0.25425,     0.25526,     0.25626,     0.25726,     0.25826,     0.25926,     0.26026,     0.26126,     0.26226,     0.26326,\n",
       "           0.26426,     0.26527,     0.26627,     0.26727,     0.26827,     0.26927,     0.27027,     0.27127,     0.27227,     0.27327,     0.27427,     0.27528,     0.27628,     0.27728,     0.27828,     0.27928,     0.28028,     0.28128,     0.28228,     0.28328,     0.28428,     0.28529,     0.28629,     0.28729,\n",
       "           0.28829,     0.28929,     0.29029,     0.29129,     0.29229,     0.29329,     0.29429,      0.2953,      0.2963,      0.2973,      0.2983,      0.2993,      0.3003,      0.3013,      0.3023,      0.3033,      0.3043,     0.30531,     0.30631,     0.30731,     0.30831,     0.30931,     0.31031,     0.31131,\n",
       "           0.31231,     0.31331,     0.31431,     0.31532,     0.31632,     0.31732,     0.31832,     0.31932,     0.32032,     0.32132,     0.32232,     0.32332,     0.32432,     0.32533,     0.32633,     0.32733,     0.32833,     0.32933,     0.33033,     0.33133,     0.33233,     0.33333,     0.33433,     0.33534,\n",
       "           0.33634,     0.33734,     0.33834,     0.33934,     0.34034,     0.34134,     0.34234,     0.34334,     0.34434,     0.34535,     0.34635,     0.34735,     0.34835,     0.34935,     0.35035,     0.35135,     0.35235,     0.35335,     0.35435,     0.35536,     0.35636,     0.35736,     0.35836,     0.35936,\n",
       "           0.36036,     0.36136,     0.36236,     0.36336,     0.36436,     0.36537,     0.36637,     0.36737,     0.36837,     0.36937,     0.37037,     0.37137,     0.37237,     0.37337,     0.37437,     0.37538,     0.37638,     0.37738,     0.37838,     0.37938,     0.38038,     0.38138,     0.38238,     0.38338,\n",
       "           0.38438,     0.38539,     0.38639,     0.38739,     0.38839,     0.38939,     0.39039,     0.39139,     0.39239,     0.39339,     0.39439,      0.3954,      0.3964,      0.3974,      0.3984,      0.3994,      0.4004,      0.4014,      0.4024,      0.4034,      0.4044,     0.40541,     0.40641,     0.40741,\n",
       "           0.40841,     0.40941,     0.41041,     0.41141,     0.41241,     0.41341,     0.41441,     0.41542,     0.41642,     0.41742,     0.41842,     0.41942,     0.42042,     0.42142,     0.42242,     0.42342,     0.42442,     0.42543,     0.42643,     0.42743,     0.42843,     0.42943,     0.43043,     0.43143,\n",
       "           0.43243,     0.43343,     0.43443,     0.43544,     0.43644,     0.43744,     0.43844,     0.43944,     0.44044,     0.44144,     0.44244,     0.44344,     0.44444,     0.44545,     0.44645,     0.44745,     0.44845,     0.44945,     0.45045,     0.45145,     0.45245,     0.45345,     0.45445,     0.45546,\n",
       "           0.45646,     0.45746,     0.45846,     0.45946,     0.46046,     0.46146,     0.46246,     0.46346,     0.46446,     0.46547,     0.46647,     0.46747,     0.46847,     0.46947,     0.47047,     0.47147,     0.47247,     0.47347,     0.47447,     0.47548,     0.47648,     0.47748,     0.47848,     0.47948,\n",
       "           0.48048,     0.48148,     0.48248,     0.48348,     0.48448,     0.48549,     0.48649,     0.48749,     0.48849,     0.48949,     0.49049,     0.49149,     0.49249,     0.49349,     0.49449,      0.4955,      0.4965,      0.4975,      0.4985,      0.4995,      0.5005,      0.5015,      0.5025,      0.5035,\n",
       "            0.5045,     0.50551,     0.50651,     0.50751,     0.50851,     0.50951,     0.51051,     0.51151,     0.51251,     0.51351,     0.51451,     0.51552,     0.51652,     0.51752,     0.51852,     0.51952,     0.52052,     0.52152,     0.52252,     0.52352,     0.52452,     0.52553,     0.52653,     0.52753,\n",
       "           0.52853,     0.52953,     0.53053,     0.53153,     0.53253,     0.53353,     0.53453,     0.53554,     0.53654,     0.53754,     0.53854,     0.53954,     0.54054,     0.54154,     0.54254,     0.54354,     0.54454,     0.54555,     0.54655,     0.54755,     0.54855,     0.54955,     0.55055,     0.55155,\n",
       "           0.55255,     0.55355,     0.55455,     0.55556,     0.55656,     0.55756,     0.55856,     0.55956,     0.56056,     0.56156,     0.56256,     0.56356,     0.56456,     0.56557,     0.56657,     0.56757,     0.56857,     0.56957,     0.57057,     0.57157,     0.57257,     0.57357,     0.57457,     0.57558,\n",
       "           0.57658,     0.57758,     0.57858,     0.57958,     0.58058,     0.58158,     0.58258,     0.58358,     0.58458,     0.58559,     0.58659,     0.58759,     0.58859,     0.58959,     0.59059,     0.59159,     0.59259,     0.59359,     0.59459,      0.5956,      0.5966,      0.5976,      0.5986,      0.5996,\n",
       "            0.6006,      0.6016,      0.6026,      0.6036,      0.6046,     0.60561,     0.60661,     0.60761,     0.60861,     0.60961,     0.61061,     0.61161,     0.61261,     0.61361,     0.61461,     0.61562,     0.61662,     0.61762,     0.61862,     0.61962,     0.62062,     0.62162,     0.62262,     0.62362,\n",
       "           0.62462,     0.62563,     0.62663,     0.62763,     0.62863,     0.62963,     0.63063,     0.63163,     0.63263,     0.63363,     0.63463,     0.63564,     0.63664,     0.63764,     0.63864,     0.63964,     0.64064,     0.64164,     0.64264,     0.64364,     0.64464,     0.64565,     0.64665,     0.64765,\n",
       "           0.64865,     0.64965,     0.65065,     0.65165,     0.65265,     0.65365,     0.65465,     0.65566,     0.65666,     0.65766,     0.65866,     0.65966,     0.66066,     0.66166,     0.66266,     0.66366,     0.66466,     0.66567,     0.66667,     0.66767,     0.66867,     0.66967,     0.67067,     0.67167,\n",
       "           0.67267,     0.67367,     0.67467,     0.67568,     0.67668,     0.67768,     0.67868,     0.67968,     0.68068,     0.68168,     0.68268,     0.68368,     0.68468,     0.68569,     0.68669,     0.68769,     0.68869,     0.68969,     0.69069,     0.69169,     0.69269,     0.69369,     0.69469,      0.6957,\n",
       "            0.6967,      0.6977,      0.6987,      0.6997,      0.7007,      0.7017,      0.7027,      0.7037,      0.7047,     0.70571,     0.70671,     0.70771,     0.70871,     0.70971,     0.71071,     0.71171,     0.71271,     0.71371,     0.71471,     0.71572,     0.71672,     0.71772,     0.71872,     0.71972,\n",
       "           0.72072,     0.72172,     0.72272,     0.72372,     0.72472,     0.72573,     0.72673,     0.72773,     0.72873,     0.72973,     0.73073,     0.73173,     0.73273,     0.73373,     0.73473,     0.73574,     0.73674,     0.73774,     0.73874,     0.73974,     0.74074,     0.74174,     0.74274,     0.74374,\n",
       "           0.74474,     0.74575,     0.74675,     0.74775,     0.74875,     0.74975,     0.75075,     0.75175,     0.75275,     0.75375,     0.75475,     0.75576,     0.75676,     0.75776,     0.75876,     0.75976,     0.76076,     0.76176,     0.76276,     0.76376,     0.76476,     0.76577,     0.76677,     0.76777,\n",
       "           0.76877,     0.76977,     0.77077,     0.77177,     0.77277,     0.77377,     0.77477,     0.77578,     0.77678,     0.77778,     0.77878,     0.77978,     0.78078,     0.78178,     0.78278,     0.78378,     0.78478,     0.78579,     0.78679,     0.78779,     0.78879,     0.78979,     0.79079,     0.79179,\n",
       "           0.79279,     0.79379,     0.79479,      0.7958,      0.7968,      0.7978,      0.7988,      0.7998,      0.8008,      0.8018,      0.8028,      0.8038,      0.8048,     0.80581,     0.80681,     0.80781,     0.80881,     0.80981,     0.81081,     0.81181,     0.81281,     0.81381,     0.81481,     0.81582,\n",
       "           0.81682,     0.81782,     0.81882,     0.81982,     0.82082,     0.82182,     0.82282,     0.82382,     0.82482,     0.82583,     0.82683,     0.82783,     0.82883,     0.82983,     0.83083,     0.83183,     0.83283,     0.83383,     0.83483,     0.83584,     0.83684,     0.83784,     0.83884,     0.83984,\n",
       "           0.84084,     0.84184,     0.84284,     0.84384,     0.84484,     0.84585,     0.84685,     0.84785,     0.84885,     0.84985,     0.85085,     0.85185,     0.85285,     0.85385,     0.85485,     0.85586,     0.85686,     0.85786,     0.85886,     0.85986,     0.86086,     0.86186,     0.86286,     0.86386,\n",
       "           0.86486,     0.86587,     0.86687,     0.86787,     0.86887,     0.86987,     0.87087,     0.87187,     0.87287,     0.87387,     0.87487,     0.87588,     0.87688,     0.87788,     0.87888,     0.87988,     0.88088,     0.88188,     0.88288,     0.88388,     0.88488,     0.88589,     0.88689,     0.88789,\n",
       "           0.88889,     0.88989,     0.89089,     0.89189,     0.89289,     0.89389,     0.89489,      0.8959,      0.8969,      0.8979,      0.8989,      0.8999,      0.9009,      0.9019,      0.9029,      0.9039,      0.9049,     0.90591,     0.90691,     0.90791,     0.90891,     0.90991,     0.91091,     0.91191,\n",
       "           0.91291,     0.91391,     0.91491,     0.91592,     0.91692,     0.91792,     0.91892,     0.91992,     0.92092,     0.92192,     0.92292,     0.92392,     0.92492,     0.92593,     0.92693,     0.92793,     0.92893,     0.92993,     0.93093,     0.93193,     0.93293,     0.93393,     0.93493,     0.93594,\n",
       "           0.93694,     0.93794,     0.93894,     0.93994,     0.94094,     0.94194,     0.94294,     0.94394,     0.94494,     0.94595,     0.94695,     0.94795,     0.94895,     0.94995,     0.95095,     0.95195,     0.95295,     0.95395,     0.95495,     0.95596,     0.95696,     0.95796,     0.95896,     0.95996,\n",
       "           0.96096,     0.96196,     0.96296,     0.96396,     0.96496,     0.96597,     0.96697,     0.96797,     0.96897,     0.96997,     0.97097,     0.97197,     0.97297,     0.97397,     0.97497,     0.97598,     0.97698,     0.97798,     0.97898,     0.97998,     0.98098,     0.98198,     0.98298,     0.98398,\n",
       "           0.98498,     0.98599,     0.98699,     0.98799,     0.98899,     0.98999,     0.99099,     0.99199,     0.99299,     0.99399,     0.99499,       0.996,       0.997,       0.998,       0.999,           1]), array([[          1,           1,           1,           1,           1,           1,           1,           1,           1,           1,           1,           1,           1,           1,           1,           1,           1,           1,           1,           1,           1,           1,           1,\n",
       "                  1,           1,           1,           1,           1,           1,           1,           1,           1,           1,           1,           1,           1,           1,           1,           1,           1,           1,           1,           1,           1,           1,           1,\n",
       "                  1,           1,           1,           1,           1,           1,           1,           1,           1,           1,           1,           1,           1,           1,           1,           1,           1,           1,           1,           1,           1,           1,           1,\n",
       "                  1,           1,           1,           1,           1,           1,           1,           1,           1,           1,           1,           1,           1,           1,           1,           1,           1,           1,           1,           1,           1,           1,           1,\n",
       "                  1,           1,           1,           1,           1,           1,           1,           1,           1,           1,           1,           1,           1,           1,           1,           1,           1,           1,           1,           1,           1,           1,           1,\n",
       "                  1,           1,           1,           1,           1,           1,           1,           1,           1,           1,           1,           1,           1,           1,           1,           1,           1,           1,           1,           1,           1,           1,           1,\n",
       "                  1,           1,           1,           1,           1,           1,           1,           1,           1,           1,           1,           1,           1,           1,           1,           1,           1,           1,           1,           1,           1,           1,           1,\n",
       "                  1,           1,           1,           1,           1,           1,           1,           1,           1,           1,           1,           1,           1,           1,           1,           1,           1,           1,           1,           1,           1,           1,           1,\n",
       "                  1,           1,           1,           1,           1,           1,           1,           1,           1,           1,           1,           1,           1,           1,           1,           1,           1,           1,           1,           1,           1,           1,           1,\n",
       "                  1,           1,           1,           1,           1,           1,           1,           1,           1,           1,           1,           1,           1,           1,           1,           1,           1,           1,           1,           1,           1,           1,           1,\n",
       "                  1,           1,           1,           1,           1,           1,           1,           1,           1,           1,           1,           1,           1,           1,           1,           1,           1,           1,           1,           1,           1,           1,           1,\n",
       "                  1,           1,           1,           1,           1,           1,           1,           1,           1,           1,           1,           1,           1,           1,           1,           1,           1,           1,           1,           1,           1,           1,           1,\n",
       "                  1,           1,           1,           1,           1,           1,           1,           1,           1,           1,           1,           1,           1,           1,           1,           1,           1,           1,           1,           1,           1,           1,           1,\n",
       "                  1,           1,           1,           1,           1,           1,           1,           1,           1,           1,           1,           1,           1,           1,           1,           1,           1,           1,           1,           1,           1,           1,           1,\n",
       "                  1,           1,           1,           1,           1,           1,           1,           1,           1,           1,           1,           1,           1,           1,           1,           1,           1,           1,           1,           1,           1,           1,           1,\n",
       "                  1,           1,           1,           1,           1,           1,           1,           1,           1,           1,           1,           1,           1,           1,           1,           1,           1,           1,           1,           1,           1,           1,           1,\n",
       "                  1,           1,           1,           1,           1,           1,           1,           1,           1,           1,           1,           1,           1,           1,           1,           1,           1,           1,           1,           1,           1,           1,           1,\n",
       "                  1,           1,           1,           1,           1,           1,           1,           1,           1,           1,           1,           1,           1,           1,           1,           1,           1,           1,           1,           1,           1,           1,           1,\n",
       "                  1,           1,           1,           1,           1,           1,           1,           1,           1,           1,           1,           1,           1,           1,           1,           1,           1,           1,           1,           1,           1,           1,           1,\n",
       "                  1,           1,           1,           1,           1,           1,           1,           1,           1,           1,           1,           1,           1,           1,           1,           1,           1,           1,           1,           1,           1,           1,           1,\n",
       "                  1,           1,           1,           1,           1,           1,           1,           1,           1,           1,     0.99468,     0.99468,     0.99468,     0.99468,     0.99468,     0.99468,     0.99468,     0.99468,     0.99468,     0.99468,     0.99468,     0.99468,     0.99468,\n",
       "            0.99468,     0.99468,     0.99468,     0.99468,     0.99468,     0.99468,     0.99468,     0.99468,     0.99468,     0.99468,     0.99468,     0.99468,     0.99468,     0.99468,     0.99468,     0.99468,     0.99468,     0.99468,     0.99468,     0.99468,     0.99468,     0.99468,     0.99468,\n",
       "            0.99468,     0.99468,     0.99468,     0.99468,     0.99468,     0.99468,     0.99468,     0.99468,     0.99468,     0.99468,     0.99468,     0.99005,     0.99005,     0.99005,     0.99005,     0.99005,     0.99005,     0.99005,     0.99005,     0.99005,     0.99005,     0.99005,     0.99005,\n",
       "            0.99005,     0.99005,     0.99005,     0.99005,     0.99005,     0.99005,     0.99005,     0.99005,     0.99005,     0.99005,     0.99005,     0.99005,     0.99005,     0.99005,     0.99005,     0.99005,     0.99005,     0.99005,     0.99005,     0.99005,     0.99005,     0.98639,     0.98639,\n",
       "            0.98639,     0.98639,     0.98639,     0.98639,     0.98639,     0.98639,     0.98639,     0.98639,     0.98639,     0.98639,     0.98639,     0.98639,     0.98639,     0.98639,     0.98639,     0.98639,     0.98639,     0.98639,     0.98639,     0.98639,     0.98639,     0.98639,     0.98639,\n",
       "            0.98639,     0.98639,     0.98639,     0.98639,     0.98639,     0.98639,     0.98639,     0.98639,     0.98639,     0.98639,     0.98639,     0.98639,     0.98639,     0.98639,     0.98639,     0.98639,     0.98639,     0.98639,     0.98639,     0.98639,     0.98639,     0.98639,     0.98639,\n",
       "            0.98639,     0.98639,     0.98639,     0.98639,     0.98639,     0.98639,     0.98639,     0.98639,     0.98639,     0.98639,     0.98639,     0.98639,     0.98639,     0.98639,     0.98639,     0.98639,     0.98639,     0.98639,     0.98639,     0.98639,     0.98639,     0.98639,     0.98639,\n",
       "            0.98639,     0.98639,     0.98639,     0.98639,     0.98639,     0.98639,     0.98639,     0.98639,     0.98639,     0.98639,     0.98639,     0.98639,     0.98639,     0.98639,     0.98639,     0.98639,     0.98639,     0.98639,     0.98639,     0.98639,     0.98639,     0.98639,     0.98639,\n",
       "            0.98639,     0.98639,     0.98639,     0.98639,     0.98639,     0.98639,     0.98639,     0.98639,     0.98639,     0.98639,     0.98639,     0.98639,     0.98639,     0.98639,     0.98639,     0.98639,     0.98639,     0.98639,     0.98639,     0.98639,     0.98639,     0.98639,     0.98639,\n",
       "            0.98639,     0.98639,     0.98639,     0.98639,     0.98639,     0.98639,     0.98639,     0.98639,     0.98639,     0.98639,     0.98639,     0.98639,     0.98639,     0.98639,     0.98639,     0.98639,     0.98639,     0.98639,     0.98639,     0.98639,     0.98639,     0.98639,     0.98639,\n",
       "            0.98639,     0.98639,     0.98639,     0.98639,     0.98639,     0.98639,     0.98639,     0.98639,     0.98639,     0.98639,     0.98639,     0.98639,     0.98639,     0.98639,     0.98639,     0.98639,     0.98639,     0.98639,     0.98639,     0.98639,     0.98639,     0.98639,     0.98639,\n",
       "            0.98639,     0.98639,     0.98639,     0.98639,     0.98639,     0.98639,     0.98639,     0.98639,     0.98639,     0.98639,     0.98639,     0.98639,     0.98639,     0.98639,     0.98639,     0.98639,     0.98639,     0.98639,     0.98639,     0.98639,     0.98639,     0.98639,     0.98639,\n",
       "            0.98639,     0.98639,     0.98639,     0.98639,     0.98639,     0.98639,     0.98639,     0.98639,     0.98639,     0.98639,     0.98639,     0.98639,     0.98639,     0.98639,     0.98639,     0.98639,     0.98639,     0.98639,     0.98639,     0.98639,     0.98639,     0.98639,     0.98639,\n",
       "            0.98639,     0.98639,     0.98639,     0.98639,     0.98639,     0.98639,     0.98639,     0.98639,     0.98639,     0.98639,     0.98639,     0.98639,     0.98639,     0.98639,     0.98639,     0.98639,     0.98639,     0.98639,     0.98639,     0.98639,     0.98639,     0.98639,     0.98639,\n",
       "            0.98639,     0.98639,     0.98639,     0.98639,     0.98639,     0.98639,     0.98639,     0.98639,     0.98639,     0.98639,     0.98639,     0.98639,     0.98639,     0.98639,     0.98639,     0.98639,     0.98639,     0.98639,     0.98639,     0.98311,     0.98311,     0.98311,     0.97993,\n",
       "            0.97993,     0.97993,     0.97993,     0.97993,     0.97386,     0.97386,     0.97386,     0.97386,     0.97386,     0.97386,     0.97386,     0.97386,     0.97386,     0.97386,     0.97386,     0.97386,     0.97386,     0.97386,     0.96562,     0.96562,     0.96562,     0.96562,     0.96562,\n",
       "            0.96562,     0.96562,     0.96562,     0.96562,     0.96562,     0.96562,     0.96562,     0.96562,     0.96562,     0.96562,     0.96562,     0.96562,     0.96562,     0.96562,     0.96562,     0.96562,     0.96562,     0.96562,     0.96562,     0.96562,     0.96562,     0.96562,     0.96562,\n",
       "            0.96562,     0.96562,      0.9633,      0.9633,      0.9633,      0.9633,      0.9633,      0.9633,      0.9633,      0.9633,      0.9633,      0.9633,      0.9633,      0.9633,      0.9633,      0.9633,      0.9633,      0.9633,      0.9633,     0.96073,     0.96073,     0.96073,     0.96073,\n",
       "            0.96073,     0.96073,     0.96073,     0.96073,     0.95549,     0.95549,     0.95549,     0.95549,     0.95549,     0.95549,     0.95549,     0.95549,     0.95549,     0.95549,     0.95549,     0.95029,     0.95029,     0.95029,     0.95029,     0.95029,     0.95029,     0.95029,     0.95029,\n",
       "            0.94767,     0.94767,     0.94767,     0.93966,     0.93966,     0.93966,     0.93714,     0.93714,     0.93714,     0.93484,     0.93484,     0.93484,     0.93484,     0.93484,     0.92737,     0.92737,     0.92737,     0.92737,     0.92737,     0.92737,       0.925,       0.925,     0.91507,\n",
       "            0.91507,     0.91507,     0.91081,     0.91081,     0.91081,     0.91081,     0.91081,     0.91081,     0.91081,     0.91081,     0.91081,     0.90617,     0.90617,     0.88052,     0.88052,     0.88052,     0.86294,     0.86294,     0.86294,     0.84826,     0.84826,     0.84826,     0.83619,\n",
       "            0.83619,     0.82651,     0.82651,     0.82651,     0.82494,     0.82494,     0.82494,     0.80607,     0.80607,     0.80607,      0.8051,      0.8051,      0.8051,      0.8051,      0.8051,     0.78733,     0.78733,     0.78733,     0.76535,     0.76535,     0.76535,         0.7,         0.7,\n",
       "            0.63357,     0.63357,     0.63357,     0.48619,     0.48619,     0.48619,     0.16457,     0.16457,     0.16457,     0.11227,     0.11227,    0.082807,    0.079043,     0.07528,    0.071516,    0.067752,    0.063988,    0.060224,     0.05646,    0.052696,    0.048932,    0.045168,    0.041404,\n",
       "            0.03764,    0.033876,    0.030112,    0.026348,    0.022584,     0.01882,    0.015056,    0.011292,    0.007528,    0.003764,           0]]), 'Recall', 'Precision'], [array([          0,    0.001001,    0.002002,    0.003003,    0.004004,    0.005005,    0.006006,    0.007007,    0.008008,    0.009009,     0.01001,    0.011011,    0.012012,    0.013013,    0.014014,    0.015015,    0.016016,    0.017017,    0.018018,    0.019019,     0.02002,    0.021021,    0.022022,    0.023023,\n",
       "          0.024024,    0.025025,    0.026026,    0.027027,    0.028028,    0.029029,     0.03003,    0.031031,    0.032032,    0.033033,    0.034034,    0.035035,    0.036036,    0.037037,    0.038038,    0.039039,     0.04004,    0.041041,    0.042042,    0.043043,    0.044044,    0.045045,    0.046046,    0.047047,\n",
       "          0.048048,    0.049049,     0.05005,    0.051051,    0.052052,    0.053053,    0.054054,    0.055055,    0.056056,    0.057057,    0.058058,    0.059059,     0.06006,    0.061061,    0.062062,    0.063063,    0.064064,    0.065065,    0.066066,    0.067067,    0.068068,    0.069069,     0.07007,    0.071071,\n",
       "          0.072072,    0.073073,    0.074074,    0.075075,    0.076076,    0.077077,    0.078078,    0.079079,     0.08008,    0.081081,    0.082082,    0.083083,    0.084084,    0.085085,    0.086086,    0.087087,    0.088088,    0.089089,     0.09009,    0.091091,    0.092092,    0.093093,    0.094094,    0.095095,\n",
       "          0.096096,    0.097097,    0.098098,    0.099099,      0.1001,      0.1011,      0.1021,      0.1031,      0.1041,     0.10511,     0.10611,     0.10711,     0.10811,     0.10911,     0.11011,     0.11111,     0.11211,     0.11311,     0.11411,     0.11512,     0.11612,     0.11712,     0.11812,     0.11912,\n",
       "           0.12012,     0.12112,     0.12212,     0.12312,     0.12412,     0.12513,     0.12613,     0.12713,     0.12813,     0.12913,     0.13013,     0.13113,     0.13213,     0.13313,     0.13413,     0.13514,     0.13614,     0.13714,     0.13814,     0.13914,     0.14014,     0.14114,     0.14214,     0.14314,\n",
       "           0.14414,     0.14515,     0.14615,     0.14715,     0.14815,     0.14915,     0.15015,     0.15115,     0.15215,     0.15315,     0.15415,     0.15516,     0.15616,     0.15716,     0.15816,     0.15916,     0.16016,     0.16116,     0.16216,     0.16316,     0.16416,     0.16517,     0.16617,     0.16717,\n",
       "           0.16817,     0.16917,     0.17017,     0.17117,     0.17217,     0.17317,     0.17417,     0.17518,     0.17618,     0.17718,     0.17818,     0.17918,     0.18018,     0.18118,     0.18218,     0.18318,     0.18418,     0.18519,     0.18619,     0.18719,     0.18819,     0.18919,     0.19019,     0.19119,\n",
       "           0.19219,     0.19319,     0.19419,      0.1952,      0.1962,      0.1972,      0.1982,      0.1992,      0.2002,      0.2012,      0.2022,      0.2032,      0.2042,     0.20521,     0.20621,     0.20721,     0.20821,     0.20921,     0.21021,     0.21121,     0.21221,     0.21321,     0.21421,     0.21522,\n",
       "           0.21622,     0.21722,     0.21822,     0.21922,     0.22022,     0.22122,     0.22222,     0.22322,     0.22422,     0.22523,     0.22623,     0.22723,     0.22823,     0.22923,     0.23023,     0.23123,     0.23223,     0.23323,     0.23423,     0.23524,     0.23624,     0.23724,     0.23824,     0.23924,\n",
       "           0.24024,     0.24124,     0.24224,     0.24324,     0.24424,     0.24525,     0.24625,     0.24725,     0.24825,     0.24925,     0.25025,     0.25125,     0.25225,     0.25325,     0.25425,     0.25526,     0.25626,     0.25726,     0.25826,     0.25926,     0.26026,     0.26126,     0.26226,     0.26326,\n",
       "           0.26426,     0.26527,     0.26627,     0.26727,     0.26827,     0.26927,     0.27027,     0.27127,     0.27227,     0.27327,     0.27427,     0.27528,     0.27628,     0.27728,     0.27828,     0.27928,     0.28028,     0.28128,     0.28228,     0.28328,     0.28428,     0.28529,     0.28629,     0.28729,\n",
       "           0.28829,     0.28929,     0.29029,     0.29129,     0.29229,     0.29329,     0.29429,      0.2953,      0.2963,      0.2973,      0.2983,      0.2993,      0.3003,      0.3013,      0.3023,      0.3033,      0.3043,     0.30531,     0.30631,     0.30731,     0.30831,     0.30931,     0.31031,     0.31131,\n",
       "           0.31231,     0.31331,     0.31431,     0.31532,     0.31632,     0.31732,     0.31832,     0.31932,     0.32032,     0.32132,     0.32232,     0.32332,     0.32432,     0.32533,     0.32633,     0.32733,     0.32833,     0.32933,     0.33033,     0.33133,     0.33233,     0.33333,     0.33433,     0.33534,\n",
       "           0.33634,     0.33734,     0.33834,     0.33934,     0.34034,     0.34134,     0.34234,     0.34334,     0.34434,     0.34535,     0.34635,     0.34735,     0.34835,     0.34935,     0.35035,     0.35135,     0.35235,     0.35335,     0.35435,     0.35536,     0.35636,     0.35736,     0.35836,     0.35936,\n",
       "           0.36036,     0.36136,     0.36236,     0.36336,     0.36436,     0.36537,     0.36637,     0.36737,     0.36837,     0.36937,     0.37037,     0.37137,     0.37237,     0.37337,     0.37437,     0.37538,     0.37638,     0.37738,     0.37838,     0.37938,     0.38038,     0.38138,     0.38238,     0.38338,\n",
       "           0.38438,     0.38539,     0.38639,     0.38739,     0.38839,     0.38939,     0.39039,     0.39139,     0.39239,     0.39339,     0.39439,      0.3954,      0.3964,      0.3974,      0.3984,      0.3994,      0.4004,      0.4014,      0.4024,      0.4034,      0.4044,     0.40541,     0.40641,     0.40741,\n",
       "           0.40841,     0.40941,     0.41041,     0.41141,     0.41241,     0.41341,     0.41441,     0.41542,     0.41642,     0.41742,     0.41842,     0.41942,     0.42042,     0.42142,     0.42242,     0.42342,     0.42442,     0.42543,     0.42643,     0.42743,     0.42843,     0.42943,     0.43043,     0.43143,\n",
       "           0.43243,     0.43343,     0.43443,     0.43544,     0.43644,     0.43744,     0.43844,     0.43944,     0.44044,     0.44144,     0.44244,     0.44344,     0.44444,     0.44545,     0.44645,     0.44745,     0.44845,     0.44945,     0.45045,     0.45145,     0.45245,     0.45345,     0.45445,     0.45546,\n",
       "           0.45646,     0.45746,     0.45846,     0.45946,     0.46046,     0.46146,     0.46246,     0.46346,     0.46446,     0.46547,     0.46647,     0.46747,     0.46847,     0.46947,     0.47047,     0.47147,     0.47247,     0.47347,     0.47447,     0.47548,     0.47648,     0.47748,     0.47848,     0.47948,\n",
       "           0.48048,     0.48148,     0.48248,     0.48348,     0.48448,     0.48549,     0.48649,     0.48749,     0.48849,     0.48949,     0.49049,     0.49149,     0.49249,     0.49349,     0.49449,      0.4955,      0.4965,      0.4975,      0.4985,      0.4995,      0.5005,      0.5015,      0.5025,      0.5035,\n",
       "            0.5045,     0.50551,     0.50651,     0.50751,     0.50851,     0.50951,     0.51051,     0.51151,     0.51251,     0.51351,     0.51451,     0.51552,     0.51652,     0.51752,     0.51852,     0.51952,     0.52052,     0.52152,     0.52252,     0.52352,     0.52452,     0.52553,     0.52653,     0.52753,\n",
       "           0.52853,     0.52953,     0.53053,     0.53153,     0.53253,     0.53353,     0.53453,     0.53554,     0.53654,     0.53754,     0.53854,     0.53954,     0.54054,     0.54154,     0.54254,     0.54354,     0.54454,     0.54555,     0.54655,     0.54755,     0.54855,     0.54955,     0.55055,     0.55155,\n",
       "           0.55255,     0.55355,     0.55455,     0.55556,     0.55656,     0.55756,     0.55856,     0.55956,     0.56056,     0.56156,     0.56256,     0.56356,     0.56456,     0.56557,     0.56657,     0.56757,     0.56857,     0.56957,     0.57057,     0.57157,     0.57257,     0.57357,     0.57457,     0.57558,\n",
       "           0.57658,     0.57758,     0.57858,     0.57958,     0.58058,     0.58158,     0.58258,     0.58358,     0.58458,     0.58559,     0.58659,     0.58759,     0.58859,     0.58959,     0.59059,     0.59159,     0.59259,     0.59359,     0.59459,      0.5956,      0.5966,      0.5976,      0.5986,      0.5996,\n",
       "            0.6006,      0.6016,      0.6026,      0.6036,      0.6046,     0.60561,     0.60661,     0.60761,     0.60861,     0.60961,     0.61061,     0.61161,     0.61261,     0.61361,     0.61461,     0.61562,     0.61662,     0.61762,     0.61862,     0.61962,     0.62062,     0.62162,     0.62262,     0.62362,\n",
       "           0.62462,     0.62563,     0.62663,     0.62763,     0.62863,     0.62963,     0.63063,     0.63163,     0.63263,     0.63363,     0.63463,     0.63564,     0.63664,     0.63764,     0.63864,     0.63964,     0.64064,     0.64164,     0.64264,     0.64364,     0.64464,     0.64565,     0.64665,     0.64765,\n",
       "           0.64865,     0.64965,     0.65065,     0.65165,     0.65265,     0.65365,     0.65465,     0.65566,     0.65666,     0.65766,     0.65866,     0.65966,     0.66066,     0.66166,     0.66266,     0.66366,     0.66466,     0.66567,     0.66667,     0.66767,     0.66867,     0.66967,     0.67067,     0.67167,\n",
       "           0.67267,     0.67367,     0.67467,     0.67568,     0.67668,     0.67768,     0.67868,     0.67968,     0.68068,     0.68168,     0.68268,     0.68368,     0.68468,     0.68569,     0.68669,     0.68769,     0.68869,     0.68969,     0.69069,     0.69169,     0.69269,     0.69369,     0.69469,      0.6957,\n",
       "            0.6967,      0.6977,      0.6987,      0.6997,      0.7007,      0.7017,      0.7027,      0.7037,      0.7047,     0.70571,     0.70671,     0.70771,     0.70871,     0.70971,     0.71071,     0.71171,     0.71271,     0.71371,     0.71471,     0.71572,     0.71672,     0.71772,     0.71872,     0.71972,\n",
       "           0.72072,     0.72172,     0.72272,     0.72372,     0.72472,     0.72573,     0.72673,     0.72773,     0.72873,     0.72973,     0.73073,     0.73173,     0.73273,     0.73373,     0.73473,     0.73574,     0.73674,     0.73774,     0.73874,     0.73974,     0.74074,     0.74174,     0.74274,     0.74374,\n",
       "           0.74474,     0.74575,     0.74675,     0.74775,     0.74875,     0.74975,     0.75075,     0.75175,     0.75275,     0.75375,     0.75475,     0.75576,     0.75676,     0.75776,     0.75876,     0.75976,     0.76076,     0.76176,     0.76276,     0.76376,     0.76476,     0.76577,     0.76677,     0.76777,\n",
       "           0.76877,     0.76977,     0.77077,     0.77177,     0.77277,     0.77377,     0.77477,     0.77578,     0.77678,     0.77778,     0.77878,     0.77978,     0.78078,     0.78178,     0.78278,     0.78378,     0.78478,     0.78579,     0.78679,     0.78779,     0.78879,     0.78979,     0.79079,     0.79179,\n",
       "           0.79279,     0.79379,     0.79479,      0.7958,      0.7968,      0.7978,      0.7988,      0.7998,      0.8008,      0.8018,      0.8028,      0.8038,      0.8048,     0.80581,     0.80681,     0.80781,     0.80881,     0.80981,     0.81081,     0.81181,     0.81281,     0.81381,     0.81481,     0.81582,\n",
       "           0.81682,     0.81782,     0.81882,     0.81982,     0.82082,     0.82182,     0.82282,     0.82382,     0.82482,     0.82583,     0.82683,     0.82783,     0.82883,     0.82983,     0.83083,     0.83183,     0.83283,     0.83383,     0.83483,     0.83584,     0.83684,     0.83784,     0.83884,     0.83984,\n",
       "           0.84084,     0.84184,     0.84284,     0.84384,     0.84484,     0.84585,     0.84685,     0.84785,     0.84885,     0.84985,     0.85085,     0.85185,     0.85285,     0.85385,     0.85485,     0.85586,     0.85686,     0.85786,     0.85886,     0.85986,     0.86086,     0.86186,     0.86286,     0.86386,\n",
       "           0.86486,     0.86587,     0.86687,     0.86787,     0.86887,     0.86987,     0.87087,     0.87187,     0.87287,     0.87387,     0.87487,     0.87588,     0.87688,     0.87788,     0.87888,     0.87988,     0.88088,     0.88188,     0.88288,     0.88388,     0.88488,     0.88589,     0.88689,     0.88789,\n",
       "           0.88889,     0.88989,     0.89089,     0.89189,     0.89289,     0.89389,     0.89489,      0.8959,      0.8969,      0.8979,      0.8989,      0.8999,      0.9009,      0.9019,      0.9029,      0.9039,      0.9049,     0.90591,     0.90691,     0.90791,     0.90891,     0.90991,     0.91091,     0.91191,\n",
       "           0.91291,     0.91391,     0.91491,     0.91592,     0.91692,     0.91792,     0.91892,     0.91992,     0.92092,     0.92192,     0.92292,     0.92392,     0.92492,     0.92593,     0.92693,     0.92793,     0.92893,     0.92993,     0.93093,     0.93193,     0.93293,     0.93393,     0.93493,     0.93594,\n",
       "           0.93694,     0.93794,     0.93894,     0.93994,     0.94094,     0.94194,     0.94294,     0.94394,     0.94494,     0.94595,     0.94695,     0.94795,     0.94895,     0.94995,     0.95095,     0.95195,     0.95295,     0.95395,     0.95495,     0.95596,     0.95696,     0.95796,     0.95896,     0.95996,\n",
       "           0.96096,     0.96196,     0.96296,     0.96396,     0.96496,     0.96597,     0.96697,     0.96797,     0.96897,     0.96997,     0.97097,     0.97197,     0.97297,     0.97397,     0.97497,     0.97598,     0.97698,     0.97798,     0.97898,     0.97998,     0.98098,     0.98198,     0.98298,     0.98398,\n",
       "           0.98498,     0.98599,     0.98699,     0.98799,     0.98899,     0.98999,     0.99099,     0.99199,     0.99299,     0.99399,     0.99499,       0.996,       0.997,       0.998,       0.999,           1]), array([[    0.15318,     0.15318,      0.2262,     0.27631,     0.31912,      0.3574,      0.3822,     0.40435,     0.43036,     0.44832,     0.46285,     0.47779,     0.49233,     0.50459,     0.51558,     0.52479,      0.5337,     0.54396,     0.55342,     0.56162,     0.56912,     0.57747,     0.58417,\n",
       "            0.59209,     0.59972,     0.60553,     0.61129,     0.61759,      0.6225,     0.62744,     0.63617,     0.64034,      0.6449,     0.64856,     0.65104,     0.65455,     0.65763,     0.65949,     0.66445,     0.67039,       0.678,     0.68134,     0.68646,     0.68925,     0.69074,     0.69215,\n",
       "             0.6986,     0.70325,     0.70736,       0.712,     0.71615,     0.72024,     0.72374,     0.72682,     0.73016,     0.73224,     0.73456,     0.73658,     0.73963,     0.74223,     0.74345,     0.74464,     0.74597,     0.74908,     0.75293,     0.75627,     0.75725,     0.76013,     0.76222,\n",
       "            0.76269,     0.76471,     0.76609,     0.76504,     0.76602,     0.76649,     0.76884,     0.76974,     0.77131,     0.77388,     0.77661,     0.77779,     0.78081,     0.78416,      0.7853,     0.78989,     0.79156,      0.7928,     0.79337,     0.79555,     0.79603,     0.79727,     0.79974,\n",
       "            0.80578,     0.80788,     0.81076,     0.81146,     0.81316,     0.81485,     0.81555,     0.81589,     0.81623,     0.81763,     0.82044,     0.82234,     0.82632,     0.82866,     0.82945,     0.83001,     0.83086,     0.83337,      0.8363,     0.83727,     0.83921,     0.84218,     0.84282,\n",
       "            0.84394,     0.84587,     0.84634,      0.8467,     0.84706,     0.84741,     0.84776,     0.84811,     0.84874,     0.84941,     0.85018,     0.85046,     0.85073,     0.85101,     0.85135,     0.85191,     0.85256,     0.85327,     0.85263,     0.85199,     0.85228,     0.85273,      0.8541,\n",
       "            0.85517,     0.85539,     0.85562,     0.85585,     0.85607,     0.85709,     0.85766,     0.85821,      0.8594,     0.85967,     0.85994,     0.86022,     0.86144,     0.86186,     0.86227,     0.86369,     0.86469,     0.86654,     0.86751,     0.86774,     0.86798,     0.86821,     0.86844,\n",
       "            0.86929,     0.87055,     0.87093,     0.87113,     0.87134,     0.87154,     0.87175,      0.8723,      0.8744,     0.87458,     0.87316,     0.87236,     0.87327,     0.87233,     0.87355,     0.87574,     0.87639,     0.87788,     0.87908,      0.8802,     0.88086,     0.88265,     0.88309,\n",
       "             0.8826,      0.8821,     0.88192,     0.88254,     0.88273,     0.88238,     0.88203,     0.88169,     0.88158,     0.88205,     0.88251,      0.8828,     0.88306,     0.88332,     0.88358,      0.8846,     0.88648,      0.8864,     0.88607,     0.88688,     0.88712,     0.88735,     0.88758,\n",
       "            0.88781,     0.88805,     0.88849,     0.88892,     0.88993,      0.8907,     0.89115,     0.89158,     0.89194,     0.89229,     0.89265,     0.89242,     0.89215,     0.89188,     0.89161,     0.89134,     0.89253,     0.89277,     0.89302,     0.89327,     0.89351,     0.89593,     0.89612,\n",
       "            0.89631,      0.8965,     0.89669,     0.89688,     0.89707,     0.89852,      0.8988,     0.89908,     0.89936,     0.89888,     0.89803,      0.8982,     0.89837,     0.89853,      0.8987,     0.89886,     0.89903,     0.89919,     0.90078,     0.90119,     0.90161,     0.90283,     0.90296,\n",
       "            0.90308,     0.90321,     0.90334,     0.90346,     0.90359,     0.90372,     0.90384,     0.90397,     0.90438,     0.90487,     0.90531,     0.90565,     0.90598,     0.90631,     0.90752,     0.90683,     0.90623,     0.90653,     0.90682,     0.90711,     0.90743,     0.90806,     0.90862,\n",
       "            0.90874,     0.90886,     0.90898,      0.9091,     0.90921,     0.90933,     0.90945,     0.90957,     0.90969,     0.90981,     0.90995,     0.91009,     0.91023,     0.91037,     0.91051,     0.91065,     0.91079,     0.91093,     0.91108,     0.91133,     0.91158,     0.91183,     0.91209,\n",
       "             0.9139,      0.9149,      0.9152,      0.9155,     0.91579,     0.91624,     0.91697,     0.91737,     0.91758,     0.91779,     0.91801,     0.91822,     0.91843,     0.91851,     0.91856,      0.9186,     0.91865,     0.91869,     0.91873,     0.91878,     0.91882,     0.91887,     0.91891,\n",
       "            0.91896,       0.919,     0.91904,     0.91909,     0.91913,     0.91918,     0.91922,     0.91926,     0.91931,     0.91935,      0.9194,     0.91944,     0.91949,     0.91953,     0.91957,     0.91962,     0.91966,     0.91971,     0.91946,     0.91891,     0.91836,     0.91971,     0.91995,\n",
       "             0.9202,     0.92044,     0.92069,     0.92049,     0.92008,     0.91968,     0.91928,     0.91894,      0.9186,     0.91827,     0.91793,     0.91683,     0.91648,     0.91672,     0.91695,     0.91718,     0.91742,      0.9176,     0.91765,      0.9177,     0.91775,      0.9178,     0.91785,\n",
       "            0.91791,     0.91796,     0.91801,     0.91806,     0.91811,     0.91816,     0.91821,     0.91826,     0.91832,     0.91837,     0.91842,     0.91847,     0.91852,     0.91857,     0.91862,     0.91867,     0.91873,     0.91878,     0.91883,     0.91783,     0.91875,     0.91895,     0.91914,\n",
       "            0.91933,     0.91953,     0.91972,     0.92118,     0.92133,     0.92149,     0.92164,     0.92179,     0.92195,      0.9221,     0.92226,     0.92241,     0.92213,     0.92174,     0.92136,     0.92098,     0.92104,     0.92114,     0.92125,     0.92135,     0.92146,     0.92156,     0.92167,\n",
       "            0.92177,     0.92188,     0.92198,     0.92209,     0.92219,     0.92208,     0.92188,     0.92168,     0.92149,     0.92129,     0.92109,     0.92089,     0.92048,     0.91923,      0.9193,     0.91937,     0.91944,     0.91951,     0.91958,     0.91965,     0.91972,     0.91979,     0.91986,\n",
       "            0.91993,        0.92,     0.92007,     0.92014,     0.92021,     0.92028,     0.92035,     0.92042,     0.92049,     0.92057,     0.92065,     0.92073,     0.92081,     0.92089,     0.92097,     0.92104,     0.92112,      0.9212,     0.92128,     0.92136,     0.92144,     0.92152,      0.9216,\n",
       "            0.92167,     0.92175,     0.92185,     0.92196,     0.92207,     0.92218,     0.92229,      0.9224,     0.92251,     0.92262,     0.92273,     0.92284,     0.92295,     0.92306,     0.92296,     0.92282,     0.92268,     0.92254,      0.9224,     0.92226,     0.92212,     0.92198,     0.92183,\n",
       "            0.92169,     0.92156,     0.92149,     0.92143,     0.92136,     0.92129,     0.92122,     0.92116,     0.92109,     0.92102,     0.92096,     0.92089,     0.92082,     0.92075,     0.92069,     0.92062,     0.92055,     0.92048,     0.92042,     0.92035,     0.92028,     0.92021,     0.92015,\n",
       "            0.92008,     0.92023,      0.9205,     0.92076,     0.92103,     0.92129,     0.92094,     0.92042,      0.9199,     0.92086,     0.92055,     0.92023,     0.91992,     0.91961,     0.91977,     0.91994,      0.9201,     0.92027,     0.92044,      0.9206,     0.92077,     0.92092,     0.92101,\n",
       "             0.9211,     0.92119,     0.92128,     0.92137,     0.92145,     0.92154,     0.92163,     0.92172,     0.92181,      0.9219,     0.92199,     0.92208,     0.92217,     0.92224,      0.9223,     0.92237,     0.92243,     0.92249,     0.92255,     0.92261,     0.92268,     0.92274,      0.9228,\n",
       "            0.92286,     0.92293,     0.92299,     0.92305,     0.92311,     0.92318,     0.92324,      0.9233,     0.92336,     0.92342,     0.92349,     0.92329,      0.9229,     0.92251,     0.92211,     0.92207,     0.92219,     0.92231,     0.92243,     0.92256,     0.92268,      0.9228,     0.92292,\n",
       "            0.92304,     0.92317,     0.92329,     0.92297,     0.92262,     0.92227,     0.92192,     0.92148,     0.92095,     0.92043,      0.9199,     0.91937,     0.91885,     0.91882,     0.91901,     0.91921,      0.9194,     0.91959,     0.91978,     0.91997,     0.92047,     0.92101,     0.91975,\n",
       "            0.91971,     0.91966,     0.91961,     0.91957,     0.91952,     0.91948,     0.91943,     0.91938,     0.91934,     0.91929,     0.91924,      0.9192,     0.91915,     0.91911,     0.91906,     0.91901,     0.91897,     0.91892,     0.91888,     0.91883,     0.91878,     0.91874,     0.91869,\n",
       "            0.91865,      0.9186,     0.91855,     0.91851,     0.91846,     0.91842,     0.91837,     0.91832,     0.91828,     0.91823,     0.91699,     0.91638,     0.91603,     0.91567,     0.91532,      0.9165,     0.91668,     0.91686,     0.91704,     0.91722,      0.9174,     0.91758,     0.91773,\n",
       "            0.91757,     0.91741,     0.91725,     0.91709,     0.91693,     0.91677,     0.91661,     0.91645,     0.91629,     0.91603,     0.91557,     0.91511,     0.91465,     0.91457,     0.91452,     0.91447,     0.91442,     0.91437,     0.91432,     0.91427,     0.91422,     0.91417,     0.91412,\n",
       "            0.91408,     0.91403,     0.91398,     0.91393,     0.91388,     0.91383,     0.91378,     0.91373,     0.91368,     0.91363,     0.91358,     0.91353,     0.91348,     0.91343,     0.91338,     0.91333,     0.91328,     0.91323,     0.91318,     0.91313,     0.91308,     0.91316,      0.9137,\n",
       "            0.91425,     0.91424,     0.91407,      0.9139,     0.91373,     0.91356,     0.91339,     0.91322,     0.91305,     0.91288,      0.9112,     0.91074,     0.91027,     0.90981,     0.90958,     0.90952,     0.90946,      0.9094,     0.90933,     0.90927,     0.90921,     0.90914,     0.90908,\n",
       "            0.90902,     0.90896,     0.90889,     0.90883,     0.90877,     0.90871,     0.90864,     0.90858,     0.90852,     0.90845,     0.90839,     0.90833,     0.90827,      0.9082,     0.90814,     0.90808,     0.90794,     0.90758,     0.90722,     0.90685,     0.90649,     0.90622,     0.90597,\n",
       "            0.90571,     0.90546,     0.90521,     0.90496,     0.90529,     0.90614,     0.90578,     0.90541,     0.90505,     0.90468,     0.90348,     0.90257,     0.90202,     0.90146,     0.89793,     0.89738,     0.89682,     0.89444,     0.89332,     0.89269,     0.89212,     0.89156,       0.891,\n",
       "            0.89043,     0.88987,     0.88939,      0.8889,     0.88842,      0.8885,     0.88895,     0.88941,     0.88978,     0.89012,     0.89046,     0.89081,     0.89124,     0.89169,     0.89215,     0.89201,     0.89177,     0.89152,     0.89128,     0.89104,     0.89079,     0.89055,     0.89006,\n",
       "            0.88957,     0.88908,     0.88708,     0.88594,     0.88565,     0.88633,     0.88633,     0.88605,     0.88576,     0.88547,     0.88518,     0.88489,     0.88411,     0.88325,     0.88379,      0.8834,     0.88204,     0.88117,     0.87729,      0.8767,     0.87611,     0.87525,     0.87277,\n",
       "            0.86787,     0.86305,     0.86145,     0.86072,     0.85999,     0.85927,     0.85854,     0.85689,     0.85474,     0.85368,     0.85276,     0.85211,      0.8515,     0.85088,     0.84726,     0.84539,     0.84352,     0.84169,     0.84043,     0.83937,     0.83842,     0.83424,     0.83328,\n",
       "            0.82985,     0.82669,     0.82573,     0.82467,     0.82338,     0.82208,     0.81865,     0.81593,     0.80894,     0.80695,     0.80404,     0.80197,     0.80139,     0.80082,     0.80024,     0.79765,     0.79482,     0.78979,     0.78739,     0.77973,     0.77834,     0.77286,     0.76503,\n",
       "            0.76289,     0.76108,     0.76001,     0.75854,     0.75426,     0.75025,     0.74879,     0.74125,     0.73577,     0.72242,     0.70878,     0.70199,     0.69511,     0.69007,       0.682,     0.67919,     0.67181,     0.63843,     0.63718,     0.62477,     0.60878,     0.58967,     0.58498,\n",
       "            0.57936,     0.56975,     0.56108,     0.54941,     0.54049,     0.52697,     0.51936,     0.51306,     0.49458,     0.48474,     0.45877,     0.45085,     0.43739,     0.43156,     0.41102,     0.40923,     0.40337,     0.39718,     0.39238,      0.3607,     0.35176,     0.34174,     0.32079,\n",
       "            0.30089,     0.27642,     0.26172,     0.25743,     0.22942,     0.21066,     0.19857,     0.18435,     0.17126,      0.1681,     0.16059,     0.14965,     0.14241,     0.12303,     0.11657,     0.10807,    0.096261,     0.08087,    0.074991,    0.067881,    0.064351,    0.062911,    0.061582,\n",
       "           0.060251,    0.058481,    0.037892,     0.03721,    0.036528,    0.035846,    0.035163,    0.034479,    0.033795,    0.033111,    0.029682,    0.024383,    0.021683,    0.021129,    0.020574,    0.020019,    0.019464,    0.018909,    0.018353,    0.017797,     0.01724,    0.016684,    0.013316,\n",
       "                  0,           0,           0,           0,           0,           0,           0,           0,           0,           0,           0,           0,           0,           0,           0,           0,           0,           0,           0,           0,           0,           0,           0,\n",
       "                  0,           0,           0,           0,           0,           0,           0,           0,           0,           0,           0,           0,           0,           0,           0,           0,           0,           0,           0,           0,           0,           0,           0,\n",
       "                  0,           0,           0,           0,           0,           0,           0,           0,           0,           0,           0]]), 'Confidence', 'F1'], [array([          0,    0.001001,    0.002002,    0.003003,    0.004004,    0.005005,    0.006006,    0.007007,    0.008008,    0.009009,     0.01001,    0.011011,    0.012012,    0.013013,    0.014014,    0.015015,    0.016016,    0.017017,    0.018018,    0.019019,     0.02002,    0.021021,    0.022022,    0.023023,\n",
       "          0.024024,    0.025025,    0.026026,    0.027027,    0.028028,    0.029029,     0.03003,    0.031031,    0.032032,    0.033033,    0.034034,    0.035035,    0.036036,    0.037037,    0.038038,    0.039039,     0.04004,    0.041041,    0.042042,    0.043043,    0.044044,    0.045045,    0.046046,    0.047047,\n",
       "          0.048048,    0.049049,     0.05005,    0.051051,    0.052052,    0.053053,    0.054054,    0.055055,    0.056056,    0.057057,    0.058058,    0.059059,     0.06006,    0.061061,    0.062062,    0.063063,    0.064064,    0.065065,    0.066066,    0.067067,    0.068068,    0.069069,     0.07007,    0.071071,\n",
       "          0.072072,    0.073073,    0.074074,    0.075075,    0.076076,    0.077077,    0.078078,    0.079079,     0.08008,    0.081081,    0.082082,    0.083083,    0.084084,    0.085085,    0.086086,    0.087087,    0.088088,    0.089089,     0.09009,    0.091091,    0.092092,    0.093093,    0.094094,    0.095095,\n",
       "          0.096096,    0.097097,    0.098098,    0.099099,      0.1001,      0.1011,      0.1021,      0.1031,      0.1041,     0.10511,     0.10611,     0.10711,     0.10811,     0.10911,     0.11011,     0.11111,     0.11211,     0.11311,     0.11411,     0.11512,     0.11612,     0.11712,     0.11812,     0.11912,\n",
       "           0.12012,     0.12112,     0.12212,     0.12312,     0.12412,     0.12513,     0.12613,     0.12713,     0.12813,     0.12913,     0.13013,     0.13113,     0.13213,     0.13313,     0.13413,     0.13514,     0.13614,     0.13714,     0.13814,     0.13914,     0.14014,     0.14114,     0.14214,     0.14314,\n",
       "           0.14414,     0.14515,     0.14615,     0.14715,     0.14815,     0.14915,     0.15015,     0.15115,     0.15215,     0.15315,     0.15415,     0.15516,     0.15616,     0.15716,     0.15816,     0.15916,     0.16016,     0.16116,     0.16216,     0.16316,     0.16416,     0.16517,     0.16617,     0.16717,\n",
       "           0.16817,     0.16917,     0.17017,     0.17117,     0.17217,     0.17317,     0.17417,     0.17518,     0.17618,     0.17718,     0.17818,     0.17918,     0.18018,     0.18118,     0.18218,     0.18318,     0.18418,     0.18519,     0.18619,     0.18719,     0.18819,     0.18919,     0.19019,     0.19119,\n",
       "           0.19219,     0.19319,     0.19419,      0.1952,      0.1962,      0.1972,      0.1982,      0.1992,      0.2002,      0.2012,      0.2022,      0.2032,      0.2042,     0.20521,     0.20621,     0.20721,     0.20821,     0.20921,     0.21021,     0.21121,     0.21221,     0.21321,     0.21421,     0.21522,\n",
       "           0.21622,     0.21722,     0.21822,     0.21922,     0.22022,     0.22122,     0.22222,     0.22322,     0.22422,     0.22523,     0.22623,     0.22723,     0.22823,     0.22923,     0.23023,     0.23123,     0.23223,     0.23323,     0.23423,     0.23524,     0.23624,     0.23724,     0.23824,     0.23924,\n",
       "           0.24024,     0.24124,     0.24224,     0.24324,     0.24424,     0.24525,     0.24625,     0.24725,     0.24825,     0.24925,     0.25025,     0.25125,     0.25225,     0.25325,     0.25425,     0.25526,     0.25626,     0.25726,     0.25826,     0.25926,     0.26026,     0.26126,     0.26226,     0.26326,\n",
       "           0.26426,     0.26527,     0.26627,     0.26727,     0.26827,     0.26927,     0.27027,     0.27127,     0.27227,     0.27327,     0.27427,     0.27528,     0.27628,     0.27728,     0.27828,     0.27928,     0.28028,     0.28128,     0.28228,     0.28328,     0.28428,     0.28529,     0.28629,     0.28729,\n",
       "           0.28829,     0.28929,     0.29029,     0.29129,     0.29229,     0.29329,     0.29429,      0.2953,      0.2963,      0.2973,      0.2983,      0.2993,      0.3003,      0.3013,      0.3023,      0.3033,      0.3043,     0.30531,     0.30631,     0.30731,     0.30831,     0.30931,     0.31031,     0.31131,\n",
       "           0.31231,     0.31331,     0.31431,     0.31532,     0.31632,     0.31732,     0.31832,     0.31932,     0.32032,     0.32132,     0.32232,     0.32332,     0.32432,     0.32533,     0.32633,     0.32733,     0.32833,     0.32933,     0.33033,     0.33133,     0.33233,     0.33333,     0.33433,     0.33534,\n",
       "           0.33634,     0.33734,     0.33834,     0.33934,     0.34034,     0.34134,     0.34234,     0.34334,     0.34434,     0.34535,     0.34635,     0.34735,     0.34835,     0.34935,     0.35035,     0.35135,     0.35235,     0.35335,     0.35435,     0.35536,     0.35636,     0.35736,     0.35836,     0.35936,\n",
       "           0.36036,     0.36136,     0.36236,     0.36336,     0.36436,     0.36537,     0.36637,     0.36737,     0.36837,     0.36937,     0.37037,     0.37137,     0.37237,     0.37337,     0.37437,     0.37538,     0.37638,     0.37738,     0.37838,     0.37938,     0.38038,     0.38138,     0.38238,     0.38338,\n",
       "           0.38438,     0.38539,     0.38639,     0.38739,     0.38839,     0.38939,     0.39039,     0.39139,     0.39239,     0.39339,     0.39439,      0.3954,      0.3964,      0.3974,      0.3984,      0.3994,      0.4004,      0.4014,      0.4024,      0.4034,      0.4044,     0.40541,     0.40641,     0.40741,\n",
       "           0.40841,     0.40941,     0.41041,     0.41141,     0.41241,     0.41341,     0.41441,     0.41542,     0.41642,     0.41742,     0.41842,     0.41942,     0.42042,     0.42142,     0.42242,     0.42342,     0.42442,     0.42543,     0.42643,     0.42743,     0.42843,     0.42943,     0.43043,     0.43143,\n",
       "           0.43243,     0.43343,     0.43443,     0.43544,     0.43644,     0.43744,     0.43844,     0.43944,     0.44044,     0.44144,     0.44244,     0.44344,     0.44444,     0.44545,     0.44645,     0.44745,     0.44845,     0.44945,     0.45045,     0.45145,     0.45245,     0.45345,     0.45445,     0.45546,\n",
       "           0.45646,     0.45746,     0.45846,     0.45946,     0.46046,     0.46146,     0.46246,     0.46346,     0.46446,     0.46547,     0.46647,     0.46747,     0.46847,     0.46947,     0.47047,     0.47147,     0.47247,     0.47347,     0.47447,     0.47548,     0.47648,     0.47748,     0.47848,     0.47948,\n",
       "           0.48048,     0.48148,     0.48248,     0.48348,     0.48448,     0.48549,     0.48649,     0.48749,     0.48849,     0.48949,     0.49049,     0.49149,     0.49249,     0.49349,     0.49449,      0.4955,      0.4965,      0.4975,      0.4985,      0.4995,      0.5005,      0.5015,      0.5025,      0.5035,\n",
       "            0.5045,     0.50551,     0.50651,     0.50751,     0.50851,     0.50951,     0.51051,     0.51151,     0.51251,     0.51351,     0.51451,     0.51552,     0.51652,     0.51752,     0.51852,     0.51952,     0.52052,     0.52152,     0.52252,     0.52352,     0.52452,     0.52553,     0.52653,     0.52753,\n",
       "           0.52853,     0.52953,     0.53053,     0.53153,     0.53253,     0.53353,     0.53453,     0.53554,     0.53654,     0.53754,     0.53854,     0.53954,     0.54054,     0.54154,     0.54254,     0.54354,     0.54454,     0.54555,     0.54655,     0.54755,     0.54855,     0.54955,     0.55055,     0.55155,\n",
       "           0.55255,     0.55355,     0.55455,     0.55556,     0.55656,     0.55756,     0.55856,     0.55956,     0.56056,     0.56156,     0.56256,     0.56356,     0.56456,     0.56557,     0.56657,     0.56757,     0.56857,     0.56957,     0.57057,     0.57157,     0.57257,     0.57357,     0.57457,     0.57558,\n",
       "           0.57658,     0.57758,     0.57858,     0.57958,     0.58058,     0.58158,     0.58258,     0.58358,     0.58458,     0.58559,     0.58659,     0.58759,     0.58859,     0.58959,     0.59059,     0.59159,     0.59259,     0.59359,     0.59459,      0.5956,      0.5966,      0.5976,      0.5986,      0.5996,\n",
       "            0.6006,      0.6016,      0.6026,      0.6036,      0.6046,     0.60561,     0.60661,     0.60761,     0.60861,     0.60961,     0.61061,     0.61161,     0.61261,     0.61361,     0.61461,     0.61562,     0.61662,     0.61762,     0.61862,     0.61962,     0.62062,     0.62162,     0.62262,     0.62362,\n",
       "           0.62462,     0.62563,     0.62663,     0.62763,     0.62863,     0.62963,     0.63063,     0.63163,     0.63263,     0.63363,     0.63463,     0.63564,     0.63664,     0.63764,     0.63864,     0.63964,     0.64064,     0.64164,     0.64264,     0.64364,     0.64464,     0.64565,     0.64665,     0.64765,\n",
       "           0.64865,     0.64965,     0.65065,     0.65165,     0.65265,     0.65365,     0.65465,     0.65566,     0.65666,     0.65766,     0.65866,     0.65966,     0.66066,     0.66166,     0.66266,     0.66366,     0.66466,     0.66567,     0.66667,     0.66767,     0.66867,     0.66967,     0.67067,     0.67167,\n",
       "           0.67267,     0.67367,     0.67467,     0.67568,     0.67668,     0.67768,     0.67868,     0.67968,     0.68068,     0.68168,     0.68268,     0.68368,     0.68468,     0.68569,     0.68669,     0.68769,     0.68869,     0.68969,     0.69069,     0.69169,     0.69269,     0.69369,     0.69469,      0.6957,\n",
       "            0.6967,      0.6977,      0.6987,      0.6997,      0.7007,      0.7017,      0.7027,      0.7037,      0.7047,     0.70571,     0.70671,     0.70771,     0.70871,     0.70971,     0.71071,     0.71171,     0.71271,     0.71371,     0.71471,     0.71572,     0.71672,     0.71772,     0.71872,     0.71972,\n",
       "           0.72072,     0.72172,     0.72272,     0.72372,     0.72472,     0.72573,     0.72673,     0.72773,     0.72873,     0.72973,     0.73073,     0.73173,     0.73273,     0.73373,     0.73473,     0.73574,     0.73674,     0.73774,     0.73874,     0.73974,     0.74074,     0.74174,     0.74274,     0.74374,\n",
       "           0.74474,     0.74575,     0.74675,     0.74775,     0.74875,     0.74975,     0.75075,     0.75175,     0.75275,     0.75375,     0.75475,     0.75576,     0.75676,     0.75776,     0.75876,     0.75976,     0.76076,     0.76176,     0.76276,     0.76376,     0.76476,     0.76577,     0.76677,     0.76777,\n",
       "           0.76877,     0.76977,     0.77077,     0.77177,     0.77277,     0.77377,     0.77477,     0.77578,     0.77678,     0.77778,     0.77878,     0.77978,     0.78078,     0.78178,     0.78278,     0.78378,     0.78478,     0.78579,     0.78679,     0.78779,     0.78879,     0.78979,     0.79079,     0.79179,\n",
       "           0.79279,     0.79379,     0.79479,      0.7958,      0.7968,      0.7978,      0.7988,      0.7998,      0.8008,      0.8018,      0.8028,      0.8038,      0.8048,     0.80581,     0.80681,     0.80781,     0.80881,     0.80981,     0.81081,     0.81181,     0.81281,     0.81381,     0.81481,     0.81582,\n",
       "           0.81682,     0.81782,     0.81882,     0.81982,     0.82082,     0.82182,     0.82282,     0.82382,     0.82482,     0.82583,     0.82683,     0.82783,     0.82883,     0.82983,     0.83083,     0.83183,     0.83283,     0.83383,     0.83483,     0.83584,     0.83684,     0.83784,     0.83884,     0.83984,\n",
       "           0.84084,     0.84184,     0.84284,     0.84384,     0.84484,     0.84585,     0.84685,     0.84785,     0.84885,     0.84985,     0.85085,     0.85185,     0.85285,     0.85385,     0.85485,     0.85586,     0.85686,     0.85786,     0.85886,     0.85986,     0.86086,     0.86186,     0.86286,     0.86386,\n",
       "           0.86486,     0.86587,     0.86687,     0.86787,     0.86887,     0.86987,     0.87087,     0.87187,     0.87287,     0.87387,     0.87487,     0.87588,     0.87688,     0.87788,     0.87888,     0.87988,     0.88088,     0.88188,     0.88288,     0.88388,     0.88488,     0.88589,     0.88689,     0.88789,\n",
       "           0.88889,     0.88989,     0.89089,     0.89189,     0.89289,     0.89389,     0.89489,      0.8959,      0.8969,      0.8979,      0.8989,      0.8999,      0.9009,      0.9019,      0.9029,      0.9039,      0.9049,     0.90591,     0.90691,     0.90791,     0.90891,     0.90991,     0.91091,     0.91191,\n",
       "           0.91291,     0.91391,     0.91491,     0.91592,     0.91692,     0.91792,     0.91892,     0.91992,     0.92092,     0.92192,     0.92292,     0.92392,     0.92492,     0.92593,     0.92693,     0.92793,     0.92893,     0.92993,     0.93093,     0.93193,     0.93293,     0.93393,     0.93493,     0.93594,\n",
       "           0.93694,     0.93794,     0.93894,     0.93994,     0.94094,     0.94194,     0.94294,     0.94394,     0.94494,     0.94595,     0.94695,     0.94795,     0.94895,     0.94995,     0.95095,     0.95195,     0.95295,     0.95395,     0.95495,     0.95596,     0.95696,     0.95796,     0.95896,     0.95996,\n",
       "           0.96096,     0.96196,     0.96296,     0.96396,     0.96496,     0.96597,     0.96697,     0.96797,     0.96897,     0.96997,     0.97097,     0.97197,     0.97297,     0.97397,     0.97497,     0.97598,     0.97698,     0.97798,     0.97898,     0.97998,     0.98098,     0.98198,     0.98298,     0.98398,\n",
       "           0.98498,     0.98599,     0.98699,     0.98799,     0.98899,     0.98999,     0.99099,     0.99199,     0.99299,     0.99399,     0.99499,       0.996,       0.997,       0.998,       0.999,           1]), array([[   0.083099,    0.083099,     0.12794,     0.16096,     0.19088,     0.21893,     0.23784,     0.25524,     0.27633,     0.29132,     0.30371,      0.3167,     0.32961,     0.34069,     0.35079,     0.35937,     0.36778,     0.37759,     0.38678,     0.39483,     0.40229,     0.41068,     0.41749,\n",
       "            0.42563,     0.43356,     0.43966,     0.44576,     0.45249,     0.45779,     0.46314,     0.47273,     0.47734,     0.48243,     0.48723,     0.49003,     0.49403,     0.49754,     0.49968,     0.50539,     0.51229,     0.52124,      0.5252,     0.53131,     0.53465,     0.53645,     0.53816,\n",
       "              0.546,     0.55169,     0.55677,     0.56254,     0.56773,      0.5729,     0.57733,     0.58126,     0.58555,     0.58823,     0.59123,     0.59386,     0.59783,     0.60124,     0.60284,      0.6044,     0.60616,     0.61027,      0.6154,     0.61988,      0.6212,     0.62509,     0.62792,\n",
       "            0.62855,      0.6313,     0.63343,     0.63292,     0.63427,     0.63492,     0.63814,     0.63939,     0.64156,     0.64513,     0.64893,     0.65058,     0.65481,     0.65953,     0.66116,     0.66769,     0.67007,     0.67186,     0.67267,     0.67581,      0.6765,      0.6783,     0.68188,\n",
       "            0.69072,      0.6938,      0.6995,     0.70055,     0.70309,     0.70562,     0.70667,     0.70718,     0.70769,      0.7098,     0.71405,     0.71694,     0.72301,     0.72659,     0.72781,     0.72867,     0.72998,     0.73387,     0.73842,     0.73994,     0.74297,     0.74765,     0.74866,\n",
       "            0.75042,     0.75348,     0.75423,     0.75479,     0.75536,     0.75592,     0.75648,     0.75704,     0.75804,     0.75912,     0.76035,     0.76079,     0.76123,     0.76167,     0.76221,     0.76312,     0.76417,     0.76534,      0.7651,     0.76487,     0.76546,     0.76619,     0.76839,\n",
       "            0.77012,     0.77049,     0.77086,     0.77122,     0.77159,     0.77325,     0.77418,     0.77507,     0.77702,     0.77746,     0.77791,     0.77835,     0.78036,     0.78104,     0.78172,     0.78406,     0.78757,     0.79064,     0.79225,     0.79264,     0.79303,     0.79342,     0.79381,\n",
       "            0.79523,     0.79734,     0.79798,     0.79832,     0.79866,     0.79901,     0.79935,     0.80028,     0.80383,     0.80492,     0.80447,     0.80428,     0.80582,     0.80573,     0.80829,     0.81204,     0.81316,     0.81573,     0.81782,     0.81975,      0.8209,     0.82401,     0.82491,\n",
       "            0.82477,     0.82462,     0.82482,      0.8259,     0.82646,     0.82636,     0.82626,     0.82616,     0.82633,     0.82715,     0.82797,     0.82848,     0.82894,      0.8294,     0.82985,     0.83165,     0.83498,     0.83598,     0.83643,     0.83787,     0.83828,      0.8387,     0.83911,\n",
       "            0.83952,     0.83996,     0.84073,     0.84151,     0.84333,      0.8447,     0.84552,      0.8463,     0.84694,     0.84758,     0.84822,     0.84819,     0.84812,     0.84805,     0.84798,     0.84791,     0.85025,      0.8507,     0.85115,      0.8516,     0.85205,     0.85645,      0.8568,\n",
       "            0.85715,     0.85749,     0.85784,     0.85819,     0.85854,      0.8612,     0.86171,     0.86222,     0.86273,      0.8628,     0.86263,     0.86294,     0.86325,     0.86355,     0.86386,     0.86416,     0.86447,     0.86478,     0.86772,     0.86848,     0.86925,     0.87153,     0.87177,\n",
       "              0.872,     0.87224,     0.87247,     0.87271,     0.87295,     0.87318,     0.87342,     0.87366,     0.87442,     0.87534,     0.87617,     0.87679,     0.87741,     0.87803,     0.88031,     0.88035,     0.88033,     0.88089,     0.88144,       0.882,      0.8826,     0.88379,     0.88485,\n",
       "            0.88507,      0.8853,     0.88553,     0.88575,     0.88598,     0.88621,     0.88643,     0.88666,     0.88689,     0.88711,     0.88737,     0.88764,     0.88791,     0.88817,     0.88844,      0.8887,     0.88897,     0.88924,     0.88952,     0.89001,     0.89049,     0.89097,     0.89145,\n",
       "            0.89492,     0.89684,     0.89741,     0.89799,     0.89856,     0.89943,     0.90083,      0.9016,     0.90201,     0.90242,     0.90283,     0.90324,     0.90366,     0.90381,      0.9039,     0.90398,     0.90407,     0.90415,     0.90424,     0.90432,     0.90441,      0.9045,     0.90458,\n",
       "            0.90467,     0.90475,     0.90484,     0.90492,     0.90501,      0.9051,     0.90518,     0.90527,     0.90535,     0.90544,     0.90552,     0.90561,     0.90569,     0.90578,     0.90587,     0.90595,     0.90604,     0.90612,     0.90612,     0.90603,     0.90593,     0.90875,     0.90922,\n",
       "             0.9097,     0.91018,     0.91066,     0.91077,      0.9107,     0.91063,     0.91057,     0.91051,     0.91046,      0.9104,     0.91035,     0.91017,     0.91039,     0.91085,     0.91132,     0.91178,     0.91224,      0.9126,      0.9127,      0.9128,      0.9129,       0.913,     0.91311,\n",
       "            0.91321,     0.91331,     0.91341,     0.91351,     0.91361,     0.91372,     0.91382,     0.91392,     0.91402,     0.91412,     0.91422,     0.91432,     0.91443,     0.91453,     0.91463,     0.91473,     0.91483,     0.91493,     0.91503,     0.91491,     0.91762,     0.91801,     0.91839,\n",
       "            0.91878,     0.91916,     0.91955,     0.92247,     0.92278,     0.92309,      0.9234,     0.92371,     0.92402,     0.92432,     0.92463,     0.92494,     0.92496,      0.9249,     0.92485,      0.9248,     0.92498,      0.9252,     0.92541,     0.92562,     0.92583,     0.92604,     0.92626,\n",
       "            0.92647,     0.92668,     0.92689,      0.9271,     0.92731,     0.92735,     0.92733,      0.9273,     0.92727,     0.92725,     0.92722,     0.92719,     0.92714,     0.92699,     0.92713,     0.92728,     0.92742,     0.92756,     0.92771,     0.92785,     0.92799,     0.92813,     0.92828,\n",
       "            0.92842,     0.92856,     0.92871,     0.92885,     0.92899,     0.92913,     0.92928,     0.92942,     0.92956,     0.92972,     0.92988,     0.93004,      0.9302,     0.93036,     0.93052,     0.93068,     0.93085,     0.93101,     0.93117,     0.93133,     0.93149,     0.93165,     0.93181,\n",
       "            0.93197,     0.93213,     0.93233,     0.93255,     0.93278,       0.933,     0.93323,     0.93345,     0.93368,     0.93391,     0.93413,     0.93436,     0.93458,     0.93481,     0.93483,     0.93481,      0.9348,     0.93478,     0.93476,     0.93474,     0.93473,     0.93471,     0.93469,\n",
       "            0.93467,     0.93466,     0.93465,     0.93464,     0.93463,     0.93462,     0.93462,     0.93461,      0.9346,     0.93459,     0.93458,     0.93458,     0.93457,     0.93456,     0.93455,     0.93454,     0.93453,     0.93453,     0.93452,     0.93451,      0.9345,     0.93449,     0.93448,\n",
       "            0.93448,     0.93484,     0.93539,     0.93593,     0.93648,     0.93703,     0.93709,     0.93703,     0.93697,     0.93962,     0.93959,     0.93955,     0.93952,     0.93948,     0.93983,     0.94017,     0.94052,     0.94087,     0.94122,     0.94156,     0.94191,     0.94223,     0.94242,\n",
       "             0.9426,     0.94279,     0.94298,     0.94316,     0.94335,     0.94354,     0.94372,     0.94391,      0.9441,     0.94428,     0.94447,     0.94466,     0.94484,       0.945,     0.94513,     0.94526,     0.94539,     0.94552,     0.94565,     0.94579,     0.94592,     0.94605,     0.94618,\n",
       "            0.94631,     0.94644,     0.94657,      0.9467,     0.94683,     0.94696,     0.94709,     0.94723,     0.94736,     0.94749,     0.94762,     0.94765,     0.94761,     0.94757,     0.94753,      0.9477,     0.94795,     0.94821,     0.94847,     0.94873,     0.94899,     0.94924,      0.9495,\n",
       "            0.94976,     0.95002,     0.95028,     0.95026,     0.95023,     0.95019,     0.95016,     0.95012,     0.95007,     0.95002,     0.94997,     0.94992,     0.94987,     0.95014,     0.95055,     0.95096,     0.95137,     0.95179,      0.9522,     0.95261,     0.95367,     0.95483,     0.95536,\n",
       "            0.95535,     0.95535,     0.95534,     0.95534,     0.95534,     0.95533,     0.95533,     0.95532,     0.95532,     0.95532,     0.95531,     0.95531,      0.9553,      0.9553,      0.9553,     0.95529,     0.95529,     0.95528,     0.95528,     0.95528,     0.95527,     0.95527,     0.95526,\n",
       "            0.95526,     0.95526,     0.95525,     0.95525,     0.95524,     0.95524,     0.95524,     0.95523,     0.95523,     0.95522,     0.95512,     0.95507,     0.95503,       0.955,     0.95497,     0.95799,     0.95839,     0.95878,     0.95918,     0.95957,     0.95997,     0.96036,     0.96072,\n",
       "            0.96071,      0.9607,     0.96069,     0.96068,     0.96066,     0.96065,     0.96064,     0.96063,     0.96061,     0.96059,     0.96056,     0.96052,     0.96049,     0.96048,     0.96048,     0.96048,     0.96047,     0.96047,     0.96046,     0.96046,     0.96046,     0.96045,     0.96045,\n",
       "            0.96044,     0.96044,     0.96044,     0.96043,     0.96043,     0.96043,     0.96042,     0.96042,     0.96041,     0.96041,     0.96041,      0.9604,      0.9604,      0.9604,     0.96039,     0.96039,     0.96038,     0.96038,     0.96038,     0.96037,     0.96037,     0.96062,     0.96183,\n",
       "            0.96303,     0.96329,     0.96328,     0.96327,     0.96326,     0.96324,     0.96323,     0.96322,     0.96321,      0.9632,     0.96308,     0.96304,     0.96301,     0.96298,     0.96296,     0.96296,     0.96295,     0.96295,     0.96294,     0.96294,     0.96293,     0.96293,     0.96292,\n",
       "            0.96292,     0.96292,     0.96291,     0.96291,      0.9629,      0.9629,     0.96289,     0.96289,     0.96288,     0.96288,     0.96287,     0.96287,     0.96287,     0.96286,     0.96286,     0.96285,     0.96284,     0.96282,     0.96279,     0.96276,     0.96274,     0.96272,      0.9627,\n",
       "            0.96268,     0.96266,     0.96264,     0.96263,     0.96366,     0.96562,      0.9656,     0.96557,     0.96555,     0.96553,     0.96544,     0.96538,     0.96535,     0.96531,     0.96507,     0.96503,     0.96499,     0.96483,     0.96475,     0.96471,     0.96467,     0.96463,     0.96459,\n",
       "            0.96455,     0.96452,     0.96448,     0.96445,     0.96441,     0.96505,     0.96612,     0.96719,     0.96808,     0.96889,     0.96969,      0.9705,     0.97152,     0.97261,     0.97369,     0.97385,     0.97383,     0.97382,     0.97381,      0.9738,     0.97378,     0.97377,     0.97374,\n",
       "            0.97372,     0.97369,     0.97359,     0.97353,     0.97776,     0.97943,     0.97993,     0.97991,      0.9799,     0.97989,     0.97988,     0.97987,     0.97984,      0.9798,     0.98308,     0.98454,     0.98634,     0.98631,     0.98621,     0.98619,     0.98617,     0.98615,     0.98608,\n",
       "            0.98594,     0.98581,     0.98576,     0.98574,     0.98572,      0.9857,     0.98568,     0.98563,     0.98557,     0.98554,     0.98551,     0.98549,     0.98547,     0.98546,     0.98535,     0.98529,     0.98524,     0.98518,     0.98514,     0.98511,     0.98508,     0.98496,     0.98493,\n",
       "            0.98482,     0.98473,      0.9847,     0.98466,     0.98462,     0.98458,     0.98447,     0.98439,     0.98416,      0.9841,       0.984,     0.98394,     0.98392,      0.9839,     0.98388,     0.98379,      0.9837,     0.98353,     0.98345,     0.98318,     0.98314,     0.98294,     0.98266,\n",
       "            0.98259,     0.98252,     0.98248,     0.98243,     0.98227,     0.98212,     0.98207,     0.98178,     0.98157,     0.98104,     0.98048,     0.98994,     0.98979,     0.98968,     0.98949,     0.99122,     0.99458,     0.99675,           1,           1,           1,           1,           1,\n",
       "                  1,           1,           1,           1,           1,           1,           1,           1,           1,           1,           1,           1,           1,           1,           1,           1,           1,           1,           1,           1,           1,           1,           1,\n",
       "                  1,           1,           1,           1,           1,           1,           1,           1,           1,           1,           1,           1,           1,           1,           1,           1,           1,           1,           1,           1,           1,           1,           1,\n",
       "                  1,           1,           1,           1,           1,           1,           1,           1,           1,           1,           1,           1,           1,           1,           1,           1,           1,           1,           1,           1,           1,           1,           1,\n",
       "                  1,           1,           1,           1,           1,           1,           1,           1,           1,           1,           1,           1,           1,           1,           1,           1,           1,           1,           1,           1,           1,           1,           1,\n",
       "                  1,           1,           1,           1,           1,           1,           1,           1,           1,           1,           1,           1,           1,           1,           1,           1,           1,           1,           1,           1,           1,           1,           1,\n",
       "                  1,           1,           1,           1,           1,           1,           1,           1,           1,           1,           1]]), 'Confidence', 'Precision'], [array([          0,    0.001001,    0.002002,    0.003003,    0.004004,    0.005005,    0.006006,    0.007007,    0.008008,    0.009009,     0.01001,    0.011011,    0.012012,    0.013013,    0.014014,    0.015015,    0.016016,    0.017017,    0.018018,    0.019019,     0.02002,    0.021021,    0.022022,    0.023023,\n",
       "          0.024024,    0.025025,    0.026026,    0.027027,    0.028028,    0.029029,     0.03003,    0.031031,    0.032032,    0.033033,    0.034034,    0.035035,    0.036036,    0.037037,    0.038038,    0.039039,     0.04004,    0.041041,    0.042042,    0.043043,    0.044044,    0.045045,    0.046046,    0.047047,\n",
       "          0.048048,    0.049049,     0.05005,    0.051051,    0.052052,    0.053053,    0.054054,    0.055055,    0.056056,    0.057057,    0.058058,    0.059059,     0.06006,    0.061061,    0.062062,    0.063063,    0.064064,    0.065065,    0.066066,    0.067067,    0.068068,    0.069069,     0.07007,    0.071071,\n",
       "          0.072072,    0.073073,    0.074074,    0.075075,    0.076076,    0.077077,    0.078078,    0.079079,     0.08008,    0.081081,    0.082082,    0.083083,    0.084084,    0.085085,    0.086086,    0.087087,    0.088088,    0.089089,     0.09009,    0.091091,    0.092092,    0.093093,    0.094094,    0.095095,\n",
       "          0.096096,    0.097097,    0.098098,    0.099099,      0.1001,      0.1011,      0.1021,      0.1031,      0.1041,     0.10511,     0.10611,     0.10711,     0.10811,     0.10911,     0.11011,     0.11111,     0.11211,     0.11311,     0.11411,     0.11512,     0.11612,     0.11712,     0.11812,     0.11912,\n",
       "           0.12012,     0.12112,     0.12212,     0.12312,     0.12412,     0.12513,     0.12613,     0.12713,     0.12813,     0.12913,     0.13013,     0.13113,     0.13213,     0.13313,     0.13413,     0.13514,     0.13614,     0.13714,     0.13814,     0.13914,     0.14014,     0.14114,     0.14214,     0.14314,\n",
       "           0.14414,     0.14515,     0.14615,     0.14715,     0.14815,     0.14915,     0.15015,     0.15115,     0.15215,     0.15315,     0.15415,     0.15516,     0.15616,     0.15716,     0.15816,     0.15916,     0.16016,     0.16116,     0.16216,     0.16316,     0.16416,     0.16517,     0.16617,     0.16717,\n",
       "           0.16817,     0.16917,     0.17017,     0.17117,     0.17217,     0.17317,     0.17417,     0.17518,     0.17618,     0.17718,     0.17818,     0.17918,     0.18018,     0.18118,     0.18218,     0.18318,     0.18418,     0.18519,     0.18619,     0.18719,     0.18819,     0.18919,     0.19019,     0.19119,\n",
       "           0.19219,     0.19319,     0.19419,      0.1952,      0.1962,      0.1972,      0.1982,      0.1992,      0.2002,      0.2012,      0.2022,      0.2032,      0.2042,     0.20521,     0.20621,     0.20721,     0.20821,     0.20921,     0.21021,     0.21121,     0.21221,     0.21321,     0.21421,     0.21522,\n",
       "           0.21622,     0.21722,     0.21822,     0.21922,     0.22022,     0.22122,     0.22222,     0.22322,     0.22422,     0.22523,     0.22623,     0.22723,     0.22823,     0.22923,     0.23023,     0.23123,     0.23223,     0.23323,     0.23423,     0.23524,     0.23624,     0.23724,     0.23824,     0.23924,\n",
       "           0.24024,     0.24124,     0.24224,     0.24324,     0.24424,     0.24525,     0.24625,     0.24725,     0.24825,     0.24925,     0.25025,     0.25125,     0.25225,     0.25325,     0.25425,     0.25526,     0.25626,     0.25726,     0.25826,     0.25926,     0.26026,     0.26126,     0.26226,     0.26326,\n",
       "           0.26426,     0.26527,     0.26627,     0.26727,     0.26827,     0.26927,     0.27027,     0.27127,     0.27227,     0.27327,     0.27427,     0.27528,     0.27628,     0.27728,     0.27828,     0.27928,     0.28028,     0.28128,     0.28228,     0.28328,     0.28428,     0.28529,     0.28629,     0.28729,\n",
       "           0.28829,     0.28929,     0.29029,     0.29129,     0.29229,     0.29329,     0.29429,      0.2953,      0.2963,      0.2973,      0.2983,      0.2993,      0.3003,      0.3013,      0.3023,      0.3033,      0.3043,     0.30531,     0.30631,     0.30731,     0.30831,     0.30931,     0.31031,     0.31131,\n",
       "           0.31231,     0.31331,     0.31431,     0.31532,     0.31632,     0.31732,     0.31832,     0.31932,     0.32032,     0.32132,     0.32232,     0.32332,     0.32432,     0.32533,     0.32633,     0.32733,     0.32833,     0.32933,     0.33033,     0.33133,     0.33233,     0.33333,     0.33433,     0.33534,\n",
       "           0.33634,     0.33734,     0.33834,     0.33934,     0.34034,     0.34134,     0.34234,     0.34334,     0.34434,     0.34535,     0.34635,     0.34735,     0.34835,     0.34935,     0.35035,     0.35135,     0.35235,     0.35335,     0.35435,     0.35536,     0.35636,     0.35736,     0.35836,     0.35936,\n",
       "           0.36036,     0.36136,     0.36236,     0.36336,     0.36436,     0.36537,     0.36637,     0.36737,     0.36837,     0.36937,     0.37037,     0.37137,     0.37237,     0.37337,     0.37437,     0.37538,     0.37638,     0.37738,     0.37838,     0.37938,     0.38038,     0.38138,     0.38238,     0.38338,\n",
       "           0.38438,     0.38539,     0.38639,     0.38739,     0.38839,     0.38939,     0.39039,     0.39139,     0.39239,     0.39339,     0.39439,      0.3954,      0.3964,      0.3974,      0.3984,      0.3994,      0.4004,      0.4014,      0.4024,      0.4034,      0.4044,     0.40541,     0.40641,     0.40741,\n",
       "           0.40841,     0.40941,     0.41041,     0.41141,     0.41241,     0.41341,     0.41441,     0.41542,     0.41642,     0.41742,     0.41842,     0.41942,     0.42042,     0.42142,     0.42242,     0.42342,     0.42442,     0.42543,     0.42643,     0.42743,     0.42843,     0.42943,     0.43043,     0.43143,\n",
       "           0.43243,     0.43343,     0.43443,     0.43544,     0.43644,     0.43744,     0.43844,     0.43944,     0.44044,     0.44144,     0.44244,     0.44344,     0.44444,     0.44545,     0.44645,     0.44745,     0.44845,     0.44945,     0.45045,     0.45145,     0.45245,     0.45345,     0.45445,     0.45546,\n",
       "           0.45646,     0.45746,     0.45846,     0.45946,     0.46046,     0.46146,     0.46246,     0.46346,     0.46446,     0.46547,     0.46647,     0.46747,     0.46847,     0.46947,     0.47047,     0.47147,     0.47247,     0.47347,     0.47447,     0.47548,     0.47648,     0.47748,     0.47848,     0.47948,\n",
       "           0.48048,     0.48148,     0.48248,     0.48348,     0.48448,     0.48549,     0.48649,     0.48749,     0.48849,     0.48949,     0.49049,     0.49149,     0.49249,     0.49349,     0.49449,      0.4955,      0.4965,      0.4975,      0.4985,      0.4995,      0.5005,      0.5015,      0.5025,      0.5035,\n",
       "            0.5045,     0.50551,     0.50651,     0.50751,     0.50851,     0.50951,     0.51051,     0.51151,     0.51251,     0.51351,     0.51451,     0.51552,     0.51652,     0.51752,     0.51852,     0.51952,     0.52052,     0.52152,     0.52252,     0.52352,     0.52452,     0.52553,     0.52653,     0.52753,\n",
       "           0.52853,     0.52953,     0.53053,     0.53153,     0.53253,     0.53353,     0.53453,     0.53554,     0.53654,     0.53754,     0.53854,     0.53954,     0.54054,     0.54154,     0.54254,     0.54354,     0.54454,     0.54555,     0.54655,     0.54755,     0.54855,     0.54955,     0.55055,     0.55155,\n",
       "           0.55255,     0.55355,     0.55455,     0.55556,     0.55656,     0.55756,     0.55856,     0.55956,     0.56056,     0.56156,     0.56256,     0.56356,     0.56456,     0.56557,     0.56657,     0.56757,     0.56857,     0.56957,     0.57057,     0.57157,     0.57257,     0.57357,     0.57457,     0.57558,\n",
       "           0.57658,     0.57758,     0.57858,     0.57958,     0.58058,     0.58158,     0.58258,     0.58358,     0.58458,     0.58559,     0.58659,     0.58759,     0.58859,     0.58959,     0.59059,     0.59159,     0.59259,     0.59359,     0.59459,      0.5956,      0.5966,      0.5976,      0.5986,      0.5996,\n",
       "            0.6006,      0.6016,      0.6026,      0.6036,      0.6046,     0.60561,     0.60661,     0.60761,     0.60861,     0.60961,     0.61061,     0.61161,     0.61261,     0.61361,     0.61461,     0.61562,     0.61662,     0.61762,     0.61862,     0.61962,     0.62062,     0.62162,     0.62262,     0.62362,\n",
       "           0.62462,     0.62563,     0.62663,     0.62763,     0.62863,     0.62963,     0.63063,     0.63163,     0.63263,     0.63363,     0.63463,     0.63564,     0.63664,     0.63764,     0.63864,     0.63964,     0.64064,     0.64164,     0.64264,     0.64364,     0.64464,     0.64565,     0.64665,     0.64765,\n",
       "           0.64865,     0.64965,     0.65065,     0.65165,     0.65265,     0.65365,     0.65465,     0.65566,     0.65666,     0.65766,     0.65866,     0.65966,     0.66066,     0.66166,     0.66266,     0.66366,     0.66466,     0.66567,     0.66667,     0.66767,     0.66867,     0.66967,     0.67067,     0.67167,\n",
       "           0.67267,     0.67367,     0.67467,     0.67568,     0.67668,     0.67768,     0.67868,     0.67968,     0.68068,     0.68168,     0.68268,     0.68368,     0.68468,     0.68569,     0.68669,     0.68769,     0.68869,     0.68969,     0.69069,     0.69169,     0.69269,     0.69369,     0.69469,      0.6957,\n",
       "            0.6967,      0.6977,      0.6987,      0.6997,      0.7007,      0.7017,      0.7027,      0.7037,      0.7047,     0.70571,     0.70671,     0.70771,     0.70871,     0.70971,     0.71071,     0.71171,     0.71271,     0.71371,     0.71471,     0.71572,     0.71672,     0.71772,     0.71872,     0.71972,\n",
       "           0.72072,     0.72172,     0.72272,     0.72372,     0.72472,     0.72573,     0.72673,     0.72773,     0.72873,     0.72973,     0.73073,     0.73173,     0.73273,     0.73373,     0.73473,     0.73574,     0.73674,     0.73774,     0.73874,     0.73974,     0.74074,     0.74174,     0.74274,     0.74374,\n",
       "           0.74474,     0.74575,     0.74675,     0.74775,     0.74875,     0.74975,     0.75075,     0.75175,     0.75275,     0.75375,     0.75475,     0.75576,     0.75676,     0.75776,     0.75876,     0.75976,     0.76076,     0.76176,     0.76276,     0.76376,     0.76476,     0.76577,     0.76677,     0.76777,\n",
       "           0.76877,     0.76977,     0.77077,     0.77177,     0.77277,     0.77377,     0.77477,     0.77578,     0.77678,     0.77778,     0.77878,     0.77978,     0.78078,     0.78178,     0.78278,     0.78378,     0.78478,     0.78579,     0.78679,     0.78779,     0.78879,     0.78979,     0.79079,     0.79179,\n",
       "           0.79279,     0.79379,     0.79479,      0.7958,      0.7968,      0.7978,      0.7988,      0.7998,      0.8008,      0.8018,      0.8028,      0.8038,      0.8048,     0.80581,     0.80681,     0.80781,     0.80881,     0.80981,     0.81081,     0.81181,     0.81281,     0.81381,     0.81481,     0.81582,\n",
       "           0.81682,     0.81782,     0.81882,     0.81982,     0.82082,     0.82182,     0.82282,     0.82382,     0.82482,     0.82583,     0.82683,     0.82783,     0.82883,     0.82983,     0.83083,     0.83183,     0.83283,     0.83383,     0.83483,     0.83584,     0.83684,     0.83784,     0.83884,     0.83984,\n",
       "           0.84084,     0.84184,     0.84284,     0.84384,     0.84484,     0.84585,     0.84685,     0.84785,     0.84885,     0.84985,     0.85085,     0.85185,     0.85285,     0.85385,     0.85485,     0.85586,     0.85686,     0.85786,     0.85886,     0.85986,     0.86086,     0.86186,     0.86286,     0.86386,\n",
       "           0.86486,     0.86587,     0.86687,     0.86787,     0.86887,     0.86987,     0.87087,     0.87187,     0.87287,     0.87387,     0.87487,     0.87588,     0.87688,     0.87788,     0.87888,     0.87988,     0.88088,     0.88188,     0.88288,     0.88388,     0.88488,     0.88589,     0.88689,     0.88789,\n",
       "           0.88889,     0.88989,     0.89089,     0.89189,     0.89289,     0.89389,     0.89489,      0.8959,      0.8969,      0.8979,      0.8989,      0.8999,      0.9009,      0.9019,      0.9029,      0.9039,      0.9049,     0.90591,     0.90691,     0.90791,     0.90891,     0.90991,     0.91091,     0.91191,\n",
       "           0.91291,     0.91391,     0.91491,     0.91592,     0.91692,     0.91792,     0.91892,     0.91992,     0.92092,     0.92192,     0.92292,     0.92392,     0.92492,     0.92593,     0.92693,     0.92793,     0.92893,     0.92993,     0.93093,     0.93193,     0.93293,     0.93393,     0.93493,     0.93594,\n",
       "           0.93694,     0.93794,     0.93894,     0.93994,     0.94094,     0.94194,     0.94294,     0.94394,     0.94494,     0.94595,     0.94695,     0.94795,     0.94895,     0.94995,     0.95095,     0.95195,     0.95295,     0.95395,     0.95495,     0.95596,     0.95696,     0.95796,     0.95896,     0.95996,\n",
       "           0.96096,     0.96196,     0.96296,     0.96396,     0.96496,     0.96597,     0.96697,     0.96797,     0.96897,     0.96997,     0.97097,     0.97197,     0.97297,     0.97397,     0.97497,     0.97598,     0.97698,     0.97798,     0.97898,     0.97998,     0.98098,     0.98198,     0.98298,     0.98398,\n",
       "           0.98498,     0.98599,     0.98699,     0.98799,     0.98899,     0.98999,     0.99099,     0.99199,     0.99299,     0.99399,     0.99499,       0.996,       0.997,       0.998,       0.999,           1]), array([[     0.9779,      0.9779,     0.97514,     0.97514,     0.97238,     0.97238,     0.97238,     0.97238,     0.97238,     0.97238,     0.97238,     0.97238,     0.97238,     0.97238,     0.97238,     0.97238,     0.97238,     0.97238,     0.97238,     0.97238,     0.97238,     0.97238,     0.97238,\n",
       "            0.97238,     0.97238,     0.97238,     0.97238,     0.97238,     0.97238,     0.97238,     0.97238,     0.97238,     0.97238,     0.96961,     0.96961,     0.96961,     0.96961,     0.96961,     0.96961,     0.96961,     0.96961,     0.96961,     0.96961,     0.96961,     0.96961,     0.96961,\n",
       "            0.96961,     0.96961,     0.96961,     0.96961,     0.96961,     0.96961,     0.96961,     0.96961,     0.96961,     0.96961,     0.96961,     0.96961,     0.96961,     0.96961,     0.96961,     0.96961,     0.96961,     0.96961,     0.96961,     0.96961,     0.96961,     0.96961,     0.96961,\n",
       "            0.96961,     0.96961,     0.96903,     0.96687,     0.96685,     0.96685,     0.96685,     0.96685,     0.96685,     0.96685,     0.96685,     0.96685,     0.96685,     0.96685,     0.96685,     0.96685,     0.96685,     0.96685,     0.96685,     0.96685,     0.96685,     0.96685,     0.96685,\n",
       "            0.96685,     0.96685,     0.96409,     0.96409,     0.96409,     0.96409,     0.96409,     0.96409,     0.96409,     0.96409,     0.96409,     0.96409,     0.96409,     0.96409,     0.96409,     0.96409,     0.96409,     0.96409,     0.96409,     0.96409,     0.96409,     0.96409,     0.96409,\n",
       "            0.96409,     0.96409,     0.96409,     0.96409,     0.96409,     0.96409,     0.96409,     0.96409,     0.96409,     0.96409,     0.96409,     0.96409,     0.96409,     0.96409,     0.96409,     0.96409,     0.96409,     0.96402,     0.96276,     0.96151,     0.96133,     0.96133,     0.96133,\n",
       "            0.96133,     0.96133,     0.96133,     0.96133,     0.96133,     0.96133,     0.96133,     0.96133,     0.96133,     0.96133,     0.96133,     0.96133,     0.96133,     0.96133,     0.96133,     0.96133,     0.95856,     0.95856,     0.95856,     0.95856,     0.95856,     0.95856,     0.95856,\n",
       "            0.95856,     0.95856,     0.95856,     0.95856,     0.95856,     0.95856,     0.95856,     0.95856,     0.95856,     0.95744,     0.95469,     0.95304,     0.95304,     0.95094,     0.95028,     0.95028,     0.95028,     0.95028,     0.95028,     0.95028,     0.95028,     0.95028,     0.95009,\n",
       "            0.94914,      0.9482,     0.94751,     0.94751,     0.94722,     0.94655,     0.94589,     0.94522,     0.94475,     0.94475,     0.94475,     0.94475,     0.94475,     0.94475,     0.94475,     0.94475,     0.94475,      0.9433,     0.94199,     0.94199,     0.94199,     0.94199,     0.94199,\n",
       "            0.94199,     0.94199,     0.94199,     0.94199,     0.94199,     0.94199,     0.94199,     0.94199,     0.94199,     0.94199,     0.94199,     0.94151,     0.94099,     0.94048,     0.93996,     0.93945,     0.93923,     0.93923,     0.93923,     0.93923,     0.93923,     0.93923,     0.93923,\n",
       "            0.93923,     0.93923,     0.93923,     0.93923,     0.93923,     0.93923,     0.93923,     0.93923,     0.93923,     0.93811,     0.93646,     0.93646,     0.93646,     0.93646,     0.93646,     0.93646,     0.93646,     0.93646,     0.93646,     0.93646,     0.93646,     0.93646,     0.93646,\n",
       "            0.93646,     0.93646,     0.93646,     0.93646,     0.93646,     0.93646,     0.93646,     0.93646,     0.93646,     0.93646,     0.93646,     0.93646,     0.93646,     0.93646,     0.93646,     0.93495,      0.9337,      0.9337,      0.9337,      0.9337,      0.9337,      0.9337,      0.9337,\n",
       "             0.9337,      0.9337,      0.9337,      0.9337,      0.9337,      0.9337,      0.9337,      0.9337,      0.9337,      0.9337,      0.9337,      0.9337,      0.9337,      0.9337,      0.9337,      0.9337,      0.9337,      0.9337,      0.9337,      0.9337,      0.9337,      0.9337,      0.9337,\n",
       "             0.9337,      0.9337,      0.9337,      0.9337,      0.9337,      0.9337,      0.9337,      0.9337,      0.9337,      0.9337,      0.9337,      0.9337,      0.9337,      0.9337,      0.9337,      0.9337,      0.9337,      0.9337,      0.9337,      0.9337,      0.9337,      0.9337,      0.9337,\n",
       "             0.9337,      0.9337,      0.9337,      0.9337,      0.9337,      0.9337,      0.9337,      0.9337,      0.9337,      0.9337,      0.9337,      0.9337,      0.9337,      0.9337,      0.9337,      0.9337,      0.9337,      0.9337,     0.93319,     0.93216,     0.93113,     0.93094,     0.93094,\n",
       "            0.93094,     0.93094,     0.93094,     0.93042,     0.92966,     0.92891,     0.92816,     0.92753,      0.9269,     0.92627,     0.92564,     0.92359,     0.92265,     0.92265,     0.92265,     0.92265,     0.92265,     0.92265,     0.92265,     0.92265,     0.92265,     0.92265,     0.92265,\n",
       "            0.92265,     0.92265,     0.92265,     0.92265,     0.92265,     0.92265,     0.92265,     0.92265,     0.92265,     0.92265,     0.92265,     0.92265,     0.92265,     0.92265,     0.92265,     0.92265,     0.92265,     0.92265,     0.92265,     0.92076,     0.91989,     0.91989,     0.91989,\n",
       "            0.91989,     0.91989,     0.91989,     0.91989,     0.91989,     0.91989,     0.91989,     0.91989,     0.91989,     0.91989,     0.91989,     0.91989,     0.91931,      0.9186,      0.9179,     0.91719,     0.91713,     0.91713,     0.91713,     0.91713,     0.91713,     0.91713,     0.91713,\n",
       "            0.91713,     0.91713,     0.91713,     0.91713,     0.91713,     0.91686,      0.9165,     0.91613,     0.91577,      0.9154,     0.91504,     0.91467,     0.91392,      0.9116,      0.9116,      0.9116,      0.9116,      0.9116,      0.9116,      0.9116,      0.9116,      0.9116,      0.9116,\n",
       "             0.9116,      0.9116,      0.9116,      0.9116,      0.9116,      0.9116,      0.9116,      0.9116,      0.9116,      0.9116,      0.9116,      0.9116,      0.9116,      0.9116,      0.9116,      0.9116,      0.9116,      0.9116,      0.9116,      0.9116,      0.9116,      0.9116,      0.9116,\n",
       "             0.9116,      0.9116,      0.9116,      0.9116,      0.9116,      0.9116,      0.9116,      0.9116,      0.9116,      0.9116,      0.9116,      0.9116,      0.9116,      0.9116,     0.91139,     0.91113,     0.91087,     0.91061,     0.91036,      0.9101,     0.90984,     0.90958,     0.90933,\n",
       "            0.90907,     0.90883,      0.9087,     0.90858,     0.90846,     0.90833,     0.90821,     0.90809,     0.90796,     0.90784,     0.90772,      0.9076,     0.90747,     0.90735,     0.90723,      0.9071,     0.90698,     0.90686,     0.90673,     0.90661,     0.90649,     0.90636,     0.90624,\n",
       "            0.90612,     0.90608,     0.90608,     0.90608,     0.90608,     0.90608,     0.90533,     0.90439,     0.90344,     0.90282,     0.90226,     0.90169,     0.90113,     0.90056,     0.90055,     0.90055,     0.90055,     0.90055,     0.90055,     0.90055,     0.90055,     0.90055,     0.90055,\n",
       "            0.90055,     0.90055,     0.90055,     0.90055,     0.90055,     0.90055,     0.90055,     0.90055,     0.90055,     0.90055,     0.90055,     0.90055,     0.90055,     0.90055,     0.90055,     0.90055,     0.90055,     0.90055,     0.90055,     0.90055,     0.90055,     0.90055,     0.90055,\n",
       "            0.90055,     0.90055,     0.90055,     0.90055,     0.90055,     0.90055,     0.90055,     0.90055,     0.90055,     0.90055,     0.90055,     0.90015,     0.89944,     0.89873,     0.89802,     0.89779,     0.89779,     0.89779,     0.89779,     0.89779,     0.89779,     0.89779,     0.89779,\n",
       "            0.89779,     0.89779,     0.89779,      0.8972,     0.89657,     0.89594,     0.89531,     0.89451,     0.89356,     0.89262,     0.89168,     0.89073,     0.88979,      0.8895,      0.8895,      0.8895,      0.8895,      0.8895,      0.8895,      0.8895,      0.8895,      0.8895,     0.88671,\n",
       "            0.88662,     0.88654,     0.88646,     0.88638,     0.88629,     0.88621,     0.88613,     0.88605,     0.88597,     0.88588,      0.8858,     0.88572,     0.88564,     0.88556,     0.88547,     0.88539,     0.88531,     0.88523,     0.88515,     0.88506,     0.88498,      0.8849,     0.88482,\n",
       "            0.88474,     0.88465,     0.88457,     0.88449,     0.88441,     0.88432,     0.88424,     0.88416,     0.88408,       0.884,     0.88179,     0.88071,     0.88009,     0.87946,     0.87883,     0.87845,     0.87845,     0.87845,     0.87845,     0.87845,     0.87845,     0.87845,     0.87843,\n",
       "            0.87814,     0.87786,     0.87758,      0.8773,     0.87701,     0.87673,     0.87645,     0.87616,     0.87588,     0.87542,     0.87461,      0.8738,     0.87299,     0.87285,     0.87276,     0.87267,     0.87259,      0.8725,     0.87241,     0.87233,     0.87224,     0.87215,     0.87206,\n",
       "            0.87198,     0.87189,      0.8718,     0.87172,     0.87163,     0.87154,     0.87145,     0.87137,     0.87128,     0.87119,     0.87111,     0.87102,     0.87093,     0.87084,     0.87076,     0.87067,     0.87058,      0.8705,     0.87041,     0.87032,     0.87023,     0.87017,     0.87017,\n",
       "            0.87017,     0.86994,     0.86964,     0.86934,     0.86904,     0.86874,     0.86845,     0.86815,     0.86785,     0.86755,     0.86463,     0.86382,     0.86301,      0.8622,     0.86181,      0.8617,      0.8616,     0.86149,     0.86138,     0.86127,     0.86116,     0.86105,     0.86094,\n",
       "            0.86083,     0.86072,     0.86061,     0.86051,      0.8604,     0.86029,     0.86018,     0.86007,     0.85996,     0.85985,     0.85974,     0.85963,     0.85953,     0.85942,     0.85931,      0.8592,     0.85897,     0.85834,     0.85771,     0.85708,     0.85645,     0.85598,     0.85555,\n",
       "            0.85511,     0.85468,     0.85424,     0.85381,     0.85359,     0.85356,     0.85294,     0.85231,     0.85168,     0.85105,     0.84898,     0.84743,     0.84648,     0.84554,     0.83953,     0.83859,     0.83764,     0.83362,     0.83173,     0.83067,     0.82972,     0.82878,     0.82784,\n",
       "            0.82689,     0.82595,     0.82514,     0.82433,     0.82352,      0.8232,      0.8232,      0.8232,      0.8232,      0.8232,      0.8232,      0.8232,      0.8232,      0.8232,      0.8232,     0.82286,     0.82246,     0.82205,     0.82165,     0.82124,     0.82084,     0.82043,     0.81962,\n",
       "            0.81881,       0.818,      0.8147,     0.81281,     0.80939,     0.80939,     0.80906,     0.80859,     0.80812,     0.80765,     0.80717,      0.8067,     0.80543,     0.80401,     0.80271,      0.8011,     0.79769,     0.79628,     0.79004,     0.78909,     0.78815,     0.78677,     0.78282,\n",
       "            0.77505,     0.76749,     0.76498,     0.76385,     0.76271,     0.76158,     0.76045,      0.7579,     0.75457,     0.75294,     0.75153,     0.75053,     0.74959,     0.74865,     0.74312,     0.74027,     0.73744,     0.73468,     0.73279,     0.73119,     0.72977,     0.72352,     0.72211,\n",
       "            0.71701,     0.71237,     0.71095,      0.7094,     0.70751,     0.70562,     0.70063,     0.69671,     0.68668,     0.68385,     0.67972,     0.67681,     0.67599,     0.67518,     0.67437,     0.67074,     0.66679,     0.65982,     0.65651,     0.64605,     0.64416,     0.63676,     0.62632,\n",
       "            0.62349,      0.6211,     0.61969,     0.61776,     0.61216,     0.60696,     0.60507,     0.59538,     0.58842,      0.5717,     0.55499,      0.5438,     0.53564,     0.52971,     0.52031,     0.51657,      0.5072,     0.46961,     0.46755,      0.4543,     0.43759,     0.41811,     0.41341,\n",
       "            0.40781,     0.39836,     0.38993,     0.37875,     0.37032,     0.35774,     0.35077,     0.34504,     0.32853,     0.31991,     0.29767,     0.29103,     0.27991,     0.27515,     0.25867,     0.25726,     0.25264,      0.2478,     0.24408,     0.22003,     0.21341,     0.20608,     0.19104,\n",
       "            0.17709,     0.16037,     0.15056,     0.14773,     0.12957,     0.11773,     0.11023,     0.10153,    0.093651,    0.091763,    0.087306,    0.080876,    0.076664,    0.065545,    0.061891,    0.057119,    0.050564,    0.042139,    0.038956,    0.035133,    0.033245,    0.032477,    0.031769,\n",
       "           0.031061,    0.030121,    0.019312,    0.018958,    0.018604,     0.01825,    0.017896,    0.017542,    0.017188,    0.016834,    0.015065,    0.012342,     0.01096,    0.010677,    0.010394,    0.010111,   0.0098278,   0.0095446,   0.0092615,   0.0089783,   0.0086952,    0.008412,   0.0067028,\n",
       "                  0,           0,           0,           0,           0,           0,           0,           0,           0,           0,           0,           0,           0,           0,           0,           0,           0,           0,           0,           0,           0,           0,           0,\n",
       "                  0,           0,           0,           0,           0,           0,           0,           0,           0,           0,           0,           0,           0,           0,           0,           0,           0,           0,           0,           0,           0,           0,           0,\n",
       "                  0,           0,           0,           0,           0,           0,           0,           0,           0,           0,           0]]), 'Confidence', 'Recall']]\n",
       "fitness: np.float64(0.7768266049397852)\n",
       "keys: ['metrics/precision(B)', 'metrics/recall(B)', 'metrics/mAP50(B)', 'metrics/mAP50-95(B)']\n",
       "maps: array([    0.75699])\n",
       "names: {0: 'golfball'}\n",
       "plot: True\n",
       "results_dict: {'metrics/precision(B)': np.float64(0.9427906642226265), 'metrics/recall(B)': np.float64(0.9005524861878453), 'metrics/mAP50(B)': np.float64(0.955347081169479), 'metrics/mAP50-95(B)': np.float64(0.7569909964698193), 'fitness': np.float64(0.7768266049397852)}\n",
       "save_dir: PosixPath('runs/detect/yolov8n_golf_ball_100epoch_10patience2')\n",
       "speed: {'preprocess': 0.1192620370240338, 'inference': 3.7448870397247047, 'loss': 0.0004683975624827157, 'postprocess': 0.45570335556975505}\n",
       "task: 'detect'"
      ]
     },
     "execution_count": 3,
     "metadata": {},
     "output_type": "execute_result"
    }
   ],
   "source": [
    "from ultralytics import YOLO\n",
    "\n",
    "# YOLOv8n 모델 로드 (사전학습된 모델)\n",
    "model = YOLO('yolov8n.pt')\n",
    "\n",
    "# 모델 학습 시작\n",
    "model.train(\n",
    "    data='./GolfBallDetector-10/data.yaml',  # YAML 파일 경로\n",
    "    epochs=100, \n",
    "    imgsz=640, # 이미지 크기\n",
    "    batch=8,\n",
    "    name='yolov8n_golf_ball_100epoch_10patience',\n",
    "    patience=10,  # 10 epoch 동안 개선이 없으면 조기 종료\n",
    "    augment=True  # 데이터 증강 활성화, 여러 증강 기법들이 학습 과정에서 자동으로 적용, 여기에는 회전, 크기 조정, 좌우 반전, 밝기 및 대비 조정 등의 다양한 변환이 포함\n",
    ")"
   ]
  },
  {
   "cell_type": "code",
   "execution_count": 4,
   "metadata": {},
   "outputs": [
    {
     "name": "stdout",
     "output_type": "stream",
     "text": [
      "Ultralytics 8.3.27 🚀 Python-3.9.20 torch-2.5.1+cu124 CUDA:0 (NVIDIA GeForce RTX 4090, 24210MiB)\n",
      "Model summary (fused): 168 layers, 3,005,843 parameters, 0 gradients, 8.1 GFLOPs\n"
     ]
    },
    {
     "name": "stderr",
     "output_type": "stream",
     "text": [
      "\u001b[34m\u001b[1mval: \u001b[0mScanning /root/YOLO_GOLF/GolfBallDetector-10/valid/labels.cache... 226 images, 1 backgrounds, 0 corrupt: 100%|██████████| 226/226 [00:00<?, ?it/s]\n",
      "                 Class     Images  Instances      Box(P          R      mAP50  mAP50-95): 100%|██████████| 29/29 [00:01<00:00, 19.55it/s]\n"
     ]
    },
    {
     "name": "stdout",
     "output_type": "stream",
     "text": [
      "                   all        226        362      0.939      0.903      0.958      0.755\n",
      "Speed: 0.1ms preprocess, 3.8ms inference, 0.0ms loss, 0.5ms postprocess per image\n",
      "Results saved to \u001b[1mruns/detect/yolov8n_golf_ball_100epoch_10patience2\u001b[0m\n"
     ]
    }
   ],
   "source": [
    "# 검증 데이터셋으로 모델 평가\n",
    "results = model.val()"
   ]
  },
  {
   "cell_type": "code",
   "execution_count": 7,
   "metadata": {},
   "outputs": [
    {
     "data": {
      "text/html": [
       "<div>\n",
       "<style scoped>\n",
       "    .dataframe tbody tr th:only-of-type {\n",
       "        vertical-align: middle;\n",
       "    }\n",
       "\n",
       "    .dataframe tbody tr th {\n",
       "        vertical-align: top;\n",
       "    }\n",
       "\n",
       "    .dataframe thead th {\n",
       "        text-align: right;\n",
       "    }\n",
       "</style>\n",
       "<table border=\"1\" class=\"dataframe\">\n",
       "  <thead>\n",
       "    <tr style=\"text-align: right;\">\n",
       "      <th></th>\n",
       "      <th>epoch</th>\n",
       "      <th>time</th>\n",
       "      <th>train/box_loss</th>\n",
       "      <th>train/cls_loss</th>\n",
       "      <th>train/dfl_loss</th>\n",
       "      <th>metrics/precision(B)</th>\n",
       "      <th>metrics/recall(B)</th>\n",
       "      <th>metrics/mAP50(B)</th>\n",
       "      <th>metrics/mAP50-95(B)</th>\n",
       "      <th>val/box_loss</th>\n",
       "      <th>val/cls_loss</th>\n",
       "      <th>val/dfl_loss</th>\n",
       "      <th>lr/pg0</th>\n",
       "      <th>lr/pg1</th>\n",
       "      <th>lr/pg2</th>\n",
       "    </tr>\n",
       "  </thead>\n",
       "  <tbody>\n",
       "    <tr>\n",
       "      <th>0</th>\n",
       "      <td>1</td>\n",
       "      <td>17.7974</td>\n",
       "      <td>1.01952</td>\n",
       "      <td>1.53185</td>\n",
       "      <td>1.20647</td>\n",
       "      <td>0.80259</td>\n",
       "      <td>0.77491</td>\n",
       "      <td>0.79671</td>\n",
       "      <td>0.49691</td>\n",
       "      <td>1.16135</td>\n",
       "      <td>1.41043</td>\n",
       "      <td>1.37551</td>\n",
       "      <td>0.000664</td>\n",
       "      <td>0.000664</td>\n",
       "      <td>0.000664</td>\n",
       "    </tr>\n",
       "    <tr>\n",
       "      <th>1</th>\n",
       "      <td>2</td>\n",
       "      <td>31.7419</td>\n",
       "      <td>1.07298</td>\n",
       "      <td>1.17419</td>\n",
       "      <td>1.23323</td>\n",
       "      <td>0.85813</td>\n",
       "      <td>0.76864</td>\n",
       "      <td>0.82944</td>\n",
       "      <td>0.57584</td>\n",
       "      <td>1.04713</td>\n",
       "      <td>1.29217</td>\n",
       "      <td>1.25514</td>\n",
       "      <td>0.001318</td>\n",
       "      <td>0.001318</td>\n",
       "      <td>0.001318</td>\n",
       "    </tr>\n",
       "    <tr>\n",
       "      <th>2</th>\n",
       "      <td>3</td>\n",
       "      <td>45.4636</td>\n",
       "      <td>1.06847</td>\n",
       "      <td>1.02328</td>\n",
       "      <td>1.23297</td>\n",
       "      <td>0.84013</td>\n",
       "      <td>0.79834</td>\n",
       "      <td>0.83440</td>\n",
       "      <td>0.61019</td>\n",
       "      <td>0.95966</td>\n",
       "      <td>0.88772</td>\n",
       "      <td>1.19697</td>\n",
       "      <td>0.001958</td>\n",
       "      <td>0.001958</td>\n",
       "      <td>0.001958</td>\n",
       "    </tr>\n",
       "    <tr>\n",
       "      <th>3</th>\n",
       "      <td>4</td>\n",
       "      <td>59.0101</td>\n",
       "      <td>1.04322</td>\n",
       "      <td>0.94504</td>\n",
       "      <td>1.22133</td>\n",
       "      <td>0.89720</td>\n",
       "      <td>0.82873</td>\n",
       "      <td>0.84483</td>\n",
       "      <td>0.62366</td>\n",
       "      <td>0.98856</td>\n",
       "      <td>0.80684</td>\n",
       "      <td>1.18422</td>\n",
       "      <td>0.001941</td>\n",
       "      <td>0.001941</td>\n",
       "      <td>0.001941</td>\n",
       "    </tr>\n",
       "    <tr>\n",
       "      <th>4</th>\n",
       "      <td>5</td>\n",
       "      <td>72.5478</td>\n",
       "      <td>1.01203</td>\n",
       "      <td>0.88575</td>\n",
       "      <td>1.19647</td>\n",
       "      <td>0.87866</td>\n",
       "      <td>0.82597</td>\n",
       "      <td>0.86330</td>\n",
       "      <td>0.60810</td>\n",
       "      <td>1.00340</td>\n",
       "      <td>0.73188</td>\n",
       "      <td>1.20598</td>\n",
       "      <td>0.001921</td>\n",
       "      <td>0.001921</td>\n",
       "      <td>0.001921</td>\n",
       "    </tr>\n",
       "    <tr>\n",
       "      <th>5</th>\n",
       "      <td>6</td>\n",
       "      <td>85.9300</td>\n",
       "      <td>0.99668</td>\n",
       "      <td>0.85178</td>\n",
       "      <td>1.19100</td>\n",
       "      <td>0.88926</td>\n",
       "      <td>0.84293</td>\n",
       "      <td>0.88276</td>\n",
       "      <td>0.66772</td>\n",
       "      <td>0.93437</td>\n",
       "      <td>0.65269</td>\n",
       "      <td>1.16236</td>\n",
       "      <td>0.001901</td>\n",
       "      <td>0.001901</td>\n",
       "      <td>0.001901</td>\n",
       "    </tr>\n",
       "    <tr>\n",
       "      <th>6</th>\n",
       "      <td>7</td>\n",
       "      <td>99.3824</td>\n",
       "      <td>0.98235</td>\n",
       "      <td>0.77483</td>\n",
       "      <td>1.18446</td>\n",
       "      <td>0.88562</td>\n",
       "      <td>0.81281</td>\n",
       "      <td>0.86249</td>\n",
       "      <td>0.63525</td>\n",
       "      <td>0.94674</td>\n",
       "      <td>0.78779</td>\n",
       "      <td>1.15482</td>\n",
       "      <td>0.001881</td>\n",
       "      <td>0.001881</td>\n",
       "      <td>0.001881</td>\n",
       "    </tr>\n",
       "    <tr>\n",
       "      <th>7</th>\n",
       "      <td>8</td>\n",
       "      <td>112.5970</td>\n",
       "      <td>0.95683</td>\n",
       "      <td>0.77778</td>\n",
       "      <td>1.16248</td>\n",
       "      <td>0.89974</td>\n",
       "      <td>0.81806</td>\n",
       "      <td>0.88123</td>\n",
       "      <td>0.66109</td>\n",
       "      <td>0.87685</td>\n",
       "      <td>0.70493</td>\n",
       "      <td>1.15583</td>\n",
       "      <td>0.001861</td>\n",
       "      <td>0.001861</td>\n",
       "      <td>0.001861</td>\n",
       "    </tr>\n",
       "    <tr>\n",
       "      <th>8</th>\n",
       "      <td>9</td>\n",
       "      <td>126.0160</td>\n",
       "      <td>0.92254</td>\n",
       "      <td>0.74623</td>\n",
       "      <td>1.14646</td>\n",
       "      <td>0.94185</td>\n",
       "      <td>0.85635</td>\n",
       "      <td>0.90279</td>\n",
       "      <td>0.68057</td>\n",
       "      <td>0.90936</td>\n",
       "      <td>0.59504</td>\n",
       "      <td>1.13064</td>\n",
       "      <td>0.001842</td>\n",
       "      <td>0.001842</td>\n",
       "      <td>0.001842</td>\n",
       "    </tr>\n",
       "    <tr>\n",
       "      <th>9</th>\n",
       "      <td>10</td>\n",
       "      <td>139.4550</td>\n",
       "      <td>0.92967</td>\n",
       "      <td>0.73042</td>\n",
       "      <td>1.14381</td>\n",
       "      <td>0.89874</td>\n",
       "      <td>0.85810</td>\n",
       "      <td>0.89501</td>\n",
       "      <td>0.68420</td>\n",
       "      <td>0.86295</td>\n",
       "      <td>0.59679</td>\n",
       "      <td>1.10322</td>\n",
       "      <td>0.001822</td>\n",
       "      <td>0.001822</td>\n",
       "      <td>0.001822</td>\n",
       "    </tr>\n",
       "    <tr>\n",
       "      <th>10</th>\n",
       "      <td>11</td>\n",
       "      <td>152.9010</td>\n",
       "      <td>0.92654</td>\n",
       "      <td>0.70402</td>\n",
       "      <td>1.15365</td>\n",
       "      <td>0.88984</td>\n",
       "      <td>0.81768</td>\n",
       "      <td>0.88247</td>\n",
       "      <td>0.66090</td>\n",
       "      <td>0.89803</td>\n",
       "      <td>0.64214</td>\n",
       "      <td>1.11470</td>\n",
       "      <td>0.001802</td>\n",
       "      <td>0.001802</td>\n",
       "      <td>0.001802</td>\n",
       "    </tr>\n",
       "    <tr>\n",
       "      <th>11</th>\n",
       "      <td>12</td>\n",
       "      <td>166.2640</td>\n",
       "      <td>0.89603</td>\n",
       "      <td>0.68644</td>\n",
       "      <td>1.12778</td>\n",
       "      <td>0.90351</td>\n",
       "      <td>0.85360</td>\n",
       "      <td>0.89291</td>\n",
       "      <td>0.67475</td>\n",
       "      <td>0.87085</td>\n",
       "      <td>0.59157</td>\n",
       "      <td>1.11126</td>\n",
       "      <td>0.001782</td>\n",
       "      <td>0.001782</td>\n",
       "      <td>0.001782</td>\n",
       "    </tr>\n",
       "    <tr>\n",
       "      <th>12</th>\n",
       "      <td>13</td>\n",
       "      <td>179.6010</td>\n",
       "      <td>0.91328</td>\n",
       "      <td>0.69550</td>\n",
       "      <td>1.14228</td>\n",
       "      <td>0.93060</td>\n",
       "      <td>0.85194</td>\n",
       "      <td>0.90723</td>\n",
       "      <td>0.70783</td>\n",
       "      <td>0.83588</td>\n",
       "      <td>0.54958</td>\n",
       "      <td>1.07986</td>\n",
       "      <td>0.001762</td>\n",
       "      <td>0.001762</td>\n",
       "      <td>0.001762</td>\n",
       "    </tr>\n",
       "    <tr>\n",
       "      <th>13</th>\n",
       "      <td>14</td>\n",
       "      <td>192.7140</td>\n",
       "      <td>0.88120</td>\n",
       "      <td>0.67219</td>\n",
       "      <td>1.12802</td>\n",
       "      <td>0.91425</td>\n",
       "      <td>0.87017</td>\n",
       "      <td>0.91175</td>\n",
       "      <td>0.69945</td>\n",
       "      <td>0.83773</td>\n",
       "      <td>0.53198</td>\n",
       "      <td>1.11329</td>\n",
       "      <td>0.001743</td>\n",
       "      <td>0.001743</td>\n",
       "      <td>0.001743</td>\n",
       "    </tr>\n",
       "    <tr>\n",
       "      <th>14</th>\n",
       "      <td>15</td>\n",
       "      <td>205.7980</td>\n",
       "      <td>0.86785</td>\n",
       "      <td>0.64769</td>\n",
       "      <td>1.11963</td>\n",
       "      <td>0.93206</td>\n",
       "      <td>0.87170</td>\n",
       "      <td>0.91483</td>\n",
       "      <td>0.70708</td>\n",
       "      <td>0.83384</td>\n",
       "      <td>0.50101</td>\n",
       "      <td>1.10849</td>\n",
       "      <td>0.001723</td>\n",
       "      <td>0.001723</td>\n",
       "      <td>0.001723</td>\n",
       "    </tr>\n",
       "    <tr>\n",
       "      <th>15</th>\n",
       "      <td>16</td>\n",
       "      <td>218.8990</td>\n",
       "      <td>0.86786</td>\n",
       "      <td>0.64632</td>\n",
       "      <td>1.11543</td>\n",
       "      <td>0.91459</td>\n",
       "      <td>0.82873</td>\n",
       "      <td>0.89865</td>\n",
       "      <td>0.69229</td>\n",
       "      <td>0.85857</td>\n",
       "      <td>0.57011</td>\n",
       "      <td>1.09540</td>\n",
       "      <td>0.001703</td>\n",
       "      <td>0.001703</td>\n",
       "      <td>0.001703</td>\n",
       "    </tr>\n",
       "    <tr>\n",
       "      <th>16</th>\n",
       "      <td>17</td>\n",
       "      <td>232.0830</td>\n",
       "      <td>0.86486</td>\n",
       "      <td>0.64611</td>\n",
       "      <td>1.11779</td>\n",
       "      <td>0.90092</td>\n",
       "      <td>0.89227</td>\n",
       "      <td>0.91203</td>\n",
       "      <td>0.69947</td>\n",
       "      <td>0.84290</td>\n",
       "      <td>0.51215</td>\n",
       "      <td>1.09158</td>\n",
       "      <td>0.001683</td>\n",
       "      <td>0.001683</td>\n",
       "      <td>0.001683</td>\n",
       "    </tr>\n",
       "    <tr>\n",
       "      <th>17</th>\n",
       "      <td>18</td>\n",
       "      <td>245.1500</td>\n",
       "      <td>0.85491</td>\n",
       "      <td>0.63981</td>\n",
       "      <td>1.10847</td>\n",
       "      <td>0.89484</td>\n",
       "      <td>0.87569</td>\n",
       "      <td>0.91829</td>\n",
       "      <td>0.70438</td>\n",
       "      <td>0.83941</td>\n",
       "      <td>0.51151</td>\n",
       "      <td>1.07252</td>\n",
       "      <td>0.001663</td>\n",
       "      <td>0.001663</td>\n",
       "      <td>0.001663</td>\n",
       "    </tr>\n",
       "    <tr>\n",
       "      <th>18</th>\n",
       "      <td>19</td>\n",
       "      <td>258.2370</td>\n",
       "      <td>0.85131</td>\n",
       "      <td>0.61237</td>\n",
       "      <td>1.11015</td>\n",
       "      <td>0.91762</td>\n",
       "      <td>0.89237</td>\n",
       "      <td>0.91519</td>\n",
       "      <td>0.70597</td>\n",
       "      <td>0.79637</td>\n",
       "      <td>0.48978</td>\n",
       "      <td>1.07643</td>\n",
       "      <td>0.001644</td>\n",
       "      <td>0.001644</td>\n",
       "      <td>0.001644</td>\n",
       "    </tr>\n",
       "    <tr>\n",
       "      <th>19</th>\n",
       "      <td>20</td>\n",
       "      <td>270.9880</td>\n",
       "      <td>0.85203</td>\n",
       "      <td>0.60806</td>\n",
       "      <td>1.10932</td>\n",
       "      <td>0.92004</td>\n",
       "      <td>0.88398</td>\n",
       "      <td>0.92138</td>\n",
       "      <td>0.71245</td>\n",
       "      <td>0.81757</td>\n",
       "      <td>0.49651</td>\n",
       "      <td>1.10220</td>\n",
       "      <td>0.001624</td>\n",
       "      <td>0.001624</td>\n",
       "      <td>0.001624</td>\n",
       "    </tr>\n",
       "    <tr>\n",
       "      <th>20</th>\n",
       "      <td>21</td>\n",
       "      <td>283.8580</td>\n",
       "      <td>0.84781</td>\n",
       "      <td>0.60460</td>\n",
       "      <td>1.10987</td>\n",
       "      <td>0.92983</td>\n",
       "      <td>0.84254</td>\n",
       "      <td>0.91628</td>\n",
       "      <td>0.70774</td>\n",
       "      <td>0.83854</td>\n",
       "      <td>0.52532</td>\n",
       "      <td>1.09921</td>\n",
       "      <td>0.001604</td>\n",
       "      <td>0.001604</td>\n",
       "      <td>0.001604</td>\n",
       "    </tr>\n",
       "    <tr>\n",
       "      <th>21</th>\n",
       "      <td>22</td>\n",
       "      <td>297.0260</td>\n",
       "      <td>0.83568</td>\n",
       "      <td>0.58808</td>\n",
       "      <td>1.09331</td>\n",
       "      <td>0.87778</td>\n",
       "      <td>0.87294</td>\n",
       "      <td>0.92178</td>\n",
       "      <td>0.70590</td>\n",
       "      <td>0.82556</td>\n",
       "      <td>0.54430</td>\n",
       "      <td>1.10313</td>\n",
       "      <td>0.001584</td>\n",
       "      <td>0.001584</td>\n",
       "      <td>0.001584</td>\n",
       "    </tr>\n",
       "    <tr>\n",
       "      <th>22</th>\n",
       "      <td>23</td>\n",
       "      <td>310.2710</td>\n",
       "      <td>0.82730</td>\n",
       "      <td>0.57689</td>\n",
       "      <td>1.09361</td>\n",
       "      <td>0.92974</td>\n",
       "      <td>0.87729</td>\n",
       "      <td>0.92703</td>\n",
       "      <td>0.71648</td>\n",
       "      <td>0.81912</td>\n",
       "      <td>0.46670</td>\n",
       "      <td>1.06936</td>\n",
       "      <td>0.001564</td>\n",
       "      <td>0.001564</td>\n",
       "      <td>0.001564</td>\n",
       "    </tr>\n",
       "    <tr>\n",
       "      <th>23</th>\n",
       "      <td>24</td>\n",
       "      <td>323.4960</td>\n",
       "      <td>0.83382</td>\n",
       "      <td>0.59273</td>\n",
       "      <td>1.09587</td>\n",
       "      <td>0.88638</td>\n",
       "      <td>0.90331</td>\n",
       "      <td>0.93584</td>\n",
       "      <td>0.72757</td>\n",
       "      <td>0.84406</td>\n",
       "      <td>0.46577</td>\n",
       "      <td>1.08030</td>\n",
       "      <td>0.001545</td>\n",
       "      <td>0.001545</td>\n",
       "      <td>0.001545</td>\n",
       "    </tr>\n",
       "    <tr>\n",
       "      <th>24</th>\n",
       "      <td>25</td>\n",
       "      <td>336.6830</td>\n",
       "      <td>0.82775</td>\n",
       "      <td>0.57648</td>\n",
       "      <td>1.09240</td>\n",
       "      <td>0.91486</td>\n",
       "      <td>0.86077</td>\n",
       "      <td>0.92468</td>\n",
       "      <td>0.71085</td>\n",
       "      <td>0.80879</td>\n",
       "      <td>0.51045</td>\n",
       "      <td>1.07979</td>\n",
       "      <td>0.001525</td>\n",
       "      <td>0.001525</td>\n",
       "      <td>0.001525</td>\n",
       "    </tr>\n",
       "    <tr>\n",
       "      <th>25</th>\n",
       "      <td>26</td>\n",
       "      <td>349.7480</td>\n",
       "      <td>0.82668</td>\n",
       "      <td>0.57686</td>\n",
       "      <td>1.09681</td>\n",
       "      <td>0.94244</td>\n",
       "      <td>0.87017</td>\n",
       "      <td>0.93339</td>\n",
       "      <td>0.72176</td>\n",
       "      <td>0.79909</td>\n",
       "      <td>0.50467</td>\n",
       "      <td>1.08505</td>\n",
       "      <td>0.001505</td>\n",
       "      <td>0.001505</td>\n",
       "      <td>0.001505</td>\n",
       "    </tr>\n",
       "    <tr>\n",
       "      <th>26</th>\n",
       "      <td>27</td>\n",
       "      <td>362.8790</td>\n",
       "      <td>0.82746</td>\n",
       "      <td>0.57503</td>\n",
       "      <td>1.09063</td>\n",
       "      <td>0.93404</td>\n",
       "      <td>0.84254</td>\n",
       "      <td>0.91397</td>\n",
       "      <td>0.72855</td>\n",
       "      <td>0.79438</td>\n",
       "      <td>0.47946</td>\n",
       "      <td>1.06730</td>\n",
       "      <td>0.001485</td>\n",
       "      <td>0.001485</td>\n",
       "      <td>0.001485</td>\n",
       "    </tr>\n",
       "    <tr>\n",
       "      <th>27</th>\n",
       "      <td>28</td>\n",
       "      <td>375.5840</td>\n",
       "      <td>0.80157</td>\n",
       "      <td>0.55944</td>\n",
       "      <td>1.07917</td>\n",
       "      <td>0.91752</td>\n",
       "      <td>0.86041</td>\n",
       "      <td>0.92917</td>\n",
       "      <td>0.71924</td>\n",
       "      <td>0.80085</td>\n",
       "      <td>0.49541</td>\n",
       "      <td>1.07394</td>\n",
       "      <td>0.001465</td>\n",
       "      <td>0.001465</td>\n",
       "      <td>0.001465</td>\n",
       "    </tr>\n",
       "    <tr>\n",
       "      <th>28</th>\n",
       "      <td>29</td>\n",
       "      <td>388.3770</td>\n",
       "      <td>0.81690</td>\n",
       "      <td>0.56153</td>\n",
       "      <td>1.08223</td>\n",
       "      <td>0.90519</td>\n",
       "      <td>0.86188</td>\n",
       "      <td>0.91763</td>\n",
       "      <td>0.72059</td>\n",
       "      <td>0.79062</td>\n",
       "      <td>0.46601</td>\n",
       "      <td>1.06023</td>\n",
       "      <td>0.001446</td>\n",
       "      <td>0.001446</td>\n",
       "      <td>0.001446</td>\n",
       "    </tr>\n",
       "    <tr>\n",
       "      <th>29</th>\n",
       "      <td>30</td>\n",
       "      <td>401.5470</td>\n",
       "      <td>0.81080</td>\n",
       "      <td>0.56951</td>\n",
       "      <td>1.08065</td>\n",
       "      <td>0.94026</td>\n",
       "      <td>0.88122</td>\n",
       "      <td>0.93259</td>\n",
       "      <td>0.72076</td>\n",
       "      <td>0.79468</td>\n",
       "      <td>0.44887</td>\n",
       "      <td>1.06256</td>\n",
       "      <td>0.001426</td>\n",
       "      <td>0.001426</td>\n",
       "      <td>0.001426</td>\n",
       "    </tr>\n",
       "    <tr>\n",
       "      <th>30</th>\n",
       "      <td>31</td>\n",
       "      <td>414.6560</td>\n",
       "      <td>0.81101</td>\n",
       "      <td>0.56258</td>\n",
       "      <td>1.08455</td>\n",
       "      <td>0.95719</td>\n",
       "      <td>0.86473</td>\n",
       "      <td>0.93407</td>\n",
       "      <td>0.72495</td>\n",
       "      <td>0.81068</td>\n",
       "      <td>0.49602</td>\n",
       "      <td>1.06946</td>\n",
       "      <td>0.001406</td>\n",
       "      <td>0.001406</td>\n",
       "      <td>0.001406</td>\n",
       "    </tr>\n",
       "    <tr>\n",
       "      <th>31</th>\n",
       "      <td>32</td>\n",
       "      <td>427.3970</td>\n",
       "      <td>0.79301</td>\n",
       "      <td>0.55429</td>\n",
       "      <td>1.06708</td>\n",
       "      <td>0.91938</td>\n",
       "      <td>0.88207</td>\n",
       "      <td>0.93256</td>\n",
       "      <td>0.72640</td>\n",
       "      <td>0.80112</td>\n",
       "      <td>0.47158</td>\n",
       "      <td>1.05501</td>\n",
       "      <td>0.001386</td>\n",
       "      <td>0.001386</td>\n",
       "      <td>0.001386</td>\n",
       "    </tr>\n",
       "    <tr>\n",
       "      <th>32</th>\n",
       "      <td>33</td>\n",
       "      <td>440.6230</td>\n",
       "      <td>0.78662</td>\n",
       "      <td>0.54000</td>\n",
       "      <td>1.07611</td>\n",
       "      <td>0.92441</td>\n",
       "      <td>0.88398</td>\n",
       "      <td>0.93220</td>\n",
       "      <td>0.73260</td>\n",
       "      <td>0.78508</td>\n",
       "      <td>0.45605</td>\n",
       "      <td>1.06632</td>\n",
       "      <td>0.001366</td>\n",
       "      <td>0.001366</td>\n",
       "      <td>0.001366</td>\n",
       "    </tr>\n",
       "    <tr>\n",
       "      <th>33</th>\n",
       "      <td>34</td>\n",
       "      <td>453.5540</td>\n",
       "      <td>0.79398</td>\n",
       "      <td>0.54052</td>\n",
       "      <td>1.07071</td>\n",
       "      <td>0.91614</td>\n",
       "      <td>0.90055</td>\n",
       "      <td>0.93453</td>\n",
       "      <td>0.72726</td>\n",
       "      <td>0.79340</td>\n",
       "      <td>0.45312</td>\n",
       "      <td>1.06557</td>\n",
       "      <td>0.001347</td>\n",
       "      <td>0.001347</td>\n",
       "      <td>0.001347</td>\n",
       "    </tr>\n",
       "    <tr>\n",
       "      <th>34</th>\n",
       "      <td>35</td>\n",
       "      <td>466.2910</td>\n",
       "      <td>0.78621</td>\n",
       "      <td>0.53162</td>\n",
       "      <td>1.06592</td>\n",
       "      <td>0.93565</td>\n",
       "      <td>0.88365</td>\n",
       "      <td>0.92865</td>\n",
       "      <td>0.72635</td>\n",
       "      <td>0.80261</td>\n",
       "      <td>0.48985</td>\n",
       "      <td>1.06586</td>\n",
       "      <td>0.001327</td>\n",
       "      <td>0.001327</td>\n",
       "      <td>0.001327</td>\n",
       "    </tr>\n",
       "    <tr>\n",
       "      <th>35</th>\n",
       "      <td>36</td>\n",
       "      <td>479.0900</td>\n",
       "      <td>0.78570</td>\n",
       "      <td>0.54266</td>\n",
       "      <td>1.07819</td>\n",
       "      <td>0.94232</td>\n",
       "      <td>0.85752</td>\n",
       "      <td>0.92861</td>\n",
       "      <td>0.73047</td>\n",
       "      <td>0.79257</td>\n",
       "      <td>0.47707</td>\n",
       "      <td>1.07070</td>\n",
       "      <td>0.001307</td>\n",
       "      <td>0.001307</td>\n",
       "      <td>0.001307</td>\n",
       "    </tr>\n",
       "    <tr>\n",
       "      <th>36</th>\n",
       "      <td>37</td>\n",
       "      <td>493.0830</td>\n",
       "      <td>0.77399</td>\n",
       "      <td>0.52023</td>\n",
       "      <td>1.06862</td>\n",
       "      <td>0.93781</td>\n",
       "      <td>0.86464</td>\n",
       "      <td>0.93175</td>\n",
       "      <td>0.71948</td>\n",
       "      <td>0.81639</td>\n",
       "      <td>0.46151</td>\n",
       "      <td>1.08590</td>\n",
       "      <td>0.001287</td>\n",
       "      <td>0.001287</td>\n",
       "      <td>0.001287</td>\n",
       "    </tr>\n",
       "    <tr>\n",
       "      <th>37</th>\n",
       "      <td>38</td>\n",
       "      <td>506.5920</td>\n",
       "      <td>0.77022</td>\n",
       "      <td>0.51453</td>\n",
       "      <td>1.06457</td>\n",
       "      <td>0.94274</td>\n",
       "      <td>0.87293</td>\n",
       "      <td>0.94033</td>\n",
       "      <td>0.74101</td>\n",
       "      <td>0.76465</td>\n",
       "      <td>0.44210</td>\n",
       "      <td>1.04522</td>\n",
       "      <td>0.001267</td>\n",
       "      <td>0.001267</td>\n",
       "      <td>0.001267</td>\n",
       "    </tr>\n",
       "    <tr>\n",
       "      <th>38</th>\n",
       "      <td>39</td>\n",
       "      <td>519.5080</td>\n",
       "      <td>0.77560</td>\n",
       "      <td>0.51575</td>\n",
       "      <td>1.06505</td>\n",
       "      <td>0.89276</td>\n",
       "      <td>0.91989</td>\n",
       "      <td>0.94020</td>\n",
       "      <td>0.72838</td>\n",
       "      <td>0.79781</td>\n",
       "      <td>0.45392</td>\n",
       "      <td>1.08004</td>\n",
       "      <td>0.001248</td>\n",
       "      <td>0.001248</td>\n",
       "      <td>0.001248</td>\n",
       "    </tr>\n",
       "    <tr>\n",
       "      <th>39</th>\n",
       "      <td>40</td>\n",
       "      <td>532.1270</td>\n",
       "      <td>0.78333</td>\n",
       "      <td>0.52093</td>\n",
       "      <td>1.06409</td>\n",
       "      <td>0.93023</td>\n",
       "      <td>0.88390</td>\n",
       "      <td>0.94303</td>\n",
       "      <td>0.74922</td>\n",
       "      <td>0.77306</td>\n",
       "      <td>0.43013</td>\n",
       "      <td>1.05602</td>\n",
       "      <td>0.001228</td>\n",
       "      <td>0.001228</td>\n",
       "      <td>0.001228</td>\n",
       "    </tr>\n",
       "    <tr>\n",
       "      <th>40</th>\n",
       "      <td>41</td>\n",
       "      <td>544.8410</td>\n",
       "      <td>0.76677</td>\n",
       "      <td>0.51462</td>\n",
       "      <td>1.06040</td>\n",
       "      <td>0.94424</td>\n",
       "      <td>0.88874</td>\n",
       "      <td>0.93223</td>\n",
       "      <td>0.73494</td>\n",
       "      <td>0.78437</td>\n",
       "      <td>0.43439</td>\n",
       "      <td>1.07260</td>\n",
       "      <td>0.001208</td>\n",
       "      <td>0.001208</td>\n",
       "      <td>0.001208</td>\n",
       "    </tr>\n",
       "    <tr>\n",
       "      <th>41</th>\n",
       "      <td>42</td>\n",
       "      <td>557.4260</td>\n",
       "      <td>0.75953</td>\n",
       "      <td>0.50546</td>\n",
       "      <td>1.05942</td>\n",
       "      <td>0.91507</td>\n",
       "      <td>0.89503</td>\n",
       "      <td>0.94234</td>\n",
       "      <td>0.74723</td>\n",
       "      <td>0.75043</td>\n",
       "      <td>0.42802</td>\n",
       "      <td>1.05250</td>\n",
       "      <td>0.001188</td>\n",
       "      <td>0.001188</td>\n",
       "      <td>0.001188</td>\n",
       "    </tr>\n",
       "    <tr>\n",
       "      <th>42</th>\n",
       "      <td>43</td>\n",
       "      <td>570.0230</td>\n",
       "      <td>0.78124</td>\n",
       "      <td>0.50539</td>\n",
       "      <td>1.06590</td>\n",
       "      <td>0.94589</td>\n",
       "      <td>0.86914</td>\n",
       "      <td>0.94134</td>\n",
       "      <td>0.75121</td>\n",
       "      <td>0.76409</td>\n",
       "      <td>0.41651</td>\n",
       "      <td>1.05820</td>\n",
       "      <td>0.001168</td>\n",
       "      <td>0.001168</td>\n",
       "      <td>0.001168</td>\n",
       "    </tr>\n",
       "    <tr>\n",
       "      <th>43</th>\n",
       "      <td>44</td>\n",
       "      <td>582.7380</td>\n",
       "      <td>0.76353</td>\n",
       "      <td>0.50857</td>\n",
       "      <td>1.05610</td>\n",
       "      <td>0.92905</td>\n",
       "      <td>0.89503</td>\n",
       "      <td>0.93948</td>\n",
       "      <td>0.73806</td>\n",
       "      <td>0.76898</td>\n",
       "      <td>0.43071</td>\n",
       "      <td>1.06058</td>\n",
       "      <td>0.001149</td>\n",
       "      <td>0.001149</td>\n",
       "      <td>0.001149</td>\n",
       "    </tr>\n",
       "    <tr>\n",
       "      <th>44</th>\n",
       "      <td>45</td>\n",
       "      <td>595.3230</td>\n",
       "      <td>0.74970</td>\n",
       "      <td>0.48794</td>\n",
       "      <td>1.05278</td>\n",
       "      <td>0.90556</td>\n",
       "      <td>0.90608</td>\n",
       "      <td>0.94718</td>\n",
       "      <td>0.75124</td>\n",
       "      <td>0.78645</td>\n",
       "      <td>0.43934</td>\n",
       "      <td>1.06917</td>\n",
       "      <td>0.001129</td>\n",
       "      <td>0.001129</td>\n",
       "      <td>0.001129</td>\n",
       "    </tr>\n",
       "    <tr>\n",
       "      <th>45</th>\n",
       "      <td>46</td>\n",
       "      <td>608.2340</td>\n",
       "      <td>0.74554</td>\n",
       "      <td>0.48737</td>\n",
       "      <td>1.05878</td>\n",
       "      <td>0.89928</td>\n",
       "      <td>0.91255</td>\n",
       "      <td>0.93674</td>\n",
       "      <td>0.74327</td>\n",
       "      <td>0.77357</td>\n",
       "      <td>0.42903</td>\n",
       "      <td>1.06439</td>\n",
       "      <td>0.001109</td>\n",
       "      <td>0.001109</td>\n",
       "      <td>0.001109</td>\n",
       "    </tr>\n",
       "    <tr>\n",
       "      <th>46</th>\n",
       "      <td>47</td>\n",
       "      <td>621.3660</td>\n",
       "      <td>0.75006</td>\n",
       "      <td>0.48857</td>\n",
       "      <td>1.05261</td>\n",
       "      <td>0.97143</td>\n",
       "      <td>0.84535</td>\n",
       "      <td>0.93818</td>\n",
       "      <td>0.74272</td>\n",
       "      <td>0.76425</td>\n",
       "      <td>0.42600</td>\n",
       "      <td>1.06191</td>\n",
       "      <td>0.001089</td>\n",
       "      <td>0.001089</td>\n",
       "      <td>0.001089</td>\n",
       "    </tr>\n",
       "    <tr>\n",
       "      <th>47</th>\n",
       "      <td>48</td>\n",
       "      <td>634.2560</td>\n",
       "      <td>0.74478</td>\n",
       "      <td>0.48043</td>\n",
       "      <td>1.05185</td>\n",
       "      <td>0.92283</td>\n",
       "      <td>0.91989</td>\n",
       "      <td>0.95697</td>\n",
       "      <td>0.76254</td>\n",
       "      <td>0.78182</td>\n",
       "      <td>0.39844</td>\n",
       "      <td>1.05879</td>\n",
       "      <td>0.001069</td>\n",
       "      <td>0.001069</td>\n",
       "      <td>0.001069</td>\n",
       "    </tr>\n",
       "    <tr>\n",
       "      <th>48</th>\n",
       "      <td>49</td>\n",
       "      <td>647.4900</td>\n",
       "      <td>0.73980</td>\n",
       "      <td>0.47814</td>\n",
       "      <td>1.05408</td>\n",
       "      <td>0.92438</td>\n",
       "      <td>0.91173</td>\n",
       "      <td>0.95466</td>\n",
       "      <td>0.74716</td>\n",
       "      <td>0.79849</td>\n",
       "      <td>0.42810</td>\n",
       "      <td>1.07660</td>\n",
       "      <td>0.001050</td>\n",
       "      <td>0.001050</td>\n",
       "      <td>0.001050</td>\n",
       "    </tr>\n",
       "    <tr>\n",
       "      <th>49</th>\n",
       "      <td>50</td>\n",
       "      <td>660.7830</td>\n",
       "      <td>0.73651</td>\n",
       "      <td>0.48575</td>\n",
       "      <td>1.05163</td>\n",
       "      <td>0.92439</td>\n",
       "      <td>0.89503</td>\n",
       "      <td>0.94906</td>\n",
       "      <td>0.75612</td>\n",
       "      <td>0.72637</td>\n",
       "      <td>0.42050</td>\n",
       "      <td>1.04158</td>\n",
       "      <td>0.001030</td>\n",
       "      <td>0.001030</td>\n",
       "      <td>0.001030</td>\n",
       "    </tr>\n",
       "    <tr>\n",
       "      <th>50</th>\n",
       "      <td>51</td>\n",
       "      <td>674.1190</td>\n",
       "      <td>0.74019</td>\n",
       "      <td>0.47610</td>\n",
       "      <td>1.04263</td>\n",
       "      <td>0.94023</td>\n",
       "      <td>0.86740</td>\n",
       "      <td>0.94349</td>\n",
       "      <td>0.73524</td>\n",
       "      <td>0.81493</td>\n",
       "      <td>0.47627</td>\n",
       "      <td>1.07577</td>\n",
       "      <td>0.001010</td>\n",
       "      <td>0.001010</td>\n",
       "      <td>0.001010</td>\n",
       "    </tr>\n",
       "    <tr>\n",
       "      <th>51</th>\n",
       "      <td>52</td>\n",
       "      <td>687.5320</td>\n",
       "      <td>0.74143</td>\n",
       "      <td>0.46510</td>\n",
       "      <td>1.04231</td>\n",
       "      <td>0.95334</td>\n",
       "      <td>0.84669</td>\n",
       "      <td>0.92727</td>\n",
       "      <td>0.73752</td>\n",
       "      <td>0.77235</td>\n",
       "      <td>0.42564</td>\n",
       "      <td>1.05784</td>\n",
       "      <td>0.000990</td>\n",
       "      <td>0.000990</td>\n",
       "      <td>0.000990</td>\n",
       "    </tr>\n",
       "    <tr>\n",
       "      <th>52</th>\n",
       "      <td>53</td>\n",
       "      <td>700.8760</td>\n",
       "      <td>0.73470</td>\n",
       "      <td>0.46362</td>\n",
       "      <td>1.03724</td>\n",
       "      <td>0.93092</td>\n",
       "      <td>0.87017</td>\n",
       "      <td>0.93461</td>\n",
       "      <td>0.75296</td>\n",
       "      <td>0.75589</td>\n",
       "      <td>0.41594</td>\n",
       "      <td>1.05677</td>\n",
       "      <td>0.000970</td>\n",
       "      <td>0.000970</td>\n",
       "      <td>0.000970</td>\n",
       "    </tr>\n",
       "    <tr>\n",
       "      <th>53</th>\n",
       "      <td>54</td>\n",
       "      <td>714.2030</td>\n",
       "      <td>0.72784</td>\n",
       "      <td>0.46808</td>\n",
       "      <td>1.04266</td>\n",
       "      <td>0.95773</td>\n",
       "      <td>0.87626</td>\n",
       "      <td>0.94049</td>\n",
       "      <td>0.74831</td>\n",
       "      <td>0.79234</td>\n",
       "      <td>0.41672</td>\n",
       "      <td>1.07434</td>\n",
       "      <td>0.000951</td>\n",
       "      <td>0.000951</td>\n",
       "      <td>0.000951</td>\n",
       "    </tr>\n",
       "    <tr>\n",
       "      <th>54</th>\n",
       "      <td>55</td>\n",
       "      <td>727.1460</td>\n",
       "      <td>0.72762</td>\n",
       "      <td>0.46274</td>\n",
       "      <td>1.04609</td>\n",
       "      <td>0.92401</td>\n",
       "      <td>0.90331</td>\n",
       "      <td>0.95185</td>\n",
       "      <td>0.75443</td>\n",
       "      <td>0.75260</td>\n",
       "      <td>0.40220</td>\n",
       "      <td>1.04596</td>\n",
       "      <td>0.000931</td>\n",
       "      <td>0.000931</td>\n",
       "      <td>0.000931</td>\n",
       "    </tr>\n",
       "    <tr>\n",
       "      <th>55</th>\n",
       "      <td>56</td>\n",
       "      <td>740.2050</td>\n",
       "      <td>0.72028</td>\n",
       "      <td>0.46493</td>\n",
       "      <td>1.03501</td>\n",
       "      <td>0.92368</td>\n",
       "      <td>0.90269</td>\n",
       "      <td>0.95338</td>\n",
       "      <td>0.76027</td>\n",
       "      <td>0.74391</td>\n",
       "      <td>0.41502</td>\n",
       "      <td>1.05146</td>\n",
       "      <td>0.000911</td>\n",
       "      <td>0.000911</td>\n",
       "      <td>0.000911</td>\n",
       "    </tr>\n",
       "    <tr>\n",
       "      <th>56</th>\n",
       "      <td>57</td>\n",
       "      <td>753.1940</td>\n",
       "      <td>0.71235</td>\n",
       "      <td>0.45250</td>\n",
       "      <td>1.03065</td>\n",
       "      <td>0.93225</td>\n",
       "      <td>0.90608</td>\n",
       "      <td>0.95788</td>\n",
       "      <td>0.75960</td>\n",
       "      <td>0.77092</td>\n",
       "      <td>0.40347</td>\n",
       "      <td>1.05601</td>\n",
       "      <td>0.000891</td>\n",
       "      <td>0.000891</td>\n",
       "      <td>0.000891</td>\n",
       "    </tr>\n",
       "    <tr>\n",
       "      <th>57</th>\n",
       "      <td>58</td>\n",
       "      <td>766.1470</td>\n",
       "      <td>0.72731</td>\n",
       "      <td>0.46659</td>\n",
       "      <td>1.04254</td>\n",
       "      <td>0.89793</td>\n",
       "      <td>0.91713</td>\n",
       "      <td>0.95525</td>\n",
       "      <td>0.76241</td>\n",
       "      <td>0.75116</td>\n",
       "      <td>0.41282</td>\n",
       "      <td>1.04697</td>\n",
       "      <td>0.000871</td>\n",
       "      <td>0.000871</td>\n",
       "      <td>0.000871</td>\n",
       "    </tr>\n",
       "  </tbody>\n",
       "</table>\n",
       "</div>"
      ],
      "text/plain": [
       "    epoch      time  train/box_loss  train/cls_loss  train/dfl_loss  \\\n",
       "0       1   17.7974         1.01952         1.53185         1.20647   \n",
       "1       2   31.7419         1.07298         1.17419         1.23323   \n",
       "2       3   45.4636         1.06847         1.02328         1.23297   \n",
       "3       4   59.0101         1.04322         0.94504         1.22133   \n",
       "4       5   72.5478         1.01203         0.88575         1.19647   \n",
       "5       6   85.9300         0.99668         0.85178         1.19100   \n",
       "6       7   99.3824         0.98235         0.77483         1.18446   \n",
       "7       8  112.5970         0.95683         0.77778         1.16248   \n",
       "8       9  126.0160         0.92254         0.74623         1.14646   \n",
       "9      10  139.4550         0.92967         0.73042         1.14381   \n",
       "10     11  152.9010         0.92654         0.70402         1.15365   \n",
       "11     12  166.2640         0.89603         0.68644         1.12778   \n",
       "12     13  179.6010         0.91328         0.69550         1.14228   \n",
       "13     14  192.7140         0.88120         0.67219         1.12802   \n",
       "14     15  205.7980         0.86785         0.64769         1.11963   \n",
       "15     16  218.8990         0.86786         0.64632         1.11543   \n",
       "16     17  232.0830         0.86486         0.64611         1.11779   \n",
       "17     18  245.1500         0.85491         0.63981         1.10847   \n",
       "18     19  258.2370         0.85131         0.61237         1.11015   \n",
       "19     20  270.9880         0.85203         0.60806         1.10932   \n",
       "20     21  283.8580         0.84781         0.60460         1.10987   \n",
       "21     22  297.0260         0.83568         0.58808         1.09331   \n",
       "22     23  310.2710         0.82730         0.57689         1.09361   \n",
       "23     24  323.4960         0.83382         0.59273         1.09587   \n",
       "24     25  336.6830         0.82775         0.57648         1.09240   \n",
       "25     26  349.7480         0.82668         0.57686         1.09681   \n",
       "26     27  362.8790         0.82746         0.57503         1.09063   \n",
       "27     28  375.5840         0.80157         0.55944         1.07917   \n",
       "28     29  388.3770         0.81690         0.56153         1.08223   \n",
       "29     30  401.5470         0.81080         0.56951         1.08065   \n",
       "30     31  414.6560         0.81101         0.56258         1.08455   \n",
       "31     32  427.3970         0.79301         0.55429         1.06708   \n",
       "32     33  440.6230         0.78662         0.54000         1.07611   \n",
       "33     34  453.5540         0.79398         0.54052         1.07071   \n",
       "34     35  466.2910         0.78621         0.53162         1.06592   \n",
       "35     36  479.0900         0.78570         0.54266         1.07819   \n",
       "36     37  493.0830         0.77399         0.52023         1.06862   \n",
       "37     38  506.5920         0.77022         0.51453         1.06457   \n",
       "38     39  519.5080         0.77560         0.51575         1.06505   \n",
       "39     40  532.1270         0.78333         0.52093         1.06409   \n",
       "40     41  544.8410         0.76677         0.51462         1.06040   \n",
       "41     42  557.4260         0.75953         0.50546         1.05942   \n",
       "42     43  570.0230         0.78124         0.50539         1.06590   \n",
       "43     44  582.7380         0.76353         0.50857         1.05610   \n",
       "44     45  595.3230         0.74970         0.48794         1.05278   \n",
       "45     46  608.2340         0.74554         0.48737         1.05878   \n",
       "46     47  621.3660         0.75006         0.48857         1.05261   \n",
       "47     48  634.2560         0.74478         0.48043         1.05185   \n",
       "48     49  647.4900         0.73980         0.47814         1.05408   \n",
       "49     50  660.7830         0.73651         0.48575         1.05163   \n",
       "50     51  674.1190         0.74019         0.47610         1.04263   \n",
       "51     52  687.5320         0.74143         0.46510         1.04231   \n",
       "52     53  700.8760         0.73470         0.46362         1.03724   \n",
       "53     54  714.2030         0.72784         0.46808         1.04266   \n",
       "54     55  727.1460         0.72762         0.46274         1.04609   \n",
       "55     56  740.2050         0.72028         0.46493         1.03501   \n",
       "56     57  753.1940         0.71235         0.45250         1.03065   \n",
       "57     58  766.1470         0.72731         0.46659         1.04254   \n",
       "\n",
       "    metrics/precision(B)  metrics/recall(B)  metrics/mAP50(B)  \\\n",
       "0                0.80259            0.77491           0.79671   \n",
       "1                0.85813            0.76864           0.82944   \n",
       "2                0.84013            0.79834           0.83440   \n",
       "3                0.89720            0.82873           0.84483   \n",
       "4                0.87866            0.82597           0.86330   \n",
       "5                0.88926            0.84293           0.88276   \n",
       "6                0.88562            0.81281           0.86249   \n",
       "7                0.89974            0.81806           0.88123   \n",
       "8                0.94185            0.85635           0.90279   \n",
       "9                0.89874            0.85810           0.89501   \n",
       "10               0.88984            0.81768           0.88247   \n",
       "11               0.90351            0.85360           0.89291   \n",
       "12               0.93060            0.85194           0.90723   \n",
       "13               0.91425            0.87017           0.91175   \n",
       "14               0.93206            0.87170           0.91483   \n",
       "15               0.91459            0.82873           0.89865   \n",
       "16               0.90092            0.89227           0.91203   \n",
       "17               0.89484            0.87569           0.91829   \n",
       "18               0.91762            0.89237           0.91519   \n",
       "19               0.92004            0.88398           0.92138   \n",
       "20               0.92983            0.84254           0.91628   \n",
       "21               0.87778            0.87294           0.92178   \n",
       "22               0.92974            0.87729           0.92703   \n",
       "23               0.88638            0.90331           0.93584   \n",
       "24               0.91486            0.86077           0.92468   \n",
       "25               0.94244            0.87017           0.93339   \n",
       "26               0.93404            0.84254           0.91397   \n",
       "27               0.91752            0.86041           0.92917   \n",
       "28               0.90519            0.86188           0.91763   \n",
       "29               0.94026            0.88122           0.93259   \n",
       "30               0.95719            0.86473           0.93407   \n",
       "31               0.91938            0.88207           0.93256   \n",
       "32               0.92441            0.88398           0.93220   \n",
       "33               0.91614            0.90055           0.93453   \n",
       "34               0.93565            0.88365           0.92865   \n",
       "35               0.94232            0.85752           0.92861   \n",
       "36               0.93781            0.86464           0.93175   \n",
       "37               0.94274            0.87293           0.94033   \n",
       "38               0.89276            0.91989           0.94020   \n",
       "39               0.93023            0.88390           0.94303   \n",
       "40               0.94424            0.88874           0.93223   \n",
       "41               0.91507            0.89503           0.94234   \n",
       "42               0.94589            0.86914           0.94134   \n",
       "43               0.92905            0.89503           0.93948   \n",
       "44               0.90556            0.90608           0.94718   \n",
       "45               0.89928            0.91255           0.93674   \n",
       "46               0.97143            0.84535           0.93818   \n",
       "47               0.92283            0.91989           0.95697   \n",
       "48               0.92438            0.91173           0.95466   \n",
       "49               0.92439            0.89503           0.94906   \n",
       "50               0.94023            0.86740           0.94349   \n",
       "51               0.95334            0.84669           0.92727   \n",
       "52               0.93092            0.87017           0.93461   \n",
       "53               0.95773            0.87626           0.94049   \n",
       "54               0.92401            0.90331           0.95185   \n",
       "55               0.92368            0.90269           0.95338   \n",
       "56               0.93225            0.90608           0.95788   \n",
       "57               0.89793            0.91713           0.95525   \n",
       "\n",
       "    metrics/mAP50-95(B)  val/box_loss  val/cls_loss  val/dfl_loss    lr/pg0  \\\n",
       "0               0.49691       1.16135       1.41043       1.37551  0.000664   \n",
       "1               0.57584       1.04713       1.29217       1.25514  0.001318   \n",
       "2               0.61019       0.95966       0.88772       1.19697  0.001958   \n",
       "3               0.62366       0.98856       0.80684       1.18422  0.001941   \n",
       "4               0.60810       1.00340       0.73188       1.20598  0.001921   \n",
       "5               0.66772       0.93437       0.65269       1.16236  0.001901   \n",
       "6               0.63525       0.94674       0.78779       1.15482  0.001881   \n",
       "7               0.66109       0.87685       0.70493       1.15583  0.001861   \n",
       "8               0.68057       0.90936       0.59504       1.13064  0.001842   \n",
       "9               0.68420       0.86295       0.59679       1.10322  0.001822   \n",
       "10              0.66090       0.89803       0.64214       1.11470  0.001802   \n",
       "11              0.67475       0.87085       0.59157       1.11126  0.001782   \n",
       "12              0.70783       0.83588       0.54958       1.07986  0.001762   \n",
       "13              0.69945       0.83773       0.53198       1.11329  0.001743   \n",
       "14              0.70708       0.83384       0.50101       1.10849  0.001723   \n",
       "15              0.69229       0.85857       0.57011       1.09540  0.001703   \n",
       "16              0.69947       0.84290       0.51215       1.09158  0.001683   \n",
       "17              0.70438       0.83941       0.51151       1.07252  0.001663   \n",
       "18              0.70597       0.79637       0.48978       1.07643  0.001644   \n",
       "19              0.71245       0.81757       0.49651       1.10220  0.001624   \n",
       "20              0.70774       0.83854       0.52532       1.09921  0.001604   \n",
       "21              0.70590       0.82556       0.54430       1.10313  0.001584   \n",
       "22              0.71648       0.81912       0.46670       1.06936  0.001564   \n",
       "23              0.72757       0.84406       0.46577       1.08030  0.001545   \n",
       "24              0.71085       0.80879       0.51045       1.07979  0.001525   \n",
       "25              0.72176       0.79909       0.50467       1.08505  0.001505   \n",
       "26              0.72855       0.79438       0.47946       1.06730  0.001485   \n",
       "27              0.71924       0.80085       0.49541       1.07394  0.001465   \n",
       "28              0.72059       0.79062       0.46601       1.06023  0.001446   \n",
       "29              0.72076       0.79468       0.44887       1.06256  0.001426   \n",
       "30              0.72495       0.81068       0.49602       1.06946  0.001406   \n",
       "31              0.72640       0.80112       0.47158       1.05501  0.001386   \n",
       "32              0.73260       0.78508       0.45605       1.06632  0.001366   \n",
       "33              0.72726       0.79340       0.45312       1.06557  0.001347   \n",
       "34              0.72635       0.80261       0.48985       1.06586  0.001327   \n",
       "35              0.73047       0.79257       0.47707       1.07070  0.001307   \n",
       "36              0.71948       0.81639       0.46151       1.08590  0.001287   \n",
       "37              0.74101       0.76465       0.44210       1.04522  0.001267   \n",
       "38              0.72838       0.79781       0.45392       1.08004  0.001248   \n",
       "39              0.74922       0.77306       0.43013       1.05602  0.001228   \n",
       "40              0.73494       0.78437       0.43439       1.07260  0.001208   \n",
       "41              0.74723       0.75043       0.42802       1.05250  0.001188   \n",
       "42              0.75121       0.76409       0.41651       1.05820  0.001168   \n",
       "43              0.73806       0.76898       0.43071       1.06058  0.001149   \n",
       "44              0.75124       0.78645       0.43934       1.06917  0.001129   \n",
       "45              0.74327       0.77357       0.42903       1.06439  0.001109   \n",
       "46              0.74272       0.76425       0.42600       1.06191  0.001089   \n",
       "47              0.76254       0.78182       0.39844       1.05879  0.001069   \n",
       "48              0.74716       0.79849       0.42810       1.07660  0.001050   \n",
       "49              0.75612       0.72637       0.42050       1.04158  0.001030   \n",
       "50              0.73524       0.81493       0.47627       1.07577  0.001010   \n",
       "51              0.73752       0.77235       0.42564       1.05784  0.000990   \n",
       "52              0.75296       0.75589       0.41594       1.05677  0.000970   \n",
       "53              0.74831       0.79234       0.41672       1.07434  0.000951   \n",
       "54              0.75443       0.75260       0.40220       1.04596  0.000931   \n",
       "55              0.76027       0.74391       0.41502       1.05146  0.000911   \n",
       "56              0.75960       0.77092       0.40347       1.05601  0.000891   \n",
       "57              0.76241       0.75116       0.41282       1.04697  0.000871   \n",
       "\n",
       "      lr/pg1    lr/pg2  \n",
       "0   0.000664  0.000664  \n",
       "1   0.001318  0.001318  \n",
       "2   0.001958  0.001958  \n",
       "3   0.001941  0.001941  \n",
       "4   0.001921  0.001921  \n",
       "5   0.001901  0.001901  \n",
       "6   0.001881  0.001881  \n",
       "7   0.001861  0.001861  \n",
       "8   0.001842  0.001842  \n",
       "9   0.001822  0.001822  \n",
       "10  0.001802  0.001802  \n",
       "11  0.001782  0.001782  \n",
       "12  0.001762  0.001762  \n",
       "13  0.001743  0.001743  \n",
       "14  0.001723  0.001723  \n",
       "15  0.001703  0.001703  \n",
       "16  0.001683  0.001683  \n",
       "17  0.001663  0.001663  \n",
       "18  0.001644  0.001644  \n",
       "19  0.001624  0.001624  \n",
       "20  0.001604  0.001604  \n",
       "21  0.001584  0.001584  \n",
       "22  0.001564  0.001564  \n",
       "23  0.001545  0.001545  \n",
       "24  0.001525  0.001525  \n",
       "25  0.001505  0.001505  \n",
       "26  0.001485  0.001485  \n",
       "27  0.001465  0.001465  \n",
       "28  0.001446  0.001446  \n",
       "29  0.001426  0.001426  \n",
       "30  0.001406  0.001406  \n",
       "31  0.001386  0.001386  \n",
       "32  0.001366  0.001366  \n",
       "33  0.001347  0.001347  \n",
       "34  0.001327  0.001327  \n",
       "35  0.001307  0.001307  \n",
       "36  0.001287  0.001287  \n",
       "37  0.001267  0.001267  \n",
       "38  0.001248  0.001248  \n",
       "39  0.001228  0.001228  \n",
       "40  0.001208  0.001208  \n",
       "41  0.001188  0.001188  \n",
       "42  0.001168  0.001168  \n",
       "43  0.001149  0.001149  \n",
       "44  0.001129  0.001129  \n",
       "45  0.001109  0.001109  \n",
       "46  0.001089  0.001089  \n",
       "47  0.001069  0.001069  \n",
       "48  0.001050  0.001050  \n",
       "49  0.001030  0.001030  \n",
       "50  0.001010  0.001010  \n",
       "51  0.000990  0.000990  \n",
       "52  0.000970  0.000970  \n",
       "53  0.000951  0.000951  \n",
       "54  0.000931  0.000931  \n",
       "55  0.000911  0.000911  \n",
       "56  0.000891  0.000891  \n",
       "57  0.000871  0.000871  "
      ]
     },
     "execution_count": 7,
     "metadata": {},
     "output_type": "execute_result"
    }
   ],
   "source": [
    "import pandas as pd\n",
    "results_df = pd.read_csv('/root/YOLO_GOLF/runs/detect/yolov8n_golf_ball_100epoch_10patience_8batch/results.csv')\n",
    "results_df"
   ]
  },
  {
   "cell_type": "code",
   "execution_count": 6,
   "metadata": {},
   "outputs": [
    {
     "name": "stdout",
     "output_type": "stream",
     "text": [
      "\n",
      "image 1/1 /root/YOLO_GOLF/GolfBallDetector-10/test/images/6ced8d90b264f0ac_jpg.rf.d6f2a323158e8412ae30ee43542f1a4a.jpg: 640x640 2 golfballs, 82.4ms\n",
      "Speed: 1.8ms preprocess, 82.4ms inference, 0.9ms postprocess per image at shape (1, 3, 640, 640)\n"
     ]
    },
    {
     "data": {
      "text/plain": [
       "[ultralytics.engine.results.Results object with attributes:\n",
       " \n",
       " boxes: ultralytics.engine.results.Boxes object\n",
       " keypoints: None\n",
       " masks: None\n",
       " names: {0: 'golfball'}\n",
       " obb: None\n",
       " orig_img: array([[[201, 171, 144],\n",
       "         [202, 173, 146],\n",
       "         [204, 175, 148],\n",
       "         ...,\n",
       "         [186, 164, 129],\n",
       "         [186, 164, 129],\n",
       "         [184, 162, 127]],\n",
       " \n",
       "        [[206, 176, 151],\n",
       "         [207, 178, 151],\n",
       "         [207, 180, 154],\n",
       "         ...,\n",
       "         [184, 162, 127],\n",
       "         [186, 161, 127],\n",
       "         [185, 163, 128]],\n",
       " \n",
       "        [[211, 183, 159],\n",
       "         [211, 186, 160],\n",
       "         [212, 186, 162],\n",
       "         ...,\n",
       "         [183, 159, 123],\n",
       "         [187, 161, 125],\n",
       "         [188, 164, 128]],\n",
       " \n",
       "        ...,\n",
       " \n",
       "        [[ 33,  47,  45],\n",
       "         [ 34,  48,  46],\n",
       "         [ 37,  51,  49],\n",
       "         ...,\n",
       "         [ 22,  79,  58],\n",
       "         [ 21,  78,  57],\n",
       "         [ 21,  78,  57]],\n",
       " \n",
       "        [[ 29,  43,  41],\n",
       "         [ 29,  43,  41],\n",
       "         [ 29,  43,  41],\n",
       "         ...,\n",
       "         [ 24,  81,  60],\n",
       "         [ 23,  80,  59],\n",
       "         [ 22,  79,  58]],\n",
       " \n",
       "        [[ 42,  56,  54],\n",
       "         [ 39,  53,  51],\n",
       "         [ 34,  48,  46],\n",
       "         ...,\n",
       "         [ 25,  82,  61],\n",
       "         [ 24,  81,  60],\n",
       "         [ 22,  79,  58]]], dtype=uint8)\n",
       " orig_shape: (640, 640)\n",
       " path: '/root/YOLO_GOLF/GolfBallDetector-10/test/images/6ced8d90b264f0ac_jpg.rf.d6f2a323158e8412ae30ee43542f1a4a.jpg'\n",
       " probs: None\n",
       " save_dir: 'runs/detect/yolov8n_golf_ball_100epoch_10patience2'\n",
       " speed: {'preprocess': 1.7659664154052734, 'inference': 82.41558074951172, 'postprocess': 0.9365081787109375}]"
      ]
     },
     "execution_count": 6,
     "metadata": {},
     "output_type": "execute_result"
    }
   ],
   "source": [
    "# 이미지에 대한 예측 수행\n",
    "results = model.predict('/root/YOLO_GOLF/GolfBallDetector-10/test/images/6ced8d90b264f0ac_jpg.rf.d6f2a323158e8412ae30ee43542f1a4a.jpg', conf=0.25)\n",
    "results"
   ]
  }
 ],
 "metadata": {
  "kernelspec": {
   "display_name": "YOLO",
   "language": "python",
   "name": "python3"
  },
  "language_info": {
   "codemirror_mode": {
    "name": "ipython",
    "version": 3
   },
   "file_extension": ".py",
   "mimetype": "text/x-python",
   "name": "python",
   "nbconvert_exporter": "python",
   "pygments_lexer": "ipython3",
   "version": "3.9.20"
  }
 },
 "nbformat": 4,
 "nbformat_minor": 2
}
